{
 "cells": [
  {
   "cell_type": "markdown",
   "id": "a5782915",
   "metadata": {},
   "source": [
    "# 🌟 NumPy -- Numerical Python 🌟  \n",
    "  \n",
    "<div>\n",
    "<img src=\"https://i.postimg.cc/bvxpFgty/data.png\" width=\"700\"/>\n",
    "</div>\n",
    "\n",
    "One of the most important foundational package for numerical computing in Python.\n",
    "\n",
    "* ndarray: multi-dimensional array\n",
    "* mathematical functions\n",
    "* linear algebra, random number generation, and so on  \n",
    "\n",
    "NumPy based algorithes are generally 10 to 100 faster (or more) than pure Python algorithms"
   ]
  },
  {
   "cell_type": "markdown",
   "id": "254228f0",
   "metadata": {},
   "source": [
    "### Differences between lists and NumPy Arrays\n",
    "* An array's size is immutable. You cannot append, insert or remove elements, like you can with a list.\n",
    "* All of an array's elements must be of the same data type.\n",
    "* A NumPy array behaves in a Pythonic fashion. You can len(my_array) just like you would assume.\n",
    "\n",
    ">💥Numpy arrays are memory efficient."
   ]
  },
  {
   "cell_type": "code",
   "execution_count": 1,
   "id": "a9cab0b8",
   "metadata": {
    "ExecuteTime": {
     "end_time": "2022-07-14T05:08:50.945975Z",
     "start_time": "2022-07-14T05:08:50.943098Z"
    }
   },
   "outputs": [],
   "source": [
    "import warnings \n",
    "warnings.filterwarnings('ignore')"
   ]
  },
  {
   "cell_type": "code",
   "execution_count": 2,
   "id": "42d2ca3e",
   "metadata": {
    "ExecuteTime": {
     "end_time": "2022-07-14T05:54:56.398996Z",
     "start_time": "2022-07-14T05:54:56.148226Z"
    }
   },
   "outputs": [],
   "source": [
    "import numpy as np\n",
    "import matplotlib.pyplot as plt\n",
    "%matplotlib inline"
   ]
  },
  {
   "cell_type": "code",
   "execution_count": 3,
   "id": "803c6f73",
   "metadata": {
    "ExecuteTime": {
     "end_time": "2022-07-14T05:09:07.480301Z",
     "start_time": "2022-07-14T05:08:52.619595Z"
    }
   },
   "outputs": [
    {
     "name": "stdout",
     "output_type": "stream",
     "text": [
      "18.3 ms ± 120 µs per loop (mean ± std. dev. of 7 runs, 100 loops each)\n"
     ]
    }
   ],
   "source": [
    "L = range(100000)\n",
    "%timeit [i**2 for i in L]"
   ]
  },
  {
   "cell_type": "code",
   "execution_count": 4,
   "id": "ace6e8bb",
   "metadata": {
    "ExecuteTime": {
     "end_time": "2022-07-14T05:09:10.376298Z",
     "start_time": "2022-07-14T05:09:07.481544Z"
    }
   },
   "outputs": [
    {
     "name": "stdout",
     "output_type": "stream",
     "text": [
      "35.4 µs ± 170 ns per loop (mean ± std. dev. of 7 runs, 10,000 loops each)\n"
     ]
    }
   ],
   "source": [
    "a = np.arange(100000)\n",
    "%timeit a**2  # This operation is called Broadcasting\n"
   ]
  },
  {
   "cell_type": "code",
   "execution_count": 5,
   "id": "6cd4f641",
   "metadata": {},
   "outputs": [
    {
     "name": "stdout",
     "output_type": "stream",
     "text": [
      "16.3 ms ± 383 µs per loop (mean ± std. dev. of 7 runs, 100 loops each)\n"
     ]
    }
   ],
   "source": [
    "a = np.arange(100000)\n",
    "%timeit [element**2 for element in a]"
   ]
  },
  {
   "cell_type": "markdown",
   "id": "c4fd8b04",
   "metadata": {},
   "source": [
    "### Numpy Array (ndarry) can have multi-dimension\n",
    "![numpy_array](https://i.postimg.cc/sgSrvmKY/numpyarray2.png)"
   ]
  },
  {
   "cell_type": "markdown",
   "id": "9421904a",
   "metadata": {},
   "source": [
    "## Creating N-dimensional NumPy arrays\n",
    "There are a number of ways to initialize new numpy arrays, for example from\n",
    "\n",
    "* a Python list or tuples\n",
    "* using functions that are dedicated to generating numpy arrays, such as `numpy.arange`, `numpy.linspace`, etc.\n",
    "* reading data from files"
   ]
  },
  {
   "cell_type": "markdown",
   "id": "618f3587",
   "metadata": {},
   "source": [
    "From Lists:  \n",
    "To create new vector and matrix arrays using Python lists we can use the `numpy.array()` function."
   ]
  },
  {
   "cell_type": "code",
   "execution_count": 6,
   "id": "cd450634",
   "metadata": {},
   "outputs": [
    {
     "data": {
      "text/plain": [
       "(array([1, 2, 3, 4]), dtype('int32'))"
      ]
     },
     "execution_count": 6,
     "metadata": {},
     "output_type": "execute_result"
    }
   ],
   "source": [
    "lst = [1,2,3,4.0]\n",
    "vector = np.array(lst, dtype=np.int32)\n",
    "vector , vector.dtype"
   ]
  },
  {
   "cell_type": "markdown",
   "id": "d9337335",
   "metadata": {},
   "source": [
    "* A 2-d array out of a nested list."
   ]
  },
  {
   "cell_type": "code",
   "execution_count": 7,
   "id": "1bfa0a43",
   "metadata": {},
   "outputs": [
    {
     "data": {
      "text/plain": [
       "(array([[ 1,  2,  3,  4,  5],\n",
       "        [ 6,  7,  8,  9, 10]]),\n",
       " (2, 5))"
      ]
     },
     "execution_count": 7,
     "metadata": {},
     "output_type": "execute_result"
    }
   ],
   "source": [
    "vector_2D = np.array([[1,2,3,4,5],[6,7,8,9,10]])\n",
    "vector_2D, vector_2D.shape"
   ]
  },
  {
   "cell_type": "markdown",
   "id": "f0bbafcc",
   "metadata": {},
   "source": [
    "NumPy provides many functions for generating arrays. Some of them are:\n",
    "\n",
    "* **numpy.arange()** - similar to `range()`function in python. we can create an array within a floating point step-wise range\n",
    "* **numpy.linspace()** - create an evenly spaced sequence in a specified interval\n",
    "* **numpy.random()** - create an array with random values\n",
    "* **numpy.zeros()** - create an array of zeros\n",
    "* **numpy.ones()** - create an array of ones\n",
    "* **numpy.eye()** - create Identity Matrix "
   ]
  },
  {
   "cell_type": "code",
   "execution_count": 3,
   "id": "4949397a",
   "metadata": {
    "ExecuteTime": {
     "end_time": "2022-07-14T05:55:00.471484Z",
     "start_time": "2022-07-14T05:55:00.460265Z"
    }
   },
   "outputs": [
    {
     "name": "stdout",
     "output_type": "stream",
     "text": [
      "Array of ones:\n",
      "[[1. 1. 1. 1.]\n",
      " [1. 1. 1. 1.]\n",
      " [1. 1. 1. 1.]]\n",
      "\n",
      "Array of zeros:\n",
      "[[0 0 0]\n",
      " [0 0 0]]\n",
      "\n",
      "Array with random values:\n",
      "[[0.05742708 0.47447352]\n",
      " [0.71233927 0.73001898]]\n",
      "\n",
      "Array of evenly-spaced values:\n",
      "[10.  10.5 11.  11.5 12.  12.5 13.  13.5 14.  14.5]\n",
      "\n",
      "Array of evenly-spaced values:\n",
      "[0.   0.25 0.5  0.75 1.   1.25 1.5  1.75 2.  ]\n",
      "\n",
      "Identity matrix:\n",
      "[[1. 0. 0. 0.]\n",
      " [0. 1. 0. 0.]\n",
      " [0. 0. 1. 0.]\n",
      " [0. 0. 0. 1.]]\n"
     ]
    }
   ],
   "source": [
    "print(\"Array of ones:\")\n",
    "print(np.ones((3, 4)))\n",
    "\n",
    "print(\"\\nArray of zeros:\")\n",
    "print(np.zeros((2, 3), dtype=np.int16))\n",
    "\n",
    "print(\"\\nArray with random values:\")\n",
    "print(np.random.random((2, 2)))\n",
    "\n",
    "print(\"\\nArray of evenly-spaced values:\")\n",
    "print(np.arange(10, 15, 0.5))\n",
    "\n",
    "print(\"\\nArray of evenly-spaced values:\")\n",
    "print(np.linspace(0, 2, 9))\n",
    "\n",
    "print(\"\\nIdentity matrix:\")\n",
    "print(np.eye(4))"
   ]
  },
  {
   "cell_type": "markdown",
   "id": "4163b15b",
   "metadata": {},
   "source": [
    "### Random Number Generation\n",
    "NumPy offers the random module to work with random numbers."
   ]
  },
  {
   "cell_type": "code",
   "execution_count": 4,
   "id": "6921fb49",
   "metadata": {
    "ExecuteTime": {
     "end_time": "2022-07-14T05:55:39.960125Z",
     "start_time": "2022-07-14T05:55:39.957250Z"
    }
   },
   "outputs": [],
   "source": [
    "from numpy import random"
   ]
  },
  {
   "cell_type": "markdown",
   "id": "e28cd5a3",
   "metadata": {},
   "source": [
    "* **rand()**\tRandom values in a given shape.\n",
    "* **randn()**\tReturn a sample (or samples) from the “standard normal” distribution.\n",
    "* **randint()**\tReturn random integers from low (inclusive) to high (exclusive).\n",
    "* **random()**\tReturn random floats in the half-open interval [0.0, 1.0).\n",
    "* **seed()**  init random gen"
   ]
  },
  {
   "cell_type": "code",
   "execution_count": 5,
   "id": "ae0131fe",
   "metadata": {
    "ExecuteTime": {
     "end_time": "2022-07-14T05:56:54.101111Z",
     "start_time": "2022-07-14T05:56:54.091916Z"
    },
    "scrolled": true
   },
   "outputs": [
    {
     "data": {
      "text/plain": [
       "array([0.4359949 , 0.02592623, 0.54966248, ..., 0.42048616, 0.30789564,\n",
       "       0.87024385])"
      ]
     },
     "execution_count": 5,
     "metadata": {},
     "output_type": "execute_result"
    }
   ],
   "source": [
    "np.random.seed(2)\n",
    "\n",
    "arr = np.random.rand(100000)\n",
    "arr"
   ]
  },
  {
   "cell_type": "code",
   "execution_count": 6,
   "id": "2e6f2764",
   "metadata": {
    "ExecuteTime": {
     "end_time": "2022-07-14T05:56:55.297987Z",
     "start_time": "2022-07-14T05:56:55.179914Z"
    }
   },
   "outputs": [
    {
     "data": {
      "image/png": "[encoded data removed]",
      "text/plain": [
       "<Figure size 432x288 with 1 Axes>"
      ]
     },
     "metadata": {
      "needs_background": "light"
     },
     "output_type": "display_data"
    }
   ],
   "source": [
    "plt.hist(arr)\n",
    "plt.show()"
   ]
  },
  {
   "cell_type": "code",
   "execution_count": 7,
   "id": "d2e19092",
   "metadata": {
    "ExecuteTime": {
     "end_time": "2022-07-14T05:59:19.786565Z",
     "start_time": "2022-07-14T05:59:19.778377Z"
    }
   },
   "outputs": [
    {
     "data": {
      "text/plain": [
       "array([-0.0062144 ,  0.20880003, -1.40890347, ..., -0.68039935,\n",
       "        0.46429007,  1.41029068])"
      ]
     },
     "execution_count": 7,
     "metadata": {},
     "output_type": "execute_result"
    }
   ],
   "source": [
    "arrn = np.random.randn(100000)\n",
    "arrn"
   ]
  },
  {
   "cell_type": "code",
   "execution_count": 7,
   "id": "1c6fa056",
   "metadata": {
    "ExecuteTime": {
     "end_time": "2022-07-14T05:10:23.601146Z",
     "start_time": "2022-07-14T05:10:23.597991Z"
    }
   },
   "outputs": [
    {
     "data": {
      "text/plain": [
       "array([-0.1081674 ,  0.59604824,  0.32488132,  0.9837528 , -0.86198996,\n",
       "       -0.06763168, -1.87148643, -0.656904  ,  0.77754437,  0.21071565])"
      ]
     },
     "execution_count": 7,
     "metadata": {},
     "output_type": "execute_result"
    }
   ],
   "source": [
    "np.random.randn(10)"
   ]
  },
  {
   "cell_type": "code",
   "execution_count": 9,
   "id": "c28d05d8",
   "metadata": {
    "ExecuteTime": {
     "end_time": "2022-07-14T05:59:41.566234Z",
     "start_time": "2022-07-14T05:59:41.391090Z"
    },
    "scrolled": true
   },
   "outputs": [
    {
     "data": {
      "image/png": "[encoded data removed]",
      "text/plain": [
       "<Figure size 432x288 with 1 Axes>"
      ]
     },
     "metadata": {
      "needs_background": "light"
     },
     "output_type": "display_data"
    }
   ],
   "source": [
    "plt.hist(arrn, bins=100)\n",
    "plt.show()"
   ]
  },
  {
   "cell_type": "code",
   "execution_count": null,
   "id": "95f74623",
   "metadata": {},
   "outputs": [],
   "source": [
    "# for mean 3 and standard deviation 2.5\n",
    "3 + 2.5 * np.random.randn(2, 4)"
   ]
  },
  {
   "cell_type": "markdown",
   "id": "4438f0dd",
   "metadata": {},
   "source": [
    "### NumPy Array Attributes\n",
    "The most important attributes of an ndarray object are:\n",
    "\n",
    "<!-- * **ndarray.ndim** - the number of axes (dimensions) of the array. -->\n",
    "* **ndarray.shape** - the dimensions of the array. For a matrix with n rows and m columns, shape will be (n,m).\n",
    "* **ndarray.size** - the total number of elements of the array.\n",
    "* **ndarray.dtype** - numpy.int32, numpy.int16, and numpy.float64 are some examples."
   ]
  },
  {
   "cell_type": "code",
   "execution_count": 9,
   "id": "dd0251e7",
   "metadata": {
    "ExecuteTime": {
     "end_time": "2022-07-14T05:17:09.728422Z",
     "start_time": "2022-07-14T05:17:09.724941Z"
    }
   },
   "outputs": [
    {
     "data": {
      "text/plain": [
       "array([[1, 2, 3],\n",
       "       [4, 5, 6],\n",
       "       [7, 8, 9]])"
      ]
     },
     "execution_count": 9,
     "metadata": {},
     "output_type": "execute_result"
    }
   ],
   "source": [
    "arr = np.array([[1,2,3],[4,5,6],[7,8,9]])\n",
    "arr"
   ]
  },
  {
   "cell_type": "code",
   "execution_count": 12,
   "id": "255dff41",
   "metadata": {
    "ExecuteTime": {
     "end_time": "2022-07-14T05:17:59.875872Z",
     "start_time": "2022-07-14T05:17:59.867658Z"
    }
   },
   "outputs": [
    {
     "name": "stdout",
     "output_type": "stream",
     "text": [
      "numpy array :\n",
      " [[1 2 3]\n",
      " [4 5 6]\n",
      " [7 8 9]]\n",
      "\n",
      "===> shape of array: (3, 3)\n",
      "===> size of array:9\n",
      "===> data type of the elements of array:int64\n"
     ]
    }
   ],
   "source": [
    "# ndim = arr.ndim\n",
    "shape = arr.shape\n",
    "size = arr.size\n",
    "dtype = arr.dtype\n",
    "print(f'numpy array :\\n {arr}\\n\\n===> shape of array: {shape}\\n===> size of array:{size}\\n===> data type of the elements of array:{dtype}')"
   ]
  },
  {
   "cell_type": "markdown",
   "id": "c33300e0",
   "metadata": {},
   "source": [
    "### NumPy Array Methods\n",
    "\n",
    "Let's discuss some useful methods of numpy array:\n",
    "* **reshape()** : Returns an array containing the same data with a new shape.  \n",
    "These are useful methods for finding max, min or mean values. Or to find their index locations using argmin or argmax:\n",
    "  * **min()**\n",
    "  * **max()**\n",
    "  * **argmax()**\n",
    "  * **argmin()**\n",
    "  * **mean()**"
   ]
  },
  {
   "cell_type": "code",
   "execution_count": 13,
   "id": "b0b8aa66",
   "metadata": {
    "ExecuteTime": {
     "end_time": "2022-07-14T05:18:09.900305Z",
     "start_time": "2022-07-14T05:18:09.891849Z"
    },
    "scrolled": true
   },
   "outputs": [
    {
     "name": "stdout",
     "output_type": "stream",
     "text": [
      "new array after reshaping:\n",
      "[[ 1  2  3]\n",
      " [ 4  5  6]\n",
      " [ 7  8  9]\n",
      " [10 11 12]]\n",
      "\n",
      "===>maximum value in the array: 12\n",
      "===>minimum value in the array: 1\n",
      "===>mean value of the array: 6.5\n",
      "===>location of the maximum value in the array: 11\n",
      "===>location of minimum value in the array: 0\n"
     ]
    }
   ],
   "source": [
    "arr = np.array([1, 2, 3, 4, 5, 6, 7, 8, 9, 10, 11, 12])\n",
    "newarr = arr.reshape(4, 3)\n",
    "print(f\"new array after reshaping:\\n{newarr}\")\n",
    "print(f\"\\n===>maximum value in the array: {newarr.max()}\\n===>minimum value in the array: {newarr.min()}\\n===>mean value of the array: {newarr.mean()}\\n===>location of the maximum value in the array: {newarr.argmax()}\\n===>location of minimum value in the array: {newarr.argmin()}\")"
   ]
  },
  {
   "cell_type": "markdown",
   "id": "b51e131e",
   "metadata": {},
   "source": [
    "### more on reshape method in numpy  \n",
    "numpy.reshape(a, newshape)  \n",
    "* **a:** arraylike Array to be reshaped\n",
    "* **newshape:** int or tuples of ints Should be compatible with the original shape. If an integer, then the result will be a 1-D array of that length. One shape dimension can be -1. In this case, the value is inferred from the length of the array and remaining dimensions.\n",
    "\n",
    "![reshape](https://i.postimg.cc/g0dfrWxp/np-reshape.png)"
   ]
  },
  {
   "cell_type": "code",
   "execution_count": 12,
   "id": "b2817867",
   "metadata": {
    "ExecuteTime": {
     "end_time": "2022-07-14T06:12:18.220577Z",
     "start_time": "2022-07-14T06:12:18.216669Z"
    }
   },
   "outputs": [
    {
     "data": {
      "text/plain": [
       "array([ 0,  1,  2,  3,  4,  5,  6,  7,  8,  9, 10, 11, 12, 13, 14, 15, 16,\n",
       "       17, 18, 19, 20, 21, 22, 23, 24, 25, 26, 27, 28, 29, 30, 31])"
      ]
     },
     "execution_count": 12,
     "metadata": {},
     "output_type": "execute_result"
    }
   ],
   "source": [
    "num_array = np.arange(32)\n",
    "num_array"
   ]
  },
  {
   "cell_type": "code",
   "execution_count": 14,
   "id": "2a8f63d0",
   "metadata": {
    "ExecuteTime": {
     "end_time": "2022-07-14T06:12:30.225152Z",
     "start_time": "2022-07-14T06:12:30.218763Z"
    },
    "collapsed": true
   },
   "outputs": [
    {
     "data": {
      "text/plain": [
       "array([[ 0,  1],\n",
       "       [ 2,  3],\n",
       "       [ 4,  5],\n",
       "       [ 6,  7],\n",
       "       [ 8,  9],\n",
       "       [10, 11],\n",
       "       [12, 13],\n",
       "       [14, 15],\n",
       "       [16, 17],\n",
       "       [18, 19],\n",
       "       [20, 21],\n",
       "       [22, 23],\n",
       "       [24, 25],\n",
       "       [26, 27],\n",
       "       [28, 29],\n",
       "       [30, 31]])"
      ]
     },
     "execution_count": 14,
     "metadata": {},
     "output_type": "execute_result"
    }
   ],
   "source": [
    "np.reshape(num_array, (16,2))"
   ]
  },
  {
   "cell_type": "code",
   "execution_count": 15,
   "id": "a9579827",
   "metadata": {
    "ExecuteTime": {
     "end_time": "2022-07-14T06:12:35.881576Z",
     "start_time": "2022-07-14T06:12:35.874612Z"
    }
   },
   "outputs": [
    {
     "data": {
      "text/plain": [
       "array([[ 0,  1,  2,  3],\n",
       "       [ 4,  5,  6,  7],\n",
       "       [ 8,  9, 10, 11],\n",
       "       [12, 13, 14, 15],\n",
       "       [16, 17, 18, 19],\n",
       "       [20, 21, 22, 23],\n",
       "       [24, 25, 26, 27],\n",
       "       [28, 29, 30, 31]])"
      ]
     },
     "execution_count": 15,
     "metadata": {},
     "output_type": "execute_result"
    }
   ],
   "source": [
    "np.reshape(num_array, (8,-1))"
   ]
  },
  {
   "cell_type": "markdown",
   "id": "f073707e",
   "metadata": {},
   "source": [
    "## Accessing Arrays - Slicing and Indexing\n",
    "\n",
    "* Numpy supports simple indexing (as in Python)\n",
    "* Additionally, fancy indexing methods\n",
    "  * Boolean indexing\n",
    "  * List indexing\n",
    "  \n",
    "### Simple Indexing\n",
    "As you expect it from Python:\n",
    "\n",
    "* [idx]\n",
    "* [begin:end:stepsize]\n",
    "  * Default values\n",
    "   * begin = 0\n",
    "   * end = last element\n",
    "   * stepsize = 1\n",
    "   * colons are optional\n",
    "* Negativ indizes are counted from the last element.\n",
    "  *-i is the short form of n - i with n begin the number of elements in the array"
   ]
  },
  {
   "cell_type": "code",
   "execution_count": 20,
   "id": "dbe9f70f",
   "metadata": {},
   "outputs": [
    {
     "name": "stdout",
     "output_type": "stream",
     "text": [
      "arr[3]: 4\n",
      "arr[2:5] : [ 1  4 64]\n",
      "arr[:2]: [0 9]\n",
      "arr[-2:]: [ 4 64]\n"
     ]
    }
   ],
   "source": [
    "arr = np.array([0, 9, 1, 4, 64])\n",
    "print(f\"arr[3]: {arr[3]}\")\n",
    "print(f\"arr[2:5] : {arr[2:5]}\")\n",
    "print(f\"arr[:2]: {arr[:2]}\")\n",
    "print(f\"arr[-2:]: {arr[-2:]}\")"
   ]
  },
  {
   "cell_type": "markdown",
   "id": "fa54fe52",
   "metadata": {},
   "source": [
    "### Indexing and Slicing with multiple dimensions"
   ]
  },
  {
   "cell_type": "code",
   "execution_count": 18,
   "id": "42962df4",
   "metadata": {
    "ExecuteTime": {
     "end_time": "2022-07-14T06:16:06.618616Z",
     "start_time": "2022-07-14T06:16:06.610993Z"
    }
   },
   "outputs": [
    {
     "data": {
      "text/plain": [
       "array([[ 0,  1,  2,  3,  4,  5,  6,  7],\n",
       "       [ 8,  9, 10, 11, 12, 13, 14, 15],\n",
       "       [16, 17, 18, 19, 20, 21, 22, 23],\n",
       "       [24, 25, 26, 27, 28, 29, 30, 31],\n",
       "       [32, 33, 34, 35, 36, 37, 38, 39]])"
      ]
     },
     "execution_count": 18,
     "metadata": {},
     "output_type": "execute_result"
    }
   ],
   "source": [
    "arr_2d = np.arange(0, 40, 1).reshape(5, 8)\n",
    "arr_2d"
   ]
  },
  {
   "cell_type": "markdown",
   "id": "66ddcdb4",
   "metadata": {},
   "source": [
    "get the first row"
   ]
  },
  {
   "cell_type": "code",
   "execution_count": 19,
   "id": "0cb04ef1",
   "metadata": {
    "ExecuteTime": {
     "end_time": "2022-07-14T06:16:38.573192Z",
     "start_time": "2022-07-14T06:16:38.565787Z"
    }
   },
   "outputs": [
    {
     "data": {
      "text/plain": [
       "array([0, 1, 2, 3, 4, 5, 6, 7])"
      ]
     },
     "execution_count": 19,
     "metadata": {},
     "output_type": "execute_result"
    }
   ],
   "source": [
    "arr_2d[0]"
   ]
  },
  {
   "cell_type": "code",
   "execution_count": 20,
   "id": "979b34bc",
   "metadata": {
    "ExecuteTime": {
     "end_time": "2022-07-14T06:16:44.913890Z",
     "start_time": "2022-07-14T06:16:44.908587Z"
    }
   },
   "outputs": [
    {
     "data": {
      "text/plain": [
       "21"
      ]
     },
     "execution_count": 20,
     "metadata": {},
     "output_type": "execute_result"
    }
   ],
   "source": [
    "arr_2d[2, -3]"
   ]
  },
  {
   "cell_type": "markdown",
   "id": "9bf82143",
   "metadata": {},
   "source": [
    "![indexing](https://i.postimg.cc/qqtFWB5s/indexing1.png)"
   ]
  },
  {
   "cell_type": "code",
   "execution_count": 24,
   "id": "3b570217",
   "metadata": {},
   "outputs": [
    {
     "data": {
      "text/plain": [
       "array([[ 0,  1,  2,  3,  4],\n",
       "       [ 8,  9, 10, 11, 12],\n",
       "       [16, 17, 18, 19, 20]])"
      ]
     },
     "execution_count": 24,
     "metadata": {},
     "output_type": "execute_result"
    }
   ],
   "source": [
    "arr_2d[:3, :5]"
   ]
  },
  {
   "cell_type": "markdown",
   "id": "307b2b27",
   "metadata": {},
   "source": [
    "![indexing](https://i.postimg.cc/MGdrTjk0/indexing2.png)"
   ]
  },
  {
   "cell_type": "code",
   "execution_count": 25,
   "id": "5dfad4b0",
   "metadata": {},
   "outputs": [
    {
     "data": {
      "text/plain": [
       "array([[21, 22, 23],\n",
       "       [29, 30, 31],\n",
       "       [37, 38, 39]])"
      ]
     },
     "execution_count": 25,
     "metadata": {},
     "output_type": "execute_result"
    }
   ],
   "source": [
    "arr_2d[-3:, -3:]"
   ]
  },
  {
   "cell_type": "markdown",
   "id": "f611fa0d",
   "metadata": {},
   "source": [
    "![indexing](https://i.postimg.cc/L4YRcmfQ/indexing3.png)"
   ]
  },
  {
   "cell_type": "code",
   "execution_count": 22,
   "id": "2324144a",
   "metadata": {
    "ExecuteTime": {
     "end_time": "2022-07-14T06:20:47.251377Z",
     "start_time": "2022-07-14T06:20:47.245935Z"
    }
   },
   "outputs": [
    {
     "data": {
      "text/plain": [
       "array([ 3, 11, 19, 27, 35])"
      ]
     },
     "execution_count": 22,
     "metadata": {},
     "output_type": "execute_result"
    }
   ],
   "source": [
    "arr_2d[:, 3]"
   ]
  },
  {
   "cell_type": "markdown",
   "id": "53aa61b8",
   "metadata": {},
   "source": [
    "![indexing](https://i.postimg.cc/mrpfnnrG/indexing4.png)"
   ]
  },
  {
   "cell_type": "code",
   "execution_count": 27,
   "id": "da6b2976",
   "metadata": {},
   "outputs": [
    {
     "data": {
      "text/plain": [
       "array([11, 12, 13])"
      ]
     },
     "execution_count": 27,
     "metadata": {},
     "output_type": "execute_result"
    }
   ],
   "source": [
    "arr_2d[1, 3:6]"
   ]
  },
  {
   "cell_type": "markdown",
   "id": "de77fef3",
   "metadata": {},
   "source": [
    "![indexing](https://i.postimg.cc/sgKtBL7Z/indexing5.png)"
   ]
  },
  {
   "cell_type": "code",
   "execution_count": 28,
   "id": "798b8dbf",
   "metadata": {},
   "outputs": [
    {
     "data": {
      "text/plain": [
       "array([[ 8, 11, 14],\n",
       "       [24, 27, 30]])"
      ]
     },
     "execution_count": 28,
     "metadata": {},
     "output_type": "execute_result"
    }
   ],
   "source": [
    "arr_2d[1::2, ::3]"
   ]
  },
  {
   "cell_type": "markdown",
   "id": "5350e324",
   "metadata": {},
   "source": [
    "![indexing](https://i.postimg.cc/63hRwCDw/indexing6.png)"
   ]
  },
  {
   "cell_type": "markdown",
   "id": "7ee335b5",
   "metadata": {},
   "source": [
    ">**⛔ NOTE:**A slice does not return a copy, which means that any modifications will be reflected in the source array."
   ]
  },
  {
   "cell_type": "code",
   "execution_count": 23,
   "id": "783ca45f",
   "metadata": {
    "ExecuteTime": {
     "end_time": "2022-07-14T06:24:36.969834Z",
     "start_time": "2022-07-14T06:24:36.965437Z"
    }
   },
   "outputs": [
    {
     "data": {
      "text/plain": [
       "array([ 0,  3,  1,  4, 64])"
      ]
     },
     "execution_count": 23,
     "metadata": {},
     "output_type": "execute_result"
    }
   ],
   "source": [
    "arr = np.array([0, 3, 1, 4, 64])\n",
    "subarr = arr[2:4].copy()\n",
    "subarr[1] = 9999\n",
    "arr"
   ]
  },
  {
   "cell_type": "markdown",
   "id": "543ba019",
   "metadata": {},
   "source": [
    "###  Boolean Indexing\n",
    "**Boolean indexing** allows you to select data subsets of an array that satisfy a given condition."
   ]
  },
  {
   "cell_type": "code",
   "execution_count": 24,
   "id": "686c6c35",
   "metadata": {
    "ExecuteTime": {
     "end_time": "2022-07-14T06:25:11.929835Z",
     "start_time": "2022-07-14T06:25:11.923927Z"
    }
   },
   "outputs": [
    {
     "data": {
      "text/plain": [
       "array([[ 0,  1,  2,  3,  4,  5,  6,  7],\n",
       "       [ 8,  9, 10, 11, 12, 13, 14, 15],\n",
       "       [16, 17, 18, 19, 20, 21, 22, 23],\n",
       "       [24, 25, 26, 27, 28, 29, 30, 31],\n",
       "       [32, 33, 34, 35, 36, 37, 38, 39]])"
      ]
     },
     "execution_count": 24,
     "metadata": {},
     "output_type": "execute_result"
    }
   ],
   "source": [
    "arr_2d = np.arange(0, 40, 1).reshape(5, 8)\n",
    "arr_2d"
   ]
  },
  {
   "cell_type": "code",
   "execution_count": 25,
   "id": "378dde59",
   "metadata": {
    "ExecuteTime": {
     "end_time": "2022-07-14T06:26:43.851836Z",
     "start_time": "2022-07-14T06:26:43.845747Z"
    }
   },
   "outputs": [],
   "source": [
    "constraint = arr_2d % 3 == 0"
   ]
  },
  {
   "cell_type": "code",
   "execution_count": 26,
   "id": "2348b893",
   "metadata": {
    "ExecuteTime": {
     "end_time": "2022-07-14T06:26:51.842603Z",
     "start_time": "2022-07-14T06:26:51.836983Z"
    }
   },
   "outputs": [
    {
     "data": {
      "text/plain": [
       "array([ 0,  3,  6,  9, 12, 15, 18, 21, 24, 27, 30, 33, 36, 39])"
      ]
     },
     "execution_count": 26,
     "metadata": {},
     "output_type": "execute_result"
    }
   ],
   "source": [
    "arr_2d[constraint]"
   ]
  },
  {
   "cell_type": "markdown",
   "id": "0f84430a",
   "metadata": {},
   "source": [
    "![indexing](https://i.postimg.cc/C5BFJgCt/indexing7.png)"
   ]
  },
  {
   "cell_type": "markdown",
   "id": "1637c9b1",
   "metadata": {},
   "source": [
    "### Mathematics with arrays\n",
    "One of the great advantages of Numpy arrays is that they allow one to very easily apply mathematical operations to entire arrays effortlessly.  "
   ]
  },
  {
   "cell_type": "markdown",
   "id": "90886c80",
   "metadata": {},
   "source": [
    "To illustrate how arrays are useful, let's first consider the following problem. You have a list:"
   ]
  },
  {
   "cell_type": "markdown",
   "id": "f1cc0a33",
   "metadata": {},
   "source": [
    "### Broadcasting\n",
    "Broadcasting is a powerful mechanism that allows numpy to work with arrays of different shapes, or arrays and scalars when performing arithmetic operations."
   ]
  },
  {
   "cell_type": "code",
   "execution_count": 27,
   "id": "ed9bd153",
   "metadata": {
    "ExecuteTime": {
     "end_time": "2022-07-14T06:27:19.611796Z",
     "start_time": "2022-07-14T06:27:19.592528Z"
    },
    "scrolled": true
   },
   "outputs": [
    {
     "ename": "TypeError",
     "evalue": "can only concatenate list (not \"int\") to list",
     "output_type": "error",
     "traceback": [
      "\u001b[0;31m---------------------------------------------------------------------------\u001b[0m",
      "\u001b[0;31mTypeError\u001b[0m                                 Traceback (most recent call last)",
      "Input \u001b[0;32mIn [27]\u001b[0m, in \u001b[0;36m<cell line: 2>\u001b[0;34m()\u001b[0m\n\u001b[1;32m      1\u001b[0m mylist \u001b[38;5;241m=\u001b[39m [\u001b[38;5;241m1\u001b[39m,\u001b[38;5;241m2\u001b[39m,\u001b[38;5;241m3\u001b[39m,\u001b[38;5;241m4\u001b[39m,\u001b[38;5;241m5\u001b[39m]\n\u001b[0;32m----> 2\u001b[0m \u001b[43mmylist\u001b[49m\u001b[43m \u001b[49m\u001b[38;5;241;43m+\u001b[39;49m\u001b[43m \u001b[49m\u001b[38;5;241;43m4\u001b[39;49m\n",
      "\u001b[0;31mTypeError\u001b[0m: can only concatenate list (not \"int\") to list"
     ]
    }
   ],
   "source": [
    "mylist = [1,2,3,4,5]\n",
    "mylist + 4"
   ]
  },
  {
   "cell_type": "markdown",
   "id": "ca10d53b",
   "metadata": {},
   "source": [
    "Let's see now how this works for an array:"
   ]
  },
  {
   "cell_type": "code",
   "execution_count": 28,
   "id": "fb48d027",
   "metadata": {
    "ExecuteTime": {
     "end_time": "2022-07-14T06:28:03.213753Z",
     "start_time": "2022-07-14T06:28:03.207666Z"
    }
   },
   "outputs": [
    {
     "data": {
      "text/plain": [
       "array([4, 5, 6, 7, 8])"
      ]
     },
     "execution_count": 28,
     "metadata": {},
     "output_type": "execute_result"
    }
   ],
   "source": [
    "myarray = np.array(mylist)\n",
    "myarray + 3"
   ]
  },
  {
   "cell_type": "code",
   "execution_count": 29,
   "id": "9d25c9ca",
   "metadata": {
    "ExecuteTime": {
     "end_time": "2022-07-14T06:28:23.028592Z",
     "start_time": "2022-07-14T06:28:23.022665Z"
    }
   },
   "outputs": [
    {
     "name": "stdout",
     "output_type": "stream",
     "text": [
      "[  7  16  95 194 493]\n",
      "[  7  16  95 194 493]\n"
     ]
    }
   ],
   "source": [
    "a = np.array([10,20,100,200,500])\n",
    "b = np.array([3,4,5,6,7])\n",
    "print(np.subtract(a, b))\n",
    "print(a - b)"
   ]
  },
  {
   "cell_type": "code",
   "execution_count": 30,
   "id": "768c4574",
   "metadata": {
    "ExecuteTime": {
     "end_time": "2022-07-14T06:29:11.989621Z",
     "start_time": "2022-07-14T06:29:11.982135Z"
    }
   },
   "outputs": [
    {
     "name": "stdout",
     "output_type": "stream",
     "text": [
      "[2.33333333 0.75       0.8        0.83333333 0.14285714]\n",
      "[2.33333333 0.75       0.8        0.83333333 0.14285714]\n"
     ]
    }
   ],
   "source": [
    "a = np.array([7,3,4,5,1])\n",
    "b = np.array([3,4,5,6,7])\n",
    "print(np.divide(a,b))\n",
    "print(a / b)"
   ]
  },
  {
   "cell_type": "code",
   "execution_count": 31,
   "id": "1e5f3b65",
   "metadata": {
    "ExecuteTime": {
     "end_time": "2022-07-14T06:29:22.164510Z",
     "start_time": "2022-07-14T06:29:22.156872Z"
    }
   },
   "outputs": [
    {
     "name": "stdout",
     "output_type": "stream",
     "text": [
      "[21 12 20 30  7]\n",
      "[21 12 20 30  7]\n"
     ]
    }
   ],
   "source": [
    "a = np.array([7,3,4,5,1])\n",
    "b = np.array([3,4,5,6,7])\n",
    "print(np.multiply(a, b))\n",
    "print(a * b)"
   ]
  },
  {
   "cell_type": "markdown",
   "id": "4fd11612",
   "metadata": {},
   "source": [
    "> **❗ NOTE:** `np.multiply` does an element-wise multiplication of two matrices, whereas `np.dot` is the dot product of two matrices.\n",
    "<table><tr>\n",
    "<td> <img src=\"https://i.postimg.cc/50F4SJSr/multiplication2.png\" style=\"width: 100px;\"/> </td>\n",
    "<td> <img src=\"https://i.postimg.cc/66n67932/multiplication.png\"  style=\"width: 100px;\"/> </td>\n",
    "</tr></table>"
   ]
  },
  {
   "cell_type": "code",
   "execution_count": 39,
   "id": "b9691dde",
   "metadata": {},
   "outputs": [
    {
     "name": "stdout",
     "output_type": "stream",
     "text": [
      "90\n"
     ]
    }
   ],
   "source": [
    "a = np.array([7,3,4,5,1])\n",
    "b = np.array([3,4,5,6,7])\n",
    "print(np.dot(a, b))"
   ]
  },
  {
   "cell_type": "code",
   "execution_count": 40,
   "id": "46ecc37e",
   "metadata": {},
   "outputs": [
    {
     "name": "stdout",
     "output_type": "stream",
     "text": [
      "[[3 6]\n",
      " [3 6]]\n"
     ]
    }
   ],
   "source": [
    "v1 = np.array([[1, 2], [1, 2]])\n",
    "v2 = np.array([[1, 2], [1, 2]])\n",
    "print(np.dot(v1, v2))"
   ]
  },
  {
   "cell_type": "code",
   "execution_count": 32,
   "id": "b8c2f9f6",
   "metadata": {
    "ExecuteTime": {
     "end_time": "2022-07-14T06:33:34.570183Z",
     "start_time": "2022-07-14T06:33:34.566797Z"
    }
   },
   "outputs": [
    {
     "name": "stdout",
     "output_type": "stream",
     "text": [
      "[[3 6]\n",
      " [3 6]]\n"
     ]
    }
   ],
   "source": [
    "v1 = np.array([[1, 2], [1, 2]])\n",
    "v2 = np.array([[1, 2], [1, 2]])\n",
    "print(v1 @ v2)"
   ]
  },
  {
   "cell_type": "markdown",
   "id": "2524e9a9",
   "metadata": {},
   "source": [
    "In addition to simple arithmetic, Numpy offers a vast choice of functions that can be directly applied to arrays. Some of them are:\n",
    "* **sin()**\n",
    "* **cos()**\n",
    "* **exp()**\n",
    "* **log()**\n",
    "* **log10()**"
   ]
  },
  {
   "cell_type": "code",
   "execution_count": 34,
   "id": "1c73bd51",
   "metadata": {
    "ExecuteTime": {
     "end_time": "2022-07-14T06:33:43.194968Z",
     "start_time": "2022-07-14T06:33:43.189066Z"
    }
   },
   "outputs": [
    {
     "data": {
      "text/plain": [
       "array([1, 2, 3, 4, 5])"
      ]
     },
     "execution_count": 34,
     "metadata": {},
     "output_type": "execute_result"
    }
   ],
   "source": [
    "myarray"
   ]
  },
  {
   "cell_type": "code",
   "execution_count": 33,
   "id": "2808893a",
   "metadata": {
    "ExecuteTime": {
     "end_time": "2022-07-14T06:33:36.771937Z",
     "start_time": "2022-07-14T06:33:36.766390Z"
    }
   },
   "outputs": [
    {
     "data": {
      "text/plain": [
       "array([ 0.54030231, -0.41614684, -0.9899925 , -0.65364362,  0.28366219])"
      ]
     },
     "execution_count": 33,
     "metadata": {},
     "output_type": "execute_result"
    }
   ],
   "source": [
    "np.cos(myarray)"
   ]
  },
  {
   "cell_type": "code",
   "execution_count": 35,
   "id": "220c48eb",
   "metadata": {
    "ExecuteTime": {
     "end_time": "2022-07-14T06:34:06.829303Z",
     "start_time": "2022-07-14T06:34:06.824835Z"
    }
   },
   "outputs": [],
   "source": [
    "myarray[0]= 0"
   ]
  },
  {
   "cell_type": "code",
   "execution_count": 36,
   "id": "a59bc1e2",
   "metadata": {
    "ExecuteTime": {
     "end_time": "2022-07-14T06:34:07.582183Z",
     "start_time": "2022-07-14T06:34:07.575909Z"
    }
   },
   "outputs": [
    {
     "data": {
      "text/plain": [
       "array([  1.        ,   7.3890561 ,  20.08553692,  54.59815003,\n",
       "       148.4131591 ])"
      ]
     },
     "execution_count": 36,
     "metadata": {},
     "output_type": "execute_result"
    }
   ],
   "source": [
    "np.exp(myarray)"
   ]
  },
  {
   "cell_type": "code",
   "execution_count": 45,
   "id": "631c551e",
   "metadata": {},
   "outputs": [
    {
     "data": {
      "text/plain": [
       "array([      -inf, 0.69314718, 1.09861229, 1.38629436, 1.60943791])"
      ]
     },
     "execution_count": 45,
     "metadata": {},
     "output_type": "execute_result"
    }
   ],
   "source": [
    "np.log(myarray)"
   ]
  },
  {
   "cell_type": "markdown",
   "id": "cc574501",
   "metadata": {},
   "source": [
    "### More dimention in numpy?"
   ]
  },
  {
   "cell_type": "code",
   "execution_count": 123,
   "id": "e30cbd3c",
   "metadata": {
    "ExecuteTime": {
     "end_time": "2022-07-14T08:03:21.372162Z",
     "start_time": "2022-07-14T08:03:20.073653Z"
    },
    "scrolled": true
   },
   "outputs": [
    {
     "data": {
      "image/png": "[encoded data removed]",
      "text/plain": [
       "<Figure size 432x288 with 1 Axes>"
      ]
     },
     "metadata": {
      "needs_background": "light"
     },
     "output_type": "display_data"
    },
    {
     "name": "stdout",
     "output_type": "stream",
     "text": [
      "<class 'numpy.ndarray'>\n",
      "(564, 1128)\n"
     ]
    }
   ],
   "source": [
    "# from PIL import Image\n",
    "from numpy import asarray\n",
    "from matplotlib import pyplot as plt\n",
    "  \n",
    "# img = Image.open('./images_numpy/pandas2.jpg', )\n",
    "img = plt.imread('https://i.postimg.cc/CMQCKsRL/pandas2.png')[:,:,0]\n",
    "plt.imshow(img, cmap='gray')\n",
    "plt.show()\n",
    "\n",
    "numpydata = asarray(img)\n",
    "print(type(numpydata))\n",
    "print(numpydata.shape)"
   ]
  },
  {
   "cell_type": "code",
   "execution_count": 124,
   "id": "bafda1c9",
   "metadata": {
    "ExecuteTime": {
     "end_time": "2022-07-14T08:03:21.506735Z",
     "start_time": "2022-07-14T08:03:21.373288Z"
    }
   },
   "outputs": [
    {
     "data": {
      "text/plain": [
       "<matplotlib.image.AxesImage at 0x7fc4f4d44370>"
      ]
     },
     "execution_count": 124,
     "metadata": {},
     "output_type": "execute_result"
    },
    {
     "data": {
      "image/png": "[encoded data removed]",
      "text/plain": [
       "<Figure size 432x288 with 1 Axes>"
      ]
     },
     "metadata": {
      "needs_background": "light"
     },
     "output_type": "display_data"
    }
   ],
   "source": [
    "img = img *255\n",
    "mask = np.where(img > 230, 255, 0)\n",
    "mask\n",
    "plt.imshow(mask, cmap=\"gray\")"
   ]
  },
  {
   "cell_type": "markdown",
   "id": "e755e1ea",
   "metadata": {},
   "source": [
    "## What is Pandas\n",
    "\n",
    "pandas is a Python package providing fast, ﬂexible, and expressive data structures designed to make working with “relational” or “labeled” data both easy and intuitive. It aims to be the fundamental high-level building block for doing practical, real world data analysis in Python\n",
    "![pandas](https://i.postimg.cc/J7vJ87Fs/pandas.jpg)"
   ]
  },
  {
   "cell_type": "code",
   "execution_count": 54,
   "id": "cb7d9294",
   "metadata": {
    "ExecuteTime": {
     "end_time": "2022-07-14T06:44:56.059521Z",
     "start_time": "2022-07-14T06:44:55.932432Z"
    }
   },
   "outputs": [],
   "source": [
    "import pandas as pd"
   ]
  },
  {
   "cell_type": "markdown",
   "id": "c2a188c8",
   "metadata": {},
   "source": [
    "### Data Structures\n",
    "pandas introduces two new data structures to Python - **Series** and **DataFrame**, both of which are built on top of NumPy (this means it's fast)."
   ]
  },
  {
   "cell_type": "markdown",
   "id": "ad15cfe3",
   "metadata": {},
   "source": [
    "### Series\n",
    "A Series is a one-dimensional array-like object containing a sequence of values (of similar types to NumPy types) and an associated array of data labels, called its index. By default, each item will receive an index label from 0 to N, where N is the length of the Series minus one."
   ]
  },
  {
   "cell_type": "code",
   "execution_count": 55,
   "id": "490625fe",
   "metadata": {
    "ExecuteTime": {
     "end_time": "2022-07-14T06:46:51.951326Z",
     "start_time": "2022-07-14T06:46:51.945172Z"
    }
   },
   "outputs": [
    {
     "name": "stdout",
     "output_type": "stream",
     "text": [
      "====> Series :\n",
      "0                3.14\n",
      "1                   7\n",
      "2              Hermes\n",
      "3         -1789710578\n",
      "4    python bootcamp!\n",
      "dtype: object\n",
      "\n",
      "====> Series index:\n",
      "RangeIndex(start=0, stop=5, step=1)\n",
      "\n",
      "====> Series values:\n",
      "[3.14 7 'Hermes' -1789710578 'python bootcamp!']\n"
     ]
    }
   ],
   "source": [
    "s = pd.Series([3.14, 7, 'Hermes', -1789710578, 'python bootcamp!'])\n",
    "print(f\"====> Series :\\n{s}\")\n",
    "print(f\"\\n====> Series index:\\n{s.index}\")\n",
    "print(f\"\\n====> Series values:\\n{s.values}\")"
   ]
  },
  {
   "cell_type": "code",
   "execution_count": 57,
   "id": "28b3ef80",
   "metadata": {
    "ExecuteTime": {
     "end_time": "2022-07-14T06:48:20.224926Z",
     "start_time": "2022-07-14T06:48:20.217136Z"
    }
   },
   "outputs": [
    {
     "name": "stdout",
     "output_type": "stream",
     "text": [
      "====> Series :\n",
      "A                3.14\n",
      "Z                   7\n",
      "C              Hermes\n",
      "Y         -1789710578\n",
      "E    python bootcamp!\n",
      "dtype: object\n",
      "\n",
      "====> Series index:\n",
      "Index(['A', 'Z', 'C', 'Y', 'E'], dtype='object')\n",
      "\n",
      "====> Series values:\n",
      "[3.14 7 'Hermes' -1789710578 'python bootcamp!']\n"
     ]
    }
   ],
   "source": [
    "s = pd.Series([3.14, 7, 'Hermes', -1789710578, 'python bootcamp!'],\n",
    "              index=['A', 'Z', 'C', 'Y', 'E'])\n",
    "print(f\"====> Series :\\n{s}\")\n",
    "print(f\"\\n====> Series index:\\n{s.index}\")\n",
    "print(f\"\\n====> Series values:\\n{s.values}\")"
   ]
  },
  {
   "cell_type": "code",
   "execution_count": 59,
   "id": "1153018a",
   "metadata": {
    "ExecuteTime": {
     "end_time": "2022-07-14T06:48:26.211306Z",
     "start_time": "2022-07-14T06:48:26.204739Z"
    }
   },
   "outputs": [
    {
     "data": {
      "text/plain": [
       "3.14"
      ]
     },
     "execution_count": 59,
     "metadata": {},
     "output_type": "execute_result"
    }
   ],
   "source": [
    "s[\"A\"]"
   ]
  },
  {
   "cell_type": "markdown",
   "id": "aca06a10",
   "metadata": {},
   "source": [
    "### Dataframes\n",
    "A DataFrame is a tablular data structure comprised of rows and columns, akin to a spreadsheet, database table, or R's data.frame object. You can also think of a DataFrame as a group of Series objects that share an index (the column names).\n",
    "\n",
    "![dataframe](https://i.postimg.cc/6pLGCrpZ/pandas-dataframe.png)"
   ]
  },
  {
   "cell_type": "markdown",
   "id": "03be4c57",
   "metadata": {},
   "source": [
    "One of the most common ways of **creating a dataframe** is from a dictionary of arrays or lists."
   ]
  },
  {
   "cell_type": "code",
   "execution_count": 61,
   "id": "4bc38e1d",
   "metadata": {
    "ExecuteTime": {
     "end_time": "2022-07-14T06:50:46.711743Z",
     "start_time": "2022-07-14T06:50:46.698462Z"
    }
   },
   "outputs": [
    {
     "data": {
      "text/html": [
       "<div>\n",
       "<style scoped>\n",
       "    .dataframe tbody tr th:only-of-type {\n",
       "        vertical-align: middle;\n",
       "    }\n",
       "\n",
       "    .dataframe tbody tr th {\n",
       "        vertical-align: top;\n",
       "    }\n",
       "\n",
       "    .dataframe thead th {\n",
       "        text-align: right;\n",
       "    }\n",
       "</style>\n",
       "<table border=\"1\" class=\"dataframe\">\n",
       "  <thead>\n",
       "    <tr style=\"text-align: right;\">\n",
       "      <th></th>\n",
       "      <th>country</th>\n",
       "      <th>population</th>\n",
       "      <th>area</th>\n",
       "      <th>capital</th>\n",
       "    </tr>\n",
       "  </thead>\n",
       "  <tbody>\n",
       "    <tr>\n",
       "      <th>0</th>\n",
       "      <td>Belgium</td>\n",
       "      <td>11.3</td>\n",
       "      <td>30510</td>\n",
       "      <td>Brussels</td>\n",
       "    </tr>\n",
       "    <tr>\n",
       "      <th>1</th>\n",
       "      <td>France</td>\n",
       "      <td>64.3</td>\n",
       "      <td>671308</td>\n",
       "      <td>Paris</td>\n",
       "    </tr>\n",
       "    <tr>\n",
       "      <th>2</th>\n",
       "      <td>Germany</td>\n",
       "      <td>81.3</td>\n",
       "      <td>357050</td>\n",
       "      <td>Berlin</td>\n",
       "    </tr>\n",
       "    <tr>\n",
       "      <th>3</th>\n",
       "      <td>Netherlands</td>\n",
       "      <td>16.9</td>\n",
       "      <td>41526</td>\n",
       "      <td>Amsterdam</td>\n",
       "    </tr>\n",
       "    <tr>\n",
       "      <th>4</th>\n",
       "      <td>United Kingdom</td>\n",
       "      <td>64.9</td>\n",
       "      <td>244820</td>\n",
       "      <td>London</td>\n",
       "    </tr>\n",
       "  </tbody>\n",
       "</table>\n",
       "</div>"
      ],
      "text/plain": [
       "          country  population    area    capital\n",
       "0         Belgium        11.3   30510   Brussels\n",
       "1          France        64.3  671308      Paris\n",
       "2         Germany        81.3  357050     Berlin\n",
       "3     Netherlands        16.9   41526  Amsterdam\n",
       "4  United Kingdom        64.9  244820     London"
      ]
     },
     "execution_count": 61,
     "metadata": {},
     "output_type": "execute_result"
    }
   ],
   "source": [
    "data = {'country': ['Belgium', 'France', 'Germany', 'Netherlands', 'United Kingdom'],\n",
    "        'population': [11.3, 64.3, 81.3, 16.9, 64.9],\n",
    "        'area': [30510, 671308, 357050, 41526, 244820],\n",
    "        'capital': ['Brussels', 'Paris', 'Berlin', 'Amsterdam', 'London']}\n",
    "countries = pd.DataFrame(data)\n",
    "countries"
   ]
  },
  {
   "cell_type": "code",
   "execution_count": 65,
   "id": "8004f6d3",
   "metadata": {
    "ExecuteTime": {
     "end_time": "2022-07-14T06:52:08.595705Z",
     "start_time": "2022-07-14T06:52:08.591381Z"
    }
   },
   "outputs": [],
   "source": [
    "constraint = countries['population'] > 20"
   ]
  },
  {
   "cell_type": "code",
   "execution_count": 66,
   "id": "f85b4a0a",
   "metadata": {
    "ExecuteTime": {
     "end_time": "2022-07-14T06:52:16.551564Z",
     "start_time": "2022-07-14T06:52:16.537706Z"
    }
   },
   "outputs": [
    {
     "data": {
      "text/html": [
       "<div>\n",
       "<style scoped>\n",
       "    .dataframe tbody tr th:only-of-type {\n",
       "        vertical-align: middle;\n",
       "    }\n",
       "\n",
       "    .dataframe tbody tr th {\n",
       "        vertical-align: top;\n",
       "    }\n",
       "\n",
       "    .dataframe thead th {\n",
       "        text-align: right;\n",
       "    }\n",
       "</style>\n",
       "<table border=\"1\" class=\"dataframe\">\n",
       "  <thead>\n",
       "    <tr style=\"text-align: right;\">\n",
       "      <th></th>\n",
       "      <th>country</th>\n",
       "      <th>population</th>\n",
       "      <th>area</th>\n",
       "      <th>capital</th>\n",
       "    </tr>\n",
       "  </thead>\n",
       "  <tbody>\n",
       "    <tr>\n",
       "      <th>1</th>\n",
       "      <td>France</td>\n",
       "      <td>64.3</td>\n",
       "      <td>671308</td>\n",
       "      <td>Paris</td>\n",
       "    </tr>\n",
       "    <tr>\n",
       "      <th>2</th>\n",
       "      <td>Germany</td>\n",
       "      <td>81.3</td>\n",
       "      <td>357050</td>\n",
       "      <td>Berlin</td>\n",
       "    </tr>\n",
       "    <tr>\n",
       "      <th>4</th>\n",
       "      <td>United Kingdom</td>\n",
       "      <td>64.9</td>\n",
       "      <td>244820</td>\n",
       "      <td>London</td>\n",
       "    </tr>\n",
       "  </tbody>\n",
       "</table>\n",
       "</div>"
      ],
      "text/plain": [
       "          country  population    area capital\n",
       "1          France        64.3  671308   Paris\n",
       "2         Germany        81.3  357050  Berlin\n",
       "4  United Kingdom        64.9  244820  London"
      ]
     },
     "execution_count": 66,
     "metadata": {},
     "output_type": "execute_result"
    }
   ],
   "source": [
    "countries[constraint]"
   ]
  },
  {
   "cell_type": "code",
   "execution_count": null,
   "id": "89cc5963",
   "metadata": {},
   "outputs": [],
   "source": []
  },
  {
   "cell_type": "markdown",
   "id": "cea12f28",
   "metadata": {},
   "source": [
    "### Reading Data\n",
    "Much more often, you'll have a dataset you want to read into a DataFrame.\n",
    "![df](https://i.postimg.cc/c439YLt3/excel.jpg)"
   ]
  },
  {
   "cell_type": "code",
   "execution_count": 67,
   "id": "3ee08fc2",
   "metadata": {
    "ExecuteTime": {
     "end_time": "2022-07-14T06:53:34.569275Z",
     "start_time": "2022-07-14T06:53:34.400521Z"
    }
   },
   "outputs": [
    {
     "data": {
      "text/html": [
       "<div>\n",
       "<style scoped>\n",
       "    .dataframe tbody tr th:only-of-type {\n",
       "        vertical-align: middle;\n",
       "    }\n",
       "\n",
       "    .dataframe tbody tr th {\n",
       "        vertical-align: top;\n",
       "    }\n",
       "\n",
       "    .dataframe thead th {\n",
       "        text-align: right;\n",
       "    }\n",
       "</style>\n",
       "<table border=\"1\" class=\"dataframe\">\n",
       "  <thead>\n",
       "    <tr style=\"text-align: right;\">\n",
       "      <th></th>\n",
       "      <th>id</th>\n",
       "      <th>product</th>\n",
       "      <th>category</th>\n",
       "      <th>sub_category</th>\n",
       "      <th>brand</th>\n",
       "      <th>sale_price</th>\n",
       "      <th>market_price</th>\n",
       "      <th>type</th>\n",
       "      <th>rating</th>\n",
       "      <th>description</th>\n",
       "    </tr>\n",
       "  </thead>\n",
       "  <tbody>\n",
       "    <tr>\n",
       "      <th>0</th>\n",
       "      <td>no1</td>\n",
       "      <td>Garlic Oil - Vegetarian Capsule 500 mg</td>\n",
       "      <td>Beauty &amp; Hygiene</td>\n",
       "      <td>Hair Care</td>\n",
       "      <td>Sri Sri Ayurveda</td>\n",
       "      <td>220.00</td>\n",
       "      <td>220.0</td>\n",
       "      <td>Hair Oil &amp; Serum</td>\n",
       "      <td>4.1</td>\n",
       "      <td>This Product contains Garlic Oil that is known...</td>\n",
       "    </tr>\n",
       "    <tr>\n",
       "      <th>1</th>\n",
       "      <td>no2</td>\n",
       "      <td>Water Bottle - Orange</td>\n",
       "      <td>Kitchen, Garden &amp; Pets</td>\n",
       "      <td>Storage &amp; Accessories</td>\n",
       "      <td>Mastercook</td>\n",
       "      <td>180.00</td>\n",
       "      <td>180.0</td>\n",
       "      <td>Water &amp; Fridge Bottles</td>\n",
       "      <td>2.3</td>\n",
       "      <td>Each product is microwave safe (without lid), ...</td>\n",
       "    </tr>\n",
       "    <tr>\n",
       "      <th>2</th>\n",
       "      <td>no3</td>\n",
       "      <td>Brass Angle Deep - Plain, No.2</td>\n",
       "      <td>Cleaning &amp; Household</td>\n",
       "      <td>Pooja Needs</td>\n",
       "      <td>Trm</td>\n",
       "      <td>119.00</td>\n",
       "      <td>250.0</td>\n",
       "      <td>Lamp &amp; Lamp Oil</td>\n",
       "      <td>3.4</td>\n",
       "      <td>A perfect gift for all occasions, be it your m...</td>\n",
       "    </tr>\n",
       "    <tr>\n",
       "      <th>3</th>\n",
       "      <td>no4</td>\n",
       "      <td>Cereal Flip Lid Container/Storage Jar - Assort...</td>\n",
       "      <td>Cleaning &amp; Household</td>\n",
       "      <td>Bins &amp; Bathroom Ware</td>\n",
       "      <td>Nakoda</td>\n",
       "      <td>149.00</td>\n",
       "      <td>176.0</td>\n",
       "      <td>Laundry, Storage Baskets</td>\n",
       "      <td>3.7</td>\n",
       "      <td>Multipurpose container with an attractive desi...</td>\n",
       "    </tr>\n",
       "    <tr>\n",
       "      <th>4</th>\n",
       "      <td>no5</td>\n",
       "      <td>Creme Soft Soap - For Hands &amp; Body</td>\n",
       "      <td>Beauty &amp; Hygiene</td>\n",
       "      <td>Bath &amp; Hand Wash</td>\n",
       "      <td>Nivea</td>\n",
       "      <td>162.00</td>\n",
       "      <td>162.0</td>\n",
       "      <td>Bathing Bars &amp; Soaps</td>\n",
       "      <td>4.4</td>\n",
       "      <td>Nivea Creme Soft Soap gives your skin the best...</td>\n",
       "    </tr>\n",
       "    <tr>\n",
       "      <th>...</th>\n",
       "      <td>...</td>\n",
       "      <td>...</td>\n",
       "      <td>...</td>\n",
       "      <td>...</td>\n",
       "      <td>...</td>\n",
       "      <td>...</td>\n",
       "      <td>...</td>\n",
       "      <td>...</td>\n",
       "      <td>...</td>\n",
       "      <td>...</td>\n",
       "    </tr>\n",
       "    <tr>\n",
       "      <th>27550</th>\n",
       "      <td>no27551</td>\n",
       "      <td>Wottagirl! Perfume Spray - Heaven, Classic</td>\n",
       "      <td>Beauty &amp; Hygiene</td>\n",
       "      <td>Fragrances &amp; Deos</td>\n",
       "      <td>Layerr</td>\n",
       "      <td>199.20</td>\n",
       "      <td>249.0</td>\n",
       "      <td>Perfume</td>\n",
       "      <td>3.9</td>\n",
       "      <td>Layerr brings you Wottagirl Classic fragrant b...</td>\n",
       "    </tr>\n",
       "    <tr>\n",
       "      <th>27551</th>\n",
       "      <td>no27552</td>\n",
       "      <td>Rosemary</td>\n",
       "      <td>Gourmet &amp; World Food</td>\n",
       "      <td>Cooking &amp; Baking Needs</td>\n",
       "      <td>Puramate</td>\n",
       "      <td>67.50</td>\n",
       "      <td>75.0</td>\n",
       "      <td>Herbs, Seasonings &amp; Rubs</td>\n",
       "      <td>4.0</td>\n",
       "      <td>Puramate rosemary is enough to transform a dis...</td>\n",
       "    </tr>\n",
       "    <tr>\n",
       "      <th>27552</th>\n",
       "      <td>no27553</td>\n",
       "      <td>Peri-Peri Sweet Potato Chips</td>\n",
       "      <td>Gourmet &amp; World Food</td>\n",
       "      <td>Snacks, Dry Fruits, Nuts</td>\n",
       "      <td>FabBox</td>\n",
       "      <td>200.00</td>\n",
       "      <td>200.0</td>\n",
       "      <td>Nachos &amp; Chips</td>\n",
       "      <td>3.8</td>\n",
       "      <td>We have taken the richness of Sweet Potatoes (...</td>\n",
       "    </tr>\n",
       "    <tr>\n",
       "      <th>27553</th>\n",
       "      <td>no27554</td>\n",
       "      <td>Green Tea - Pure Original</td>\n",
       "      <td>Beverages</td>\n",
       "      <td>Tea</td>\n",
       "      <td>Tetley</td>\n",
       "      <td>396.00</td>\n",
       "      <td>495.0</td>\n",
       "      <td>Tea Bags</td>\n",
       "      <td>4.2</td>\n",
       "      <td>Tetley Green Tea with its refreshing pure, ori...</td>\n",
       "    </tr>\n",
       "    <tr>\n",
       "      <th>27554</th>\n",
       "      <td>no27555</td>\n",
       "      <td>United Dreams Go Far Deodorant</td>\n",
       "      <td>Beauty &amp; Hygiene</td>\n",
       "      <td>Men's Grooming</td>\n",
       "      <td>United Colors Of Benetton</td>\n",
       "      <td>214.53</td>\n",
       "      <td>390.0</td>\n",
       "      <td>Men's Deodorants</td>\n",
       "      <td>4.5</td>\n",
       "      <td>The new mens fragrance from the United Dreams ...</td>\n",
       "    </tr>\n",
       "  </tbody>\n",
       "</table>\n",
       "<p>27555 rows × 10 columns</p>\n",
       "</div>"
      ],
      "text/plain": [
       "            id                                            product  \\\n",
       "0          no1             Garlic Oil - Vegetarian Capsule 500 mg   \n",
       "1          no2                              Water Bottle - Orange   \n",
       "2          no3                     Brass Angle Deep - Plain, No.2   \n",
       "3          no4  Cereal Flip Lid Container/Storage Jar - Assort...   \n",
       "4          no5                 Creme Soft Soap - For Hands & Body   \n",
       "...        ...                                                ...   \n",
       "27550  no27551         Wottagirl! Perfume Spray - Heaven, Classic   \n",
       "27551  no27552                                           Rosemary   \n",
       "27552  no27553                       Peri-Peri Sweet Potato Chips   \n",
       "27553  no27554                          Green Tea - Pure Original   \n",
       "27554  no27555                     United Dreams Go Far Deodorant   \n",
       "\n",
       "                     category              sub_category  \\\n",
       "0            Beauty & Hygiene                 Hair Care   \n",
       "1      Kitchen, Garden & Pets     Storage & Accessories   \n",
       "2        Cleaning & Household               Pooja Needs   \n",
       "3        Cleaning & Household      Bins & Bathroom Ware   \n",
       "4            Beauty & Hygiene          Bath & Hand Wash   \n",
       "...                       ...                       ...   \n",
       "27550        Beauty & Hygiene         Fragrances & Deos   \n",
       "27551    Gourmet & World Food    Cooking & Baking Needs   \n",
       "27552    Gourmet & World Food  Snacks, Dry Fruits, Nuts   \n",
       "27553               Beverages                       Tea   \n",
       "27554        Beauty & Hygiene            Men's Grooming   \n",
       "\n",
       "                            brand  sale_price  market_price  \\\n",
       "0               Sri Sri Ayurveda       220.00         220.0   \n",
       "1                      Mastercook      180.00         180.0   \n",
       "2                             Trm      119.00         250.0   \n",
       "3                          Nakoda      149.00         176.0   \n",
       "4                           Nivea      162.00         162.0   \n",
       "...                           ...         ...           ...   \n",
       "27550                      Layerr      199.20         249.0   \n",
       "27551                    Puramate       67.50          75.0   \n",
       "27552                      FabBox      200.00         200.0   \n",
       "27553                      Tetley      396.00         495.0   \n",
       "27554  United Colors Of Benetton       214.53         390.0   \n",
       "\n",
       "                           type  rating  \\\n",
       "0              Hair Oil & Serum     4.1   \n",
       "1        Water & Fridge Bottles     2.3   \n",
       "2               Lamp & Lamp Oil     3.4   \n",
       "3      Laundry, Storage Baskets     3.7   \n",
       "4          Bathing Bars & Soaps     4.4   \n",
       "...                         ...     ...   \n",
       "27550                   Perfume     3.9   \n",
       "27551  Herbs, Seasonings & Rubs     4.0   \n",
       "27552            Nachos & Chips     3.8   \n",
       "27553                  Tea Bags     4.2   \n",
       "27554          Men's Deodorants     4.5   \n",
       "\n",
       "                                             description  \n",
       "0      This Product contains Garlic Oil that is known...  \n",
       "1      Each product is microwave safe (without lid), ...  \n",
       "2      A perfect gift for all occasions, be it your m...  \n",
       "3      Multipurpose container with an attractive desi...  \n",
       "4      Nivea Creme Soft Soap gives your skin the best...  \n",
       "...                                                  ...  \n",
       "27550  Layerr brings you Wottagirl Classic fragrant b...  \n",
       "27551  Puramate rosemary is enough to transform a dis...  \n",
       "27552  We have taken the richness of Sweet Potatoes (...  \n",
       "27553  Tetley Green Tea with its refreshing pure, ori...  \n",
       "27554  The new mens fragrance from the United Dreams ...  \n",
       "\n",
       "[27555 rows x 10 columns]"
      ]
     },
     "execution_count": 67,
     "metadata": {},
     "output_type": "execute_result"
    }
   ],
   "source": [
    "df = pd.read_csv(\"./dataset/BigBasket Products.csv\")\n",
    "df"
   ]
  },
  {
   "cell_type": "markdown",
   "id": "032439cf",
   "metadata": {},
   "source": [
    "### Renaming columns"
   ]
  },
  {
   "cell_type": "code",
   "execution_count": 68,
   "id": "16f179a7",
   "metadata": {
    "ExecuteTime": {
     "end_time": "2022-07-14T06:55:10.937962Z",
     "start_time": "2022-07-14T06:55:10.925267Z"
    }
   },
   "outputs": [
    {
     "data": {
      "text/html": [
       "<div>\n",
       "<style scoped>\n",
       "    .dataframe tbody tr th:only-of-type {\n",
       "        vertical-align: middle;\n",
       "    }\n",
       "\n",
       "    .dataframe tbody tr th {\n",
       "        vertical-align: top;\n",
       "    }\n",
       "\n",
       "    .dataframe thead th {\n",
       "        text-align: right;\n",
       "    }\n",
       "</style>\n",
       "<table border=\"1\" class=\"dataframe\">\n",
       "  <thead>\n",
       "    <tr style=\"text-align: right;\">\n",
       "      <th></th>\n",
       "      <th>id</th>\n",
       "      <th>product</th>\n",
       "      <th>category</th>\n",
       "      <th>sub_category</th>\n",
       "      <th>brand</th>\n",
       "      <th>price</th>\n",
       "      <th>market_price</th>\n",
       "      <th>type</th>\n",
       "      <th>rating</th>\n",
       "      <th>report</th>\n",
       "    </tr>\n",
       "  </thead>\n",
       "  <tbody>\n",
       "    <tr>\n",
       "      <th>0</th>\n",
       "      <td>no1</td>\n",
       "      <td>Garlic Oil - Vegetarian Capsule 500 mg</td>\n",
       "      <td>Beauty &amp; Hygiene</td>\n",
       "      <td>Hair Care</td>\n",
       "      <td>Sri Sri Ayurveda</td>\n",
       "      <td>220.0</td>\n",
       "      <td>220.0</td>\n",
       "      <td>Hair Oil &amp; Serum</td>\n",
       "      <td>4.1</td>\n",
       "      <td>This Product contains Garlic Oil that is known...</td>\n",
       "    </tr>\n",
       "    <tr>\n",
       "      <th>1</th>\n",
       "      <td>no2</td>\n",
       "      <td>Water Bottle - Orange</td>\n",
       "      <td>Kitchen, Garden &amp; Pets</td>\n",
       "      <td>Storage &amp; Accessories</td>\n",
       "      <td>Mastercook</td>\n",
       "      <td>180.0</td>\n",
       "      <td>180.0</td>\n",
       "      <td>Water &amp; Fridge Bottles</td>\n",
       "      <td>2.3</td>\n",
       "      <td>Each product is microwave safe (without lid), ...</td>\n",
       "    </tr>\n",
       "    <tr>\n",
       "      <th>2</th>\n",
       "      <td>no3</td>\n",
       "      <td>Brass Angle Deep - Plain, No.2</td>\n",
       "      <td>Cleaning &amp; Household</td>\n",
       "      <td>Pooja Needs</td>\n",
       "      <td>Trm</td>\n",
       "      <td>119.0</td>\n",
       "      <td>250.0</td>\n",
       "      <td>Lamp &amp; Lamp Oil</td>\n",
       "      <td>3.4</td>\n",
       "      <td>A perfect gift for all occasions, be it your m...</td>\n",
       "    </tr>\n",
       "    <tr>\n",
       "      <th>3</th>\n",
       "      <td>no4</td>\n",
       "      <td>Cereal Flip Lid Container/Storage Jar - Assort...</td>\n",
       "      <td>Cleaning &amp; Household</td>\n",
       "      <td>Bins &amp; Bathroom Ware</td>\n",
       "      <td>Nakoda</td>\n",
       "      <td>149.0</td>\n",
       "      <td>176.0</td>\n",
       "      <td>Laundry, Storage Baskets</td>\n",
       "      <td>3.7</td>\n",
       "      <td>Multipurpose container with an attractive desi...</td>\n",
       "    </tr>\n",
       "    <tr>\n",
       "      <th>4</th>\n",
       "      <td>no5</td>\n",
       "      <td>Creme Soft Soap - For Hands &amp; Body</td>\n",
       "      <td>Beauty &amp; Hygiene</td>\n",
       "      <td>Bath &amp; Hand Wash</td>\n",
       "      <td>Nivea</td>\n",
       "      <td>162.0</td>\n",
       "      <td>162.0</td>\n",
       "      <td>Bathing Bars &amp; Soaps</td>\n",
       "      <td>4.4</td>\n",
       "      <td>Nivea Creme Soft Soap gives your skin the best...</td>\n",
       "    </tr>\n",
       "  </tbody>\n",
       "</table>\n",
       "</div>"
      ],
      "text/plain": [
       "    id                                            product  \\\n",
       "0  no1             Garlic Oil - Vegetarian Capsule 500 mg   \n",
       "1  no2                              Water Bottle - Orange   \n",
       "2  no3                     Brass Angle Deep - Plain, No.2   \n",
       "3  no4  Cereal Flip Lid Container/Storage Jar - Assort...   \n",
       "4  no5                 Creme Soft Soap - For Hands & Body   \n",
       "\n",
       "                 category           sub_category              brand  price  \\\n",
       "0        Beauty & Hygiene              Hair Care  Sri Sri Ayurveda   220.0   \n",
       "1  Kitchen, Garden & Pets  Storage & Accessories         Mastercook  180.0   \n",
       "2    Cleaning & Household            Pooja Needs                Trm  119.0   \n",
       "3    Cleaning & Household   Bins & Bathroom Ware             Nakoda  149.0   \n",
       "4        Beauty & Hygiene       Bath & Hand Wash              Nivea  162.0   \n",
       "\n",
       "   market_price                      type  rating  \\\n",
       "0         220.0          Hair Oil & Serum     4.1   \n",
       "1         180.0    Water & Fridge Bottles     2.3   \n",
       "2         250.0           Lamp & Lamp Oil     3.4   \n",
       "3         176.0  Laundry, Storage Baskets     3.7   \n",
       "4         162.0      Bathing Bars & Soaps     4.4   \n",
       "\n",
       "                                              report  \n",
       "0  This Product contains Garlic Oil that is known...  \n",
       "1  Each product is microwave safe (without lid), ...  \n",
       "2  A perfect gift for all occasions, be it your m...  \n",
       "3  Multipurpose container with an attractive desi...  \n",
       "4  Nivea Creme Soft Soap gives your skin the best...  "
      ]
     },
     "execution_count": 68,
     "metadata": {},
     "output_type": "execute_result"
    }
   ],
   "source": [
    "df.rename(columns = {\"description\":\"report\",\"sale_price\":\"price\" }, inplace=True)\n",
    "df.head()"
   ]
  },
  {
   "cell_type": "markdown",
   "id": "866d859f",
   "metadata": {},
   "source": [
    "### Dropping columns and rows"
   ]
  },
  {
   "cell_type": "code",
   "execution_count": 56,
   "id": "d704ac70",
   "metadata": {
    "scrolled": false
   },
   "outputs": [
    {
     "data": {
      "text/html": [
       "<div>\n",
       "<style scoped>\n",
       "    .dataframe tbody tr th:only-of-type {\n",
       "        vertical-align: middle;\n",
       "    }\n",
       "\n",
       "    .dataframe tbody tr th {\n",
       "        vertical-align: top;\n",
       "    }\n",
       "\n",
       "    .dataframe thead th {\n",
       "        text-align: right;\n",
       "    }\n",
       "</style>\n",
       "<table border=\"1\" class=\"dataframe\">\n",
       "  <thead>\n",
       "    <tr style=\"text-align: right;\">\n",
       "      <th></th>\n",
       "      <th>id</th>\n",
       "      <th>product</th>\n",
       "      <th>category</th>\n",
       "      <th>sub_category</th>\n",
       "      <th>brand</th>\n",
       "      <th>sale_price</th>\n",
       "      <th>market_price</th>\n",
       "      <th>type</th>\n",
       "      <th>rating</th>\n",
       "    </tr>\n",
       "  </thead>\n",
       "  <tbody>\n",
       "    <tr>\n",
       "      <th>0</th>\n",
       "      <td>no1</td>\n",
       "      <td>Garlic Oil - Vegetarian Capsule 500 mg</td>\n",
       "      <td>Beauty &amp; Hygiene</td>\n",
       "      <td>Hair Care</td>\n",
       "      <td>Sri Sri Ayurveda</td>\n",
       "      <td>220.00</td>\n",
       "      <td>220.0</td>\n",
       "      <td>Hair Oil &amp; Serum</td>\n",
       "      <td>4.1</td>\n",
       "    </tr>\n",
       "    <tr>\n",
       "      <th>1</th>\n",
       "      <td>no2</td>\n",
       "      <td>Water Bottle - Orange</td>\n",
       "      <td>Kitchen, Garden &amp; Pets</td>\n",
       "      <td>Storage &amp; Accessories</td>\n",
       "      <td>Mastercook</td>\n",
       "      <td>180.00</td>\n",
       "      <td>180.0</td>\n",
       "      <td>Water &amp; Fridge Bottles</td>\n",
       "      <td>2.3</td>\n",
       "    </tr>\n",
       "    <tr>\n",
       "      <th>2</th>\n",
       "      <td>no3</td>\n",
       "      <td>Brass Angle Deep - Plain, No.2</td>\n",
       "      <td>Cleaning &amp; Household</td>\n",
       "      <td>Pooja Needs</td>\n",
       "      <td>Trm</td>\n",
       "      <td>119.00</td>\n",
       "      <td>250.0</td>\n",
       "      <td>Lamp &amp; Lamp Oil</td>\n",
       "      <td>3.4</td>\n",
       "    </tr>\n",
       "    <tr>\n",
       "      <th>3</th>\n",
       "      <td>no4</td>\n",
       "      <td>Cereal Flip Lid Container/Storage Jar - Assort...</td>\n",
       "      <td>Cleaning &amp; Household</td>\n",
       "      <td>Bins &amp; Bathroom Ware</td>\n",
       "      <td>Nakoda</td>\n",
       "      <td>149.00</td>\n",
       "      <td>176.0</td>\n",
       "      <td>Laundry, Storage Baskets</td>\n",
       "      <td>3.7</td>\n",
       "    </tr>\n",
       "    <tr>\n",
       "      <th>4</th>\n",
       "      <td>no5</td>\n",
       "      <td>Creme Soft Soap - For Hands &amp; Body</td>\n",
       "      <td>Beauty &amp; Hygiene</td>\n",
       "      <td>Bath &amp; Hand Wash</td>\n",
       "      <td>Nivea</td>\n",
       "      <td>162.00</td>\n",
       "      <td>162.0</td>\n",
       "      <td>Bathing Bars &amp; Soaps</td>\n",
       "      <td>4.4</td>\n",
       "    </tr>\n",
       "    <tr>\n",
       "      <th>...</th>\n",
       "      <td>...</td>\n",
       "      <td>...</td>\n",
       "      <td>...</td>\n",
       "      <td>...</td>\n",
       "      <td>...</td>\n",
       "      <td>...</td>\n",
       "      <td>...</td>\n",
       "      <td>...</td>\n",
       "      <td>...</td>\n",
       "    </tr>\n",
       "    <tr>\n",
       "      <th>27550</th>\n",
       "      <td>no27551</td>\n",
       "      <td>Wottagirl! Perfume Spray - Heaven, Classic</td>\n",
       "      <td>Beauty &amp; Hygiene</td>\n",
       "      <td>Fragrances &amp; Deos</td>\n",
       "      <td>Layerr</td>\n",
       "      <td>199.20</td>\n",
       "      <td>249.0</td>\n",
       "      <td>Perfume</td>\n",
       "      <td>3.9</td>\n",
       "    </tr>\n",
       "    <tr>\n",
       "      <th>27551</th>\n",
       "      <td>no27552</td>\n",
       "      <td>Rosemary</td>\n",
       "      <td>Gourmet &amp; World Food</td>\n",
       "      <td>Cooking &amp; Baking Needs</td>\n",
       "      <td>Puramate</td>\n",
       "      <td>67.50</td>\n",
       "      <td>75.0</td>\n",
       "      <td>Herbs, Seasonings &amp; Rubs</td>\n",
       "      <td>4.0</td>\n",
       "    </tr>\n",
       "    <tr>\n",
       "      <th>27552</th>\n",
       "      <td>no27553</td>\n",
       "      <td>Peri-Peri Sweet Potato Chips</td>\n",
       "      <td>Gourmet &amp; World Food</td>\n",
       "      <td>Snacks, Dry Fruits, Nuts</td>\n",
       "      <td>FabBox</td>\n",
       "      <td>200.00</td>\n",
       "      <td>200.0</td>\n",
       "      <td>Nachos &amp; Chips</td>\n",
       "      <td>3.8</td>\n",
       "    </tr>\n",
       "    <tr>\n",
       "      <th>27553</th>\n",
       "      <td>no27554</td>\n",
       "      <td>Green Tea - Pure Original</td>\n",
       "      <td>Beverages</td>\n",
       "      <td>Tea</td>\n",
       "      <td>Tetley</td>\n",
       "      <td>396.00</td>\n",
       "      <td>495.0</td>\n",
       "      <td>Tea Bags</td>\n",
       "      <td>4.2</td>\n",
       "    </tr>\n",
       "    <tr>\n",
       "      <th>27554</th>\n",
       "      <td>no27555</td>\n",
       "      <td>United Dreams Go Far Deodorant</td>\n",
       "      <td>Beauty &amp; Hygiene</td>\n",
       "      <td>Men's Grooming</td>\n",
       "      <td>United Colors Of Benetton</td>\n",
       "      <td>214.53</td>\n",
       "      <td>390.0</td>\n",
       "      <td>Men's Deodorants</td>\n",
       "      <td>4.5</td>\n",
       "    </tr>\n",
       "  </tbody>\n",
       "</table>\n",
       "<p>27555 rows × 9 columns</p>\n",
       "</div>"
      ],
      "text/plain": [
       "            id                                            product  \\\n",
       "0          no1             Garlic Oil - Vegetarian Capsule 500 mg   \n",
       "1          no2                              Water Bottle - Orange   \n",
       "2          no3                     Brass Angle Deep - Plain, No.2   \n",
       "3          no4  Cereal Flip Lid Container/Storage Jar - Assort...   \n",
       "4          no5                 Creme Soft Soap - For Hands & Body   \n",
       "...        ...                                                ...   \n",
       "27550  no27551         Wottagirl! Perfume Spray - Heaven, Classic   \n",
       "27551  no27552                                           Rosemary   \n",
       "27552  no27553                       Peri-Peri Sweet Potato Chips   \n",
       "27553  no27554                          Green Tea - Pure Original   \n",
       "27554  no27555                     United Dreams Go Far Deodorant   \n",
       "\n",
       "                     category              sub_category  \\\n",
       "0            Beauty & Hygiene                 Hair Care   \n",
       "1      Kitchen, Garden & Pets     Storage & Accessories   \n",
       "2        Cleaning & Household               Pooja Needs   \n",
       "3        Cleaning & Household      Bins & Bathroom Ware   \n",
       "4            Beauty & Hygiene          Bath & Hand Wash   \n",
       "...                       ...                       ...   \n",
       "27550        Beauty & Hygiene         Fragrances & Deos   \n",
       "27551    Gourmet & World Food    Cooking & Baking Needs   \n",
       "27552    Gourmet & World Food  Snacks, Dry Fruits, Nuts   \n",
       "27553               Beverages                       Tea   \n",
       "27554        Beauty & Hygiene            Men's Grooming   \n",
       "\n",
       "                            brand  sale_price  market_price  \\\n",
       "0               Sri Sri Ayurveda       220.00         220.0   \n",
       "1                      Mastercook      180.00         180.0   \n",
       "2                             Trm      119.00         250.0   \n",
       "3                          Nakoda      149.00         176.0   \n",
       "4                           Nivea      162.00         162.0   \n",
       "...                           ...         ...           ...   \n",
       "27550                      Layerr      199.20         249.0   \n",
       "27551                    Puramate       67.50          75.0   \n",
       "27552                      FabBox      200.00         200.0   \n",
       "27553                      Tetley      396.00         495.0   \n",
       "27554  United Colors Of Benetton       214.53         390.0   \n",
       "\n",
       "                           type  rating  \n",
       "0              Hair Oil & Serum     4.1  \n",
       "1        Water & Fridge Bottles     2.3  \n",
       "2               Lamp & Lamp Oil     3.4  \n",
       "3      Laundry, Storage Baskets     3.7  \n",
       "4          Bathing Bars & Soaps     4.4  \n",
       "...                         ...     ...  \n",
       "27550                   Perfume     3.9  \n",
       "27551  Herbs, Seasonings & Rubs     4.0  \n",
       "27552            Nachos & Chips     3.8  \n",
       "27553                  Tea Bags     4.2  \n",
       "27554          Men's Deodorants     4.5  \n",
       "\n",
       "[27555 rows x 9 columns]"
      ]
     },
     "execution_count": 56,
     "metadata": {},
     "output_type": "execute_result"
    }
   ],
   "source": [
    "# drop the \"report\" column\n",
    "df.drop(columns = \"report\", inplace=True)\n",
    "df"
   ]
  },
  {
   "cell_type": "code",
   "execution_count": 57,
   "id": "563e0dc1",
   "metadata": {},
   "outputs": [
    {
     "data": {
      "text/html": [
       "<div>\n",
       "<style scoped>\n",
       "    .dataframe tbody tr th:only-of-type {\n",
       "        vertical-align: middle;\n",
       "    }\n",
       "\n",
       "    .dataframe tbody tr th {\n",
       "        vertical-align: top;\n",
       "    }\n",
       "\n",
       "    .dataframe thead th {\n",
       "        text-align: right;\n",
       "    }\n",
       "</style>\n",
       "<table border=\"1\" class=\"dataframe\">\n",
       "  <thead>\n",
       "    <tr style=\"text-align: right;\">\n",
       "      <th></th>\n",
       "      <th>id</th>\n",
       "      <th>product</th>\n",
       "      <th>category</th>\n",
       "      <th>sub_category</th>\n",
       "      <th>brand</th>\n",
       "      <th>sale_price</th>\n",
       "      <th>market_price</th>\n",
       "      <th>type</th>\n",
       "      <th>rating</th>\n",
       "    </tr>\n",
       "  </thead>\n",
       "  <tbody>\n",
       "    <tr>\n",
       "      <th>0</th>\n",
       "      <td>no1</td>\n",
       "      <td>Garlic Oil - Vegetarian Capsule 500 mg</td>\n",
       "      <td>Beauty &amp; Hygiene</td>\n",
       "      <td>Hair Care</td>\n",
       "      <td>Sri Sri Ayurveda</td>\n",
       "      <td>220.00</td>\n",
       "      <td>220.0</td>\n",
       "      <td>Hair Oil &amp; Serum</td>\n",
       "      <td>4.1</td>\n",
       "    </tr>\n",
       "    <tr>\n",
       "      <th>1</th>\n",
       "      <td>no2</td>\n",
       "      <td>Water Bottle - Orange</td>\n",
       "      <td>Kitchen, Garden &amp; Pets</td>\n",
       "      <td>Storage &amp; Accessories</td>\n",
       "      <td>Mastercook</td>\n",
       "      <td>180.00</td>\n",
       "      <td>180.0</td>\n",
       "      <td>Water &amp; Fridge Bottles</td>\n",
       "      <td>2.3</td>\n",
       "    </tr>\n",
       "    <tr>\n",
       "      <th>2</th>\n",
       "      <td>no3</td>\n",
       "      <td>Brass Angle Deep - Plain, No.2</td>\n",
       "      <td>Cleaning &amp; Household</td>\n",
       "      <td>Pooja Needs</td>\n",
       "      <td>Trm</td>\n",
       "      <td>119.00</td>\n",
       "      <td>250.0</td>\n",
       "      <td>Lamp &amp; Lamp Oil</td>\n",
       "      <td>3.4</td>\n",
       "    </tr>\n",
       "    <tr>\n",
       "      <th>4</th>\n",
       "      <td>no5</td>\n",
       "      <td>Creme Soft Soap - For Hands &amp; Body</td>\n",
       "      <td>Beauty &amp; Hygiene</td>\n",
       "      <td>Bath &amp; Hand Wash</td>\n",
       "      <td>Nivea</td>\n",
       "      <td>162.00</td>\n",
       "      <td>162.0</td>\n",
       "      <td>Bathing Bars &amp; Soaps</td>\n",
       "      <td>4.4</td>\n",
       "    </tr>\n",
       "    <tr>\n",
       "      <th>5</th>\n",
       "      <td>no6</td>\n",
       "      <td>Germ - Removal Multipurpose Wipes</td>\n",
       "      <td>Cleaning &amp; Household</td>\n",
       "      <td>All Purpose Cleaners</td>\n",
       "      <td>Nature Protect</td>\n",
       "      <td>169.00</td>\n",
       "      <td>199.0</td>\n",
       "      <td>Disinfectant Spray &amp; Cleaners</td>\n",
       "      <td>3.3</td>\n",
       "    </tr>\n",
       "    <tr>\n",
       "      <th>...</th>\n",
       "      <td>...</td>\n",
       "      <td>...</td>\n",
       "      <td>...</td>\n",
       "      <td>...</td>\n",
       "      <td>...</td>\n",
       "      <td>...</td>\n",
       "      <td>...</td>\n",
       "      <td>...</td>\n",
       "      <td>...</td>\n",
       "    </tr>\n",
       "    <tr>\n",
       "      <th>27550</th>\n",
       "      <td>no27551</td>\n",
       "      <td>Wottagirl! Perfume Spray - Heaven, Classic</td>\n",
       "      <td>Beauty &amp; Hygiene</td>\n",
       "      <td>Fragrances &amp; Deos</td>\n",
       "      <td>Layerr</td>\n",
       "      <td>199.20</td>\n",
       "      <td>249.0</td>\n",
       "      <td>Perfume</td>\n",
       "      <td>3.9</td>\n",
       "    </tr>\n",
       "    <tr>\n",
       "      <th>27551</th>\n",
       "      <td>no27552</td>\n",
       "      <td>Rosemary</td>\n",
       "      <td>Gourmet &amp; World Food</td>\n",
       "      <td>Cooking &amp; Baking Needs</td>\n",
       "      <td>Puramate</td>\n",
       "      <td>67.50</td>\n",
       "      <td>75.0</td>\n",
       "      <td>Herbs, Seasonings &amp; Rubs</td>\n",
       "      <td>4.0</td>\n",
       "    </tr>\n",
       "    <tr>\n",
       "      <th>27552</th>\n",
       "      <td>no27553</td>\n",
       "      <td>Peri-Peri Sweet Potato Chips</td>\n",
       "      <td>Gourmet &amp; World Food</td>\n",
       "      <td>Snacks, Dry Fruits, Nuts</td>\n",
       "      <td>FabBox</td>\n",
       "      <td>200.00</td>\n",
       "      <td>200.0</td>\n",
       "      <td>Nachos &amp; Chips</td>\n",
       "      <td>3.8</td>\n",
       "    </tr>\n",
       "    <tr>\n",
       "      <th>27553</th>\n",
       "      <td>no27554</td>\n",
       "      <td>Green Tea - Pure Original</td>\n",
       "      <td>Beverages</td>\n",
       "      <td>Tea</td>\n",
       "      <td>Tetley</td>\n",
       "      <td>396.00</td>\n",
       "      <td>495.0</td>\n",
       "      <td>Tea Bags</td>\n",
       "      <td>4.2</td>\n",
       "    </tr>\n",
       "    <tr>\n",
       "      <th>27554</th>\n",
       "      <td>no27555</td>\n",
       "      <td>United Dreams Go Far Deodorant</td>\n",
       "      <td>Beauty &amp; Hygiene</td>\n",
       "      <td>Men's Grooming</td>\n",
       "      <td>United Colors Of Benetton</td>\n",
       "      <td>214.53</td>\n",
       "      <td>390.0</td>\n",
       "      <td>Men's Deodorants</td>\n",
       "      <td>4.5</td>\n",
       "    </tr>\n",
       "  </tbody>\n",
       "</table>\n",
       "<p>27554 rows × 9 columns</p>\n",
       "</div>"
      ],
      "text/plain": [
       "            id                                     product  \\\n",
       "0          no1      Garlic Oil - Vegetarian Capsule 500 mg   \n",
       "1          no2                       Water Bottle - Orange   \n",
       "2          no3              Brass Angle Deep - Plain, No.2   \n",
       "4          no5          Creme Soft Soap - For Hands & Body   \n",
       "5          no6           Germ - Removal Multipurpose Wipes   \n",
       "...        ...                                         ...   \n",
       "27550  no27551  Wottagirl! Perfume Spray - Heaven, Classic   \n",
       "27551  no27552                                    Rosemary   \n",
       "27552  no27553                Peri-Peri Sweet Potato Chips   \n",
       "27553  no27554                   Green Tea - Pure Original   \n",
       "27554  no27555              United Dreams Go Far Deodorant   \n",
       "\n",
       "                     category              sub_category  \\\n",
       "0            Beauty & Hygiene                 Hair Care   \n",
       "1      Kitchen, Garden & Pets     Storage & Accessories   \n",
       "2        Cleaning & Household               Pooja Needs   \n",
       "4            Beauty & Hygiene          Bath & Hand Wash   \n",
       "5        Cleaning & Household      All Purpose Cleaners   \n",
       "...                       ...                       ...   \n",
       "27550        Beauty & Hygiene         Fragrances & Deos   \n",
       "27551    Gourmet & World Food    Cooking & Baking Needs   \n",
       "27552    Gourmet & World Food  Snacks, Dry Fruits, Nuts   \n",
       "27553               Beverages                       Tea   \n",
       "27554        Beauty & Hygiene            Men's Grooming   \n",
       "\n",
       "                            brand  sale_price  market_price  \\\n",
       "0               Sri Sri Ayurveda       220.00         220.0   \n",
       "1                      Mastercook      180.00         180.0   \n",
       "2                             Trm      119.00         250.0   \n",
       "4                           Nivea      162.00         162.0   \n",
       "5                  Nature Protect      169.00         199.0   \n",
       "...                           ...         ...           ...   \n",
       "27550                      Layerr      199.20         249.0   \n",
       "27551                    Puramate       67.50          75.0   \n",
       "27552                      FabBox      200.00         200.0   \n",
       "27553                      Tetley      396.00         495.0   \n",
       "27554  United Colors Of Benetton       214.53         390.0   \n",
       "\n",
       "                                type  rating  \n",
       "0                   Hair Oil & Serum     4.1  \n",
       "1             Water & Fridge Bottles     2.3  \n",
       "2                    Lamp & Lamp Oil     3.4  \n",
       "4               Bathing Bars & Soaps     4.4  \n",
       "5      Disinfectant Spray & Cleaners     3.3  \n",
       "...                              ...     ...  \n",
       "27550                        Perfume     3.9  \n",
       "27551       Herbs, Seasonings & Rubs     4.0  \n",
       "27552                 Nachos & Chips     3.8  \n",
       "27553                       Tea Bags     4.2  \n",
       "27554               Men's Deodorants     4.5  \n",
       "\n",
       "[27554 rows x 9 columns]"
      ]
     },
     "execution_count": 57,
     "metadata": {},
     "output_type": "execute_result"
    }
   ],
   "source": [
    "# Drop row with index 3\n",
    "df_new = df.drop(3)\n",
    "df_new"
   ]
  },
  {
   "cell_type": "markdown",
   "id": "490a941f",
   "metadata": {},
   "source": [
    "The **reset_index()** method allows you reset the index back to the default 0, 1, 2 etc indexes."
   ]
  },
  {
   "cell_type": "code",
   "execution_count": 58,
   "id": "2a2a2dff",
   "metadata": {},
   "outputs": [
    {
     "data": {
      "text/html": [
       "<div>\n",
       "<style scoped>\n",
       "    .dataframe tbody tr th:only-of-type {\n",
       "        vertical-align: middle;\n",
       "    }\n",
       "\n",
       "    .dataframe tbody tr th {\n",
       "        vertical-align: top;\n",
       "    }\n",
       "\n",
       "    .dataframe thead th {\n",
       "        text-align: right;\n",
       "    }\n",
       "</style>\n",
       "<table border=\"1\" class=\"dataframe\">\n",
       "  <thead>\n",
       "    <tr style=\"text-align: right;\">\n",
       "      <th></th>\n",
       "      <th>id</th>\n",
       "      <th>product</th>\n",
       "      <th>category</th>\n",
       "      <th>sub_category</th>\n",
       "      <th>brand</th>\n",
       "      <th>sale_price</th>\n",
       "      <th>market_price</th>\n",
       "      <th>type</th>\n",
       "      <th>rating</th>\n",
       "    </tr>\n",
       "  </thead>\n",
       "  <tbody>\n",
       "    <tr>\n",
       "      <th>0</th>\n",
       "      <td>no1</td>\n",
       "      <td>Garlic Oil - Vegetarian Capsule 500 mg</td>\n",
       "      <td>Beauty &amp; Hygiene</td>\n",
       "      <td>Hair Care</td>\n",
       "      <td>Sri Sri Ayurveda</td>\n",
       "      <td>220.00</td>\n",
       "      <td>220.0</td>\n",
       "      <td>Hair Oil &amp; Serum</td>\n",
       "      <td>4.1</td>\n",
       "    </tr>\n",
       "    <tr>\n",
       "      <th>1</th>\n",
       "      <td>no2</td>\n",
       "      <td>Water Bottle - Orange</td>\n",
       "      <td>Kitchen, Garden &amp; Pets</td>\n",
       "      <td>Storage &amp; Accessories</td>\n",
       "      <td>Mastercook</td>\n",
       "      <td>180.00</td>\n",
       "      <td>180.0</td>\n",
       "      <td>Water &amp; Fridge Bottles</td>\n",
       "      <td>2.3</td>\n",
       "    </tr>\n",
       "    <tr>\n",
       "      <th>2</th>\n",
       "      <td>no3</td>\n",
       "      <td>Brass Angle Deep - Plain, No.2</td>\n",
       "      <td>Cleaning &amp; Household</td>\n",
       "      <td>Pooja Needs</td>\n",
       "      <td>Trm</td>\n",
       "      <td>119.00</td>\n",
       "      <td>250.0</td>\n",
       "      <td>Lamp &amp; Lamp Oil</td>\n",
       "      <td>3.4</td>\n",
       "    </tr>\n",
       "    <tr>\n",
       "      <th>3</th>\n",
       "      <td>no5</td>\n",
       "      <td>Creme Soft Soap - For Hands &amp; Body</td>\n",
       "      <td>Beauty &amp; Hygiene</td>\n",
       "      <td>Bath &amp; Hand Wash</td>\n",
       "      <td>Nivea</td>\n",
       "      <td>162.00</td>\n",
       "      <td>162.0</td>\n",
       "      <td>Bathing Bars &amp; Soaps</td>\n",
       "      <td>4.4</td>\n",
       "    </tr>\n",
       "    <tr>\n",
       "      <th>4</th>\n",
       "      <td>no6</td>\n",
       "      <td>Germ - Removal Multipurpose Wipes</td>\n",
       "      <td>Cleaning &amp; Household</td>\n",
       "      <td>All Purpose Cleaners</td>\n",
       "      <td>Nature Protect</td>\n",
       "      <td>169.00</td>\n",
       "      <td>199.0</td>\n",
       "      <td>Disinfectant Spray &amp; Cleaners</td>\n",
       "      <td>3.3</td>\n",
       "    </tr>\n",
       "    <tr>\n",
       "      <th>...</th>\n",
       "      <td>...</td>\n",
       "      <td>...</td>\n",
       "      <td>...</td>\n",
       "      <td>...</td>\n",
       "      <td>...</td>\n",
       "      <td>...</td>\n",
       "      <td>...</td>\n",
       "      <td>...</td>\n",
       "      <td>...</td>\n",
       "    </tr>\n",
       "    <tr>\n",
       "      <th>27549</th>\n",
       "      <td>no27551</td>\n",
       "      <td>Wottagirl! Perfume Spray - Heaven, Classic</td>\n",
       "      <td>Beauty &amp; Hygiene</td>\n",
       "      <td>Fragrances &amp; Deos</td>\n",
       "      <td>Layerr</td>\n",
       "      <td>199.20</td>\n",
       "      <td>249.0</td>\n",
       "      <td>Perfume</td>\n",
       "      <td>3.9</td>\n",
       "    </tr>\n",
       "    <tr>\n",
       "      <th>27550</th>\n",
       "      <td>no27552</td>\n",
       "      <td>Rosemary</td>\n",
       "      <td>Gourmet &amp; World Food</td>\n",
       "      <td>Cooking &amp; Baking Needs</td>\n",
       "      <td>Puramate</td>\n",
       "      <td>67.50</td>\n",
       "      <td>75.0</td>\n",
       "      <td>Herbs, Seasonings &amp; Rubs</td>\n",
       "      <td>4.0</td>\n",
       "    </tr>\n",
       "    <tr>\n",
       "      <th>27551</th>\n",
       "      <td>no27553</td>\n",
       "      <td>Peri-Peri Sweet Potato Chips</td>\n",
       "      <td>Gourmet &amp; World Food</td>\n",
       "      <td>Snacks, Dry Fruits, Nuts</td>\n",
       "      <td>FabBox</td>\n",
       "      <td>200.00</td>\n",
       "      <td>200.0</td>\n",
       "      <td>Nachos &amp; Chips</td>\n",
       "      <td>3.8</td>\n",
       "    </tr>\n",
       "    <tr>\n",
       "      <th>27552</th>\n",
       "      <td>no27554</td>\n",
       "      <td>Green Tea - Pure Original</td>\n",
       "      <td>Beverages</td>\n",
       "      <td>Tea</td>\n",
       "      <td>Tetley</td>\n",
       "      <td>396.00</td>\n",
       "      <td>495.0</td>\n",
       "      <td>Tea Bags</td>\n",
       "      <td>4.2</td>\n",
       "    </tr>\n",
       "    <tr>\n",
       "      <th>27553</th>\n",
       "      <td>no27555</td>\n",
       "      <td>United Dreams Go Far Deodorant</td>\n",
       "      <td>Beauty &amp; Hygiene</td>\n",
       "      <td>Men's Grooming</td>\n",
       "      <td>United Colors Of Benetton</td>\n",
       "      <td>214.53</td>\n",
       "      <td>390.0</td>\n",
       "      <td>Men's Deodorants</td>\n",
       "      <td>4.5</td>\n",
       "    </tr>\n",
       "  </tbody>\n",
       "</table>\n",
       "<p>27554 rows × 9 columns</p>\n",
       "</div>"
      ],
      "text/plain": [
       "            id                                     product  \\\n",
       "0          no1      Garlic Oil - Vegetarian Capsule 500 mg   \n",
       "1          no2                       Water Bottle - Orange   \n",
       "2          no3              Brass Angle Deep - Plain, No.2   \n",
       "3          no5          Creme Soft Soap - For Hands & Body   \n",
       "4          no6           Germ - Removal Multipurpose Wipes   \n",
       "...        ...                                         ...   \n",
       "27549  no27551  Wottagirl! Perfume Spray - Heaven, Classic   \n",
       "27550  no27552                                    Rosemary   \n",
       "27551  no27553                Peri-Peri Sweet Potato Chips   \n",
       "27552  no27554                   Green Tea - Pure Original   \n",
       "27553  no27555              United Dreams Go Far Deodorant   \n",
       "\n",
       "                     category              sub_category  \\\n",
       "0            Beauty & Hygiene                 Hair Care   \n",
       "1      Kitchen, Garden & Pets     Storage & Accessories   \n",
       "2        Cleaning & Household               Pooja Needs   \n",
       "3            Beauty & Hygiene          Bath & Hand Wash   \n",
       "4        Cleaning & Household      All Purpose Cleaners   \n",
       "...                       ...                       ...   \n",
       "27549        Beauty & Hygiene         Fragrances & Deos   \n",
       "27550    Gourmet & World Food    Cooking & Baking Needs   \n",
       "27551    Gourmet & World Food  Snacks, Dry Fruits, Nuts   \n",
       "27552               Beverages                       Tea   \n",
       "27553        Beauty & Hygiene            Men's Grooming   \n",
       "\n",
       "                            brand  sale_price  market_price  \\\n",
       "0               Sri Sri Ayurveda       220.00         220.0   \n",
       "1                      Mastercook      180.00         180.0   \n",
       "2                             Trm      119.00         250.0   \n",
       "3                           Nivea      162.00         162.0   \n",
       "4                  Nature Protect      169.00         199.0   \n",
       "...                           ...         ...           ...   \n",
       "27549                      Layerr      199.20         249.0   \n",
       "27550                    Puramate       67.50          75.0   \n",
       "27551                      FabBox      200.00         200.0   \n",
       "27552                      Tetley      396.00         495.0   \n",
       "27553  United Colors Of Benetton       214.53         390.0   \n",
       "\n",
       "                                type  rating  \n",
       "0                   Hair Oil & Serum     4.1  \n",
       "1             Water & Fridge Bottles     2.3  \n",
       "2                    Lamp & Lamp Oil     3.4  \n",
       "3               Bathing Bars & Soaps     4.4  \n",
       "4      Disinfectant Spray & Cleaners     3.3  \n",
       "...                              ...     ...  \n",
       "27549                        Perfume     3.9  \n",
       "27550       Herbs, Seasonings & Rubs     4.0  \n",
       "27551                 Nachos & Chips     3.8  \n",
       "27552                       Tea Bags     4.2  \n",
       "27553               Men's Deodorants     4.5  \n",
       "\n",
       "[27554 rows x 9 columns]"
      ]
     },
     "execution_count": 58,
     "metadata": {},
     "output_type": "execute_result"
    }
   ],
   "source": [
    "df_new.reset_index(inplace=True, drop=True)\n",
    "df_new"
   ]
  },
  {
   "cell_type": "markdown",
   "id": "132647c1",
   "metadata": {},
   "source": [
    "## Indexing and selecting data\n",
    "\n",
    "Selecting a single column from the DataFrame will return a Series object."
   ]
  },
  {
   "cell_type": "code",
   "execution_count": 59,
   "id": "9176a733",
   "metadata": {},
   "outputs": [
    {
     "data": {
      "text/plain": [
       "0    Sri Sri Ayurveda \n",
       "1           Mastercook\n",
       "2                  Trm\n",
       "3               Nakoda\n",
       "4                Nivea\n",
       "Name: brand, dtype: object"
      ]
     },
     "execution_count": 59,
     "metadata": {},
     "output_type": "execute_result"
    }
   ],
   "source": [
    "df[\"brand\"].head()"
   ]
  },
  {
   "cell_type": "markdown",
   "id": "394d8cbc",
   "metadata": {},
   "source": [
    "To **select multiple columns**, simply pass a list of column names to the DataFrame, the output of which will be a DataFrame."
   ]
  },
  {
   "cell_type": "code",
   "execution_count": 60,
   "id": "5124794d",
   "metadata": {
    "scrolled": true
   },
   "outputs": [
    {
     "data": {
      "text/html": [
       "<div>\n",
       "<style scoped>\n",
       "    .dataframe tbody tr th:only-of-type {\n",
       "        vertical-align: middle;\n",
       "    }\n",
       "\n",
       "    .dataframe tbody tr th {\n",
       "        vertical-align: top;\n",
       "    }\n",
       "\n",
       "    .dataframe thead th {\n",
       "        text-align: right;\n",
       "    }\n",
       "</style>\n",
       "<table border=\"1\" class=\"dataframe\">\n",
       "  <thead>\n",
       "    <tr style=\"text-align: right;\">\n",
       "      <th></th>\n",
       "      <th>brand</th>\n",
       "      <th>category</th>\n",
       "    </tr>\n",
       "  </thead>\n",
       "  <tbody>\n",
       "    <tr>\n",
       "      <th>0</th>\n",
       "      <td>Sri Sri Ayurveda</td>\n",
       "      <td>Beauty &amp; Hygiene</td>\n",
       "    </tr>\n",
       "    <tr>\n",
       "      <th>1</th>\n",
       "      <td>Mastercook</td>\n",
       "      <td>Kitchen, Garden &amp; Pets</td>\n",
       "    </tr>\n",
       "    <tr>\n",
       "      <th>2</th>\n",
       "      <td>Trm</td>\n",
       "      <td>Cleaning &amp; Household</td>\n",
       "    </tr>\n",
       "    <tr>\n",
       "      <th>3</th>\n",
       "      <td>Nakoda</td>\n",
       "      <td>Cleaning &amp; Household</td>\n",
       "    </tr>\n",
       "    <tr>\n",
       "      <th>4</th>\n",
       "      <td>Nivea</td>\n",
       "      <td>Beauty &amp; Hygiene</td>\n",
       "    </tr>\n",
       "  </tbody>\n",
       "</table>\n",
       "</div>"
      ],
      "text/plain": [
       "               brand                category\n",
       "0  Sri Sri Ayurveda         Beauty & Hygiene\n",
       "1         Mastercook  Kitchen, Garden & Pets\n",
       "2                Trm    Cleaning & Household\n",
       "3             Nakoda    Cleaning & Household\n",
       "4              Nivea        Beauty & Hygiene"
      ]
     },
     "execution_count": 60,
     "metadata": {},
     "output_type": "execute_result"
    }
   ],
   "source": [
    "df[[\"brand\", \"category\"]].head()"
   ]
  },
  {
   "cell_type": "code",
   "execution_count": 70,
   "id": "07f82712",
   "metadata": {
    "ExecuteTime": {
     "end_time": "2022-07-14T06:58:51.853442Z",
     "start_time": "2022-07-14T06:58:51.838886Z"
    }
   },
   "outputs": [
    {
     "data": {
      "text/html": [
       "<div>\n",
       "<style scoped>\n",
       "    .dataframe tbody tr th:only-of-type {\n",
       "        vertical-align: middle;\n",
       "    }\n",
       "\n",
       "    .dataframe tbody tr th {\n",
       "        vertical-align: top;\n",
       "    }\n",
       "\n",
       "    .dataframe thead th {\n",
       "        text-align: right;\n",
       "    }\n",
       "</style>\n",
       "<table border=\"1\" class=\"dataframe\">\n",
       "  <thead>\n",
       "    <tr style=\"text-align: right;\">\n",
       "      <th></th>\n",
       "      <th>sub_category</th>\n",
       "      <th>brand</th>\n",
       "      <th>price</th>\n",
       "    </tr>\n",
       "  </thead>\n",
       "  <tbody>\n",
       "    <tr>\n",
       "      <th>0</th>\n",
       "      <td>Hair Care</td>\n",
       "      <td>Sri Sri Ayurveda</td>\n",
       "      <td>220.00</td>\n",
       "    </tr>\n",
       "    <tr>\n",
       "      <th>1</th>\n",
       "      <td>Storage &amp; Accessories</td>\n",
       "      <td>Mastercook</td>\n",
       "      <td>180.00</td>\n",
       "    </tr>\n",
       "    <tr>\n",
       "      <th>2</th>\n",
       "      <td>Pooja Needs</td>\n",
       "      <td>Trm</td>\n",
       "      <td>119.00</td>\n",
       "    </tr>\n",
       "    <tr>\n",
       "      <th>3</th>\n",
       "      <td>Bins &amp; Bathroom Ware</td>\n",
       "      <td>Nakoda</td>\n",
       "      <td>149.00</td>\n",
       "    </tr>\n",
       "    <tr>\n",
       "      <th>4</th>\n",
       "      <td>Bath &amp; Hand Wash</td>\n",
       "      <td>Nivea</td>\n",
       "      <td>162.00</td>\n",
       "    </tr>\n",
       "    <tr>\n",
       "      <th>...</th>\n",
       "      <td>...</td>\n",
       "      <td>...</td>\n",
       "      <td>...</td>\n",
       "    </tr>\n",
       "    <tr>\n",
       "      <th>27550</th>\n",
       "      <td>Fragrances &amp; Deos</td>\n",
       "      <td>Layerr</td>\n",
       "      <td>199.20</td>\n",
       "    </tr>\n",
       "    <tr>\n",
       "      <th>27551</th>\n",
       "      <td>Cooking &amp; Baking Needs</td>\n",
       "      <td>Puramate</td>\n",
       "      <td>67.50</td>\n",
       "    </tr>\n",
       "    <tr>\n",
       "      <th>27552</th>\n",
       "      <td>Snacks, Dry Fruits, Nuts</td>\n",
       "      <td>FabBox</td>\n",
       "      <td>200.00</td>\n",
       "    </tr>\n",
       "    <tr>\n",
       "      <th>27553</th>\n",
       "      <td>Tea</td>\n",
       "      <td>Tetley</td>\n",
       "      <td>396.00</td>\n",
       "    </tr>\n",
       "    <tr>\n",
       "      <th>27554</th>\n",
       "      <td>Men's Grooming</td>\n",
       "      <td>United Colors Of Benetton</td>\n",
       "      <td>214.53</td>\n",
       "    </tr>\n",
       "  </tbody>\n",
       "</table>\n",
       "<p>27555 rows × 3 columns</p>\n",
       "</div>"
      ],
      "text/plain": [
       "                   sub_category                       brand   price\n",
       "0                     Hair Care           Sri Sri Ayurveda   220.00\n",
       "1         Storage & Accessories                  Mastercook  180.00\n",
       "2                   Pooja Needs                         Trm  119.00\n",
       "3          Bins & Bathroom Ware                      Nakoda  149.00\n",
       "4              Bath & Hand Wash                       Nivea  162.00\n",
       "...                         ...                         ...     ...\n",
       "27550         Fragrances & Deos                      Layerr  199.20\n",
       "27551    Cooking & Baking Needs                    Puramate   67.50\n",
       "27552  Snacks, Dry Fruits, Nuts                      FabBox  200.00\n",
       "27553                       Tea                      Tetley  396.00\n",
       "27554            Men's Grooming  United Colors Of Benetton   214.53\n",
       "\n",
       "[27555 rows x 3 columns]"
      ]
     },
     "execution_count": 70,
     "metadata": {},
     "output_type": "execute_result"
    }
   ],
   "source": [
    "df.iloc[:, 3:6]"
   ]
  },
  {
   "cell_type": "code",
   "execution_count": null,
   "id": "cd784682",
   "metadata": {},
   "outputs": [],
   "source": []
  },
  {
   "cell_type": "markdown",
   "id": "750d72fb",
   "metadata": {},
   "source": [
    "The **set_index()** function is used to set the DataFrame index using existing columns"
   ]
  },
  {
   "cell_type": "code",
   "execution_count": 71,
   "id": "252a6e37",
   "metadata": {
    "ExecuteTime": {
     "end_time": "2022-07-14T06:59:28.792372Z",
     "start_time": "2022-07-14T06:59:28.773645Z"
    },
    "scrolled": true
   },
   "outputs": [
    {
     "data": {
      "text/html": [
       "<div>\n",
       "<style scoped>\n",
       "    .dataframe tbody tr th:only-of-type {\n",
       "        vertical-align: middle;\n",
       "    }\n",
       "\n",
       "    .dataframe tbody tr th {\n",
       "        vertical-align: top;\n",
       "    }\n",
       "\n",
       "    .dataframe thead th {\n",
       "        text-align: right;\n",
       "    }\n",
       "</style>\n",
       "<table border=\"1\" class=\"dataframe\">\n",
       "  <thead>\n",
       "    <tr style=\"text-align: right;\">\n",
       "      <th></th>\n",
       "      <th>product</th>\n",
       "      <th>category</th>\n",
       "      <th>sub_category</th>\n",
       "      <th>brand</th>\n",
       "      <th>price</th>\n",
       "      <th>market_price</th>\n",
       "      <th>type</th>\n",
       "      <th>rating</th>\n",
       "      <th>report</th>\n",
       "    </tr>\n",
       "    <tr>\n",
       "      <th>id</th>\n",
       "      <th></th>\n",
       "      <th></th>\n",
       "      <th></th>\n",
       "      <th></th>\n",
       "      <th></th>\n",
       "      <th></th>\n",
       "      <th></th>\n",
       "      <th></th>\n",
       "      <th></th>\n",
       "    </tr>\n",
       "  </thead>\n",
       "  <tbody>\n",
       "    <tr>\n",
       "      <th>no1</th>\n",
       "      <td>Garlic Oil - Vegetarian Capsule 500 mg</td>\n",
       "      <td>Beauty &amp; Hygiene</td>\n",
       "      <td>Hair Care</td>\n",
       "      <td>Sri Sri Ayurveda</td>\n",
       "      <td>220.00</td>\n",
       "      <td>220.0</td>\n",
       "      <td>Hair Oil &amp; Serum</td>\n",
       "      <td>4.1</td>\n",
       "      <td>This Product contains Garlic Oil that is known...</td>\n",
       "    </tr>\n",
       "    <tr>\n",
       "      <th>no2</th>\n",
       "      <td>Water Bottle - Orange</td>\n",
       "      <td>Kitchen, Garden &amp; Pets</td>\n",
       "      <td>Storage &amp; Accessories</td>\n",
       "      <td>Mastercook</td>\n",
       "      <td>180.00</td>\n",
       "      <td>180.0</td>\n",
       "      <td>Water &amp; Fridge Bottles</td>\n",
       "      <td>2.3</td>\n",
       "      <td>Each product is microwave safe (without lid), ...</td>\n",
       "    </tr>\n",
       "    <tr>\n",
       "      <th>no3</th>\n",
       "      <td>Brass Angle Deep - Plain, No.2</td>\n",
       "      <td>Cleaning &amp; Household</td>\n",
       "      <td>Pooja Needs</td>\n",
       "      <td>Trm</td>\n",
       "      <td>119.00</td>\n",
       "      <td>250.0</td>\n",
       "      <td>Lamp &amp; Lamp Oil</td>\n",
       "      <td>3.4</td>\n",
       "      <td>A perfect gift for all occasions, be it your m...</td>\n",
       "    </tr>\n",
       "    <tr>\n",
       "      <th>no4</th>\n",
       "      <td>Cereal Flip Lid Container/Storage Jar - Assort...</td>\n",
       "      <td>Cleaning &amp; Household</td>\n",
       "      <td>Bins &amp; Bathroom Ware</td>\n",
       "      <td>Nakoda</td>\n",
       "      <td>149.00</td>\n",
       "      <td>176.0</td>\n",
       "      <td>Laundry, Storage Baskets</td>\n",
       "      <td>3.7</td>\n",
       "      <td>Multipurpose container with an attractive desi...</td>\n",
       "    </tr>\n",
       "    <tr>\n",
       "      <th>no5</th>\n",
       "      <td>Creme Soft Soap - For Hands &amp; Body</td>\n",
       "      <td>Beauty &amp; Hygiene</td>\n",
       "      <td>Bath &amp; Hand Wash</td>\n",
       "      <td>Nivea</td>\n",
       "      <td>162.00</td>\n",
       "      <td>162.0</td>\n",
       "      <td>Bathing Bars &amp; Soaps</td>\n",
       "      <td>4.4</td>\n",
       "      <td>Nivea Creme Soft Soap gives your skin the best...</td>\n",
       "    </tr>\n",
       "    <tr>\n",
       "      <th>...</th>\n",
       "      <td>...</td>\n",
       "      <td>...</td>\n",
       "      <td>...</td>\n",
       "      <td>...</td>\n",
       "      <td>...</td>\n",
       "      <td>...</td>\n",
       "      <td>...</td>\n",
       "      <td>...</td>\n",
       "      <td>...</td>\n",
       "    </tr>\n",
       "    <tr>\n",
       "      <th>no27551</th>\n",
       "      <td>Wottagirl! Perfume Spray - Heaven, Classic</td>\n",
       "      <td>Beauty &amp; Hygiene</td>\n",
       "      <td>Fragrances &amp; Deos</td>\n",
       "      <td>Layerr</td>\n",
       "      <td>199.20</td>\n",
       "      <td>249.0</td>\n",
       "      <td>Perfume</td>\n",
       "      <td>3.9</td>\n",
       "      <td>Layerr brings you Wottagirl Classic fragrant b...</td>\n",
       "    </tr>\n",
       "    <tr>\n",
       "      <th>no27552</th>\n",
       "      <td>Rosemary</td>\n",
       "      <td>Gourmet &amp; World Food</td>\n",
       "      <td>Cooking &amp; Baking Needs</td>\n",
       "      <td>Puramate</td>\n",
       "      <td>67.50</td>\n",
       "      <td>75.0</td>\n",
       "      <td>Herbs, Seasonings &amp; Rubs</td>\n",
       "      <td>4.0</td>\n",
       "      <td>Puramate rosemary is enough to transform a dis...</td>\n",
       "    </tr>\n",
       "    <tr>\n",
       "      <th>no27553</th>\n",
       "      <td>Peri-Peri Sweet Potato Chips</td>\n",
       "      <td>Gourmet &amp; World Food</td>\n",
       "      <td>Snacks, Dry Fruits, Nuts</td>\n",
       "      <td>FabBox</td>\n",
       "      <td>200.00</td>\n",
       "      <td>200.0</td>\n",
       "      <td>Nachos &amp; Chips</td>\n",
       "      <td>3.8</td>\n",
       "      <td>We have taken the richness of Sweet Potatoes (...</td>\n",
       "    </tr>\n",
       "    <tr>\n",
       "      <th>no27554</th>\n",
       "      <td>Green Tea - Pure Original</td>\n",
       "      <td>Beverages</td>\n",
       "      <td>Tea</td>\n",
       "      <td>Tetley</td>\n",
       "      <td>396.00</td>\n",
       "      <td>495.0</td>\n",
       "      <td>Tea Bags</td>\n",
       "      <td>4.2</td>\n",
       "      <td>Tetley Green Tea with its refreshing pure, ori...</td>\n",
       "    </tr>\n",
       "    <tr>\n",
       "      <th>no27555</th>\n",
       "      <td>United Dreams Go Far Deodorant</td>\n",
       "      <td>Beauty &amp; Hygiene</td>\n",
       "      <td>Men's Grooming</td>\n",
       "      <td>United Colors Of Benetton</td>\n",
       "      <td>214.53</td>\n",
       "      <td>390.0</td>\n",
       "      <td>Men's Deodorants</td>\n",
       "      <td>4.5</td>\n",
       "      <td>The new mens fragrance from the United Dreams ...</td>\n",
       "    </tr>\n",
       "  </tbody>\n",
       "</table>\n",
       "<p>27555 rows × 9 columns</p>\n",
       "</div>"
      ],
      "text/plain": [
       "                                                   product  \\\n",
       "id                                                           \n",
       "no1                 Garlic Oil - Vegetarian Capsule 500 mg   \n",
       "no2                                  Water Bottle - Orange   \n",
       "no3                         Brass Angle Deep - Plain, No.2   \n",
       "no4      Cereal Flip Lid Container/Storage Jar - Assort...   \n",
       "no5                     Creme Soft Soap - For Hands & Body   \n",
       "...                                                    ...   \n",
       "no27551         Wottagirl! Perfume Spray - Heaven, Classic   \n",
       "no27552                                           Rosemary   \n",
       "no27553                       Peri-Peri Sweet Potato Chips   \n",
       "no27554                          Green Tea - Pure Original   \n",
       "no27555                     United Dreams Go Far Deodorant   \n",
       "\n",
       "                       category              sub_category  \\\n",
       "id                                                          \n",
       "no1            Beauty & Hygiene                 Hair Care   \n",
       "no2      Kitchen, Garden & Pets     Storage & Accessories   \n",
       "no3        Cleaning & Household               Pooja Needs   \n",
       "no4        Cleaning & Household      Bins & Bathroom Ware   \n",
       "no5            Beauty & Hygiene          Bath & Hand Wash   \n",
       "...                         ...                       ...   \n",
       "no27551        Beauty & Hygiene         Fragrances & Deos   \n",
       "no27552    Gourmet & World Food    Cooking & Baking Needs   \n",
       "no27553    Gourmet & World Food  Snacks, Dry Fruits, Nuts   \n",
       "no27554               Beverages                       Tea   \n",
       "no27555        Beauty & Hygiene            Men's Grooming   \n",
       "\n",
       "                              brand   price  market_price  \\\n",
       "id                                                          \n",
       "no1               Sri Sri Ayurveda   220.00         220.0   \n",
       "no2                      Mastercook  180.00         180.0   \n",
       "no3                             Trm  119.00         250.0   \n",
       "no4                          Nakoda  149.00         176.0   \n",
       "no5                           Nivea  162.00         162.0   \n",
       "...                             ...     ...           ...   \n",
       "no27551                      Layerr  199.20         249.0   \n",
       "no27552                    Puramate   67.50          75.0   \n",
       "no27553                      FabBox  200.00         200.0   \n",
       "no27554                      Tetley  396.00         495.0   \n",
       "no27555  United Colors Of Benetton   214.53         390.0   \n",
       "\n",
       "                             type  rating  \\\n",
       "id                                          \n",
       "no1              Hair Oil & Serum     4.1   \n",
       "no2        Water & Fridge Bottles     2.3   \n",
       "no3               Lamp & Lamp Oil     3.4   \n",
       "no4      Laundry, Storage Baskets     3.7   \n",
       "no5          Bathing Bars & Soaps     4.4   \n",
       "...                           ...     ...   \n",
       "no27551                   Perfume     3.9   \n",
       "no27552  Herbs, Seasonings & Rubs     4.0   \n",
       "no27553            Nachos & Chips     3.8   \n",
       "no27554                  Tea Bags     4.2   \n",
       "no27555          Men's Deodorants     4.5   \n",
       "\n",
       "                                                    report  \n",
       "id                                                          \n",
       "no1      This Product contains Garlic Oil that is known...  \n",
       "no2      Each product is microwave safe (without lid), ...  \n",
       "no3      A perfect gift for all occasions, be it your m...  \n",
       "no4      Multipurpose container with an attractive desi...  \n",
       "no5      Nivea Creme Soft Soap gives your skin the best...  \n",
       "...                                                    ...  \n",
       "no27551  Layerr brings you Wottagirl Classic fragrant b...  \n",
       "no27552  Puramate rosemary is enough to transform a dis...  \n",
       "no27553  We have taken the richness of Sweet Potatoes (...  \n",
       "no27554  Tetley Green Tea with its refreshing pure, ori...  \n",
       "no27555  The new mens fragrance from the United Dreams ...  \n",
       "\n",
       "[27555 rows x 9 columns]"
      ]
     },
     "execution_count": 71,
     "metadata": {},
     "output_type": "execute_result"
    }
   ],
   "source": [
    "df.set_index(\"id\", inplace=True)\n",
    "df"
   ]
  },
  {
   "cell_type": "code",
   "execution_count": 72,
   "id": "47114c7a",
   "metadata": {
    "ExecuteTime": {
     "end_time": "2022-07-14T06:59:53.041518Z",
     "start_time": "2022-07-14T06:59:53.026453Z"
    }
   },
   "outputs": [
    {
     "data": {
      "text/plain": [
       "product                                     Water Bottle - Orange\n",
       "category                                   Kitchen, Garden & Pets\n",
       "sub_category                                Storage & Accessories\n",
       "brand                                                  Mastercook\n",
       "price                                                       180.0\n",
       "market_price                                                180.0\n",
       "type                                       Water & Fridge Bottles\n",
       "rating                                                        2.3\n",
       "report          Each product is microwave safe (without lid), ...\n",
       "Name: no2, dtype: object"
      ]
     },
     "execution_count": 72,
     "metadata": {},
     "output_type": "execute_result"
    }
   ],
   "source": [
    "df.loc['no2']"
   ]
  },
  {
   "cell_type": "markdown",
   "id": "b99e2647",
   "metadata": {},
   "source": [
    "### Index-based selection\n",
    "\n",
    "When using `[]` like above, you can only select from one axis at once (rows or columns, not both). For more advanced indexing, you have some extra attributes:\n",
    "    \n",
    "* `loc`: selection by label\n",
    "* `iloc`: selection by position\n",
    "\n",
    "These methods index the different dimensions of the frame:\n",
    "\n",
    "* `df.loc[row_indexer, column_indexer]`\n",
    "* `df.iloc[row_indexer, column_indexer]`"
   ]
  },
  {
   "cell_type": "markdown",
   "id": "cc55b2c2",
   "metadata": {},
   "source": [
    "Selecting a single element:"
   ]
  },
  {
   "cell_type": "code",
   "execution_count": 73,
   "id": "e63d8401",
   "metadata": {
    "ExecuteTime": {
     "end_time": "2022-07-14T07:00:44.560487Z",
     "start_time": "2022-07-14T07:00:44.554053Z"
    }
   },
   "outputs": [
    {
     "data": {
      "text/plain": [
       "'Hair Oil & Serum'"
      ]
     },
     "execution_count": 73,
     "metadata": {},
     "output_type": "execute_result"
    }
   ],
   "source": [
    "df.loc[\"no1\", 'type']"
   ]
  },
  {
   "cell_type": "markdown",
   "id": "12d30d69",
   "metadata": {},
   "source": [
    "the row or column indexer can also be a list, slice, boolean array, .."
   ]
  },
  {
   "cell_type": "code",
   "execution_count": 74,
   "id": "07f01246",
   "metadata": {
    "ExecuteTime": {
     "end_time": "2022-07-14T07:01:20.632551Z",
     "start_time": "2022-07-14T07:01:20.623934Z"
    }
   },
   "outputs": [
    {
     "data": {
      "text/html": [
       "<div>\n",
       "<style scoped>\n",
       "    .dataframe tbody tr th:only-of-type {\n",
       "        vertical-align: middle;\n",
       "    }\n",
       "\n",
       "    .dataframe tbody tr th {\n",
       "        vertical-align: top;\n",
       "    }\n",
       "\n",
       "    .dataframe thead th {\n",
       "        text-align: right;\n",
       "    }\n",
       "</style>\n",
       "<table border=\"1\" class=\"dataframe\">\n",
       "  <thead>\n",
       "    <tr style=\"text-align: right;\">\n",
       "      <th></th>\n",
       "      <th>type</th>\n",
       "      <th>product</th>\n",
       "    </tr>\n",
       "    <tr>\n",
       "      <th>id</th>\n",
       "      <th></th>\n",
       "      <th></th>\n",
       "    </tr>\n",
       "  </thead>\n",
       "  <tbody>\n",
       "    <tr>\n",
       "      <th>no1</th>\n",
       "      <td>Hair Oil &amp; Serum</td>\n",
       "      <td>Garlic Oil - Vegetarian Capsule 500 mg</td>\n",
       "    </tr>\n",
       "    <tr>\n",
       "      <th>no3</th>\n",
       "      <td>Lamp &amp; Lamp Oil</td>\n",
       "      <td>Brass Angle Deep - Plain, No.2</td>\n",
       "    </tr>\n",
       "    <tr>\n",
       "      <th>no5</th>\n",
       "      <td>Bathing Bars &amp; Soaps</td>\n",
       "      <td>Creme Soft Soap - For Hands &amp; Body</td>\n",
       "    </tr>\n",
       "    <tr>\n",
       "      <th>no7</th>\n",
       "      <td>Face Care</td>\n",
       "      <td>Multani Mati</td>\n",
       "    </tr>\n",
       "    <tr>\n",
       "      <th>no9</th>\n",
       "      <td>Shampoo &amp; Conditioner</td>\n",
       "      <td>Biotin &amp; Collagen Volumizing Hair Shampoo + Bi...</td>\n",
       "    </tr>\n",
       "  </tbody>\n",
       "</table>\n",
       "</div>"
      ],
      "text/plain": [
       "                      type                                            product\n",
       "id                                                                           \n",
       "no1       Hair Oil & Serum             Garlic Oil - Vegetarian Capsule 500 mg\n",
       "no3        Lamp & Lamp Oil                     Brass Angle Deep - Plain, No.2\n",
       "no5   Bathing Bars & Soaps                 Creme Soft Soap - For Hands & Body\n",
       "no7              Face Care                                       Multani Mati\n",
       "no9  Shampoo & Conditioner  Biotin & Collagen Volumizing Hair Shampoo + Bi..."
      ]
     },
     "execution_count": 74,
     "metadata": {},
     "output_type": "execute_result"
    }
   ],
   "source": [
    "df.loc[\"no1\":\"no10\":2, [\"type\", \"product\"]]"
   ]
  },
  {
   "cell_type": "markdown",
   "id": "7cfd33c2",
   "metadata": {},
   "source": [
    "Selecting by position with `iloc` works similar as indexing numpy arrays."
   ]
  },
  {
   "cell_type": "code",
   "execution_count": 75,
   "id": "acb382e2",
   "metadata": {
    "ExecuteTime": {
     "end_time": "2022-07-14T07:01:50.315699Z",
     "start_time": "2022-07-14T07:01:50.305917Z"
    }
   },
   "outputs": [
    {
     "data": {
      "text/html": [
       "<div>\n",
       "<style scoped>\n",
       "    .dataframe tbody tr th:only-of-type {\n",
       "        vertical-align: middle;\n",
       "    }\n",
       "\n",
       "    .dataframe tbody tr th {\n",
       "        vertical-align: top;\n",
       "    }\n",
       "\n",
       "    .dataframe thead th {\n",
       "        text-align: right;\n",
       "    }\n",
       "</style>\n",
       "<table border=\"1\" class=\"dataframe\">\n",
       "  <thead>\n",
       "    <tr style=\"text-align: right;\">\n",
       "      <th></th>\n",
       "      <th>sub_category</th>\n",
       "      <th>price</th>\n",
       "      <th>type</th>\n",
       "    </tr>\n",
       "    <tr>\n",
       "      <th>id</th>\n",
       "      <th></th>\n",
       "      <th></th>\n",
       "      <th></th>\n",
       "    </tr>\n",
       "  </thead>\n",
       "  <tbody>\n",
       "    <tr>\n",
       "      <th>no2</th>\n",
       "      <td>Storage &amp; Accessories</td>\n",
       "      <td>180.0</td>\n",
       "      <td>Water &amp; Fridge Bottles</td>\n",
       "    </tr>\n",
       "    <tr>\n",
       "      <th>no3</th>\n",
       "      <td>Pooja Needs</td>\n",
       "      <td>119.0</td>\n",
       "      <td>Lamp &amp; Lamp Oil</td>\n",
       "    </tr>\n",
       "    <tr>\n",
       "      <th>no4</th>\n",
       "      <td>Bins &amp; Bathroom Ware</td>\n",
       "      <td>149.0</td>\n",
       "      <td>Laundry, Storage Baskets</td>\n",
       "    </tr>\n",
       "  </tbody>\n",
       "</table>\n",
       "</div>"
      ],
      "text/plain": [
       "              sub_category  price                      type\n",
       "id                                                         \n",
       "no2  Storage & Accessories  180.0    Water & Fridge Bottles\n",
       "no3            Pooja Needs  119.0           Lamp & Lamp Oil\n",
       "no4   Bins & Bathroom Ware  149.0  Laundry, Storage Baskets"
      ]
     },
     "execution_count": 75,
     "metadata": {},
     "output_type": "execute_result"
    }
   ],
   "source": [
    "df.iloc[1:4 , 2: 8:2]"
   ]
  },
  {
   "cell_type": "markdown",
   "id": "9b6db36f",
   "metadata": {},
   "source": [
    "### Boolean indexing (filtering)\n",
    "Often, you want to select rows based on a certain condition. This can be done with 'boolean indexing' "
   ]
  },
  {
   "cell_type": "code",
   "execution_count": 76,
   "id": "11aaf7ba",
   "metadata": {
    "ExecuteTime": {
     "end_time": "2022-07-14T07:02:13.038054Z",
     "start_time": "2022-07-14T07:02:13.027495Z"
    }
   },
   "outputs": [
    {
     "data": {
      "text/plain": [
       "id\n",
       "no1        False\n",
       "no2        False\n",
       "no3        False\n",
       "no4        False\n",
       "no5         True\n",
       "           ...  \n",
       "no27551    False\n",
       "no27552    False\n",
       "no27553    False\n",
       "no27554    False\n",
       "no27555    False\n",
       "Name: brand, Length: 27555, dtype: bool"
      ]
     },
     "execution_count": 76,
     "metadata": {},
     "output_type": "execute_result"
    }
   ],
   "source": [
    "df[\"brand\"] == \"Nivea\""
   ]
  },
  {
   "cell_type": "code",
   "execution_count": 77,
   "id": "ed8afe1e",
   "metadata": {
    "ExecuteTime": {
     "end_time": "2022-07-14T07:02:35.416258Z",
     "start_time": "2022-07-14T07:02:35.394327Z"
    }
   },
   "outputs": [
    {
     "data": {
      "text/html": [
       "<div>\n",
       "<style scoped>\n",
       "    .dataframe tbody tr th:only-of-type {\n",
       "        vertical-align: middle;\n",
       "    }\n",
       "\n",
       "    .dataframe tbody tr th {\n",
       "        vertical-align: top;\n",
       "    }\n",
       "\n",
       "    .dataframe thead th {\n",
       "        text-align: right;\n",
       "    }\n",
       "</style>\n",
       "<table border=\"1\" class=\"dataframe\">\n",
       "  <thead>\n",
       "    <tr style=\"text-align: right;\">\n",
       "      <th></th>\n",
       "      <th>product</th>\n",
       "      <th>category</th>\n",
       "      <th>sub_category</th>\n",
       "      <th>brand</th>\n",
       "      <th>price</th>\n",
       "      <th>market_price</th>\n",
       "      <th>type</th>\n",
       "      <th>rating</th>\n",
       "      <th>report</th>\n",
       "    </tr>\n",
       "    <tr>\n",
       "      <th>id</th>\n",
       "      <th></th>\n",
       "      <th></th>\n",
       "      <th></th>\n",
       "      <th></th>\n",
       "      <th></th>\n",
       "      <th></th>\n",
       "      <th></th>\n",
       "      <th></th>\n",
       "      <th></th>\n",
       "    </tr>\n",
       "  </thead>\n",
       "  <tbody>\n",
       "    <tr>\n",
       "      <th>no5</th>\n",
       "      <td>Creme Soft Soap - For Hands &amp; Body</td>\n",
       "      <td>Beauty &amp; Hygiene</td>\n",
       "      <td>Bath &amp; Hand Wash</td>\n",
       "      <td>Nivea</td>\n",
       "      <td>162.00</td>\n",
       "      <td>162.0</td>\n",
       "      <td>Bathing Bars &amp; Soaps</td>\n",
       "      <td>4.4</td>\n",
       "      <td>Nivea Creme Soft Soap gives your skin the best...</td>\n",
       "    </tr>\n",
       "    <tr>\n",
       "      <th>no319</th>\n",
       "      <td>Milk Delights Face Wash With Honey For Dry Skin</td>\n",
       "      <td>Beauty &amp; Hygiene</td>\n",
       "      <td>Skin Care</td>\n",
       "      <td>Nivea</td>\n",
       "      <td>86.40</td>\n",
       "      <td>90.0</td>\n",
       "      <td>Face Care</td>\n",
       "      <td>4.2</td>\n",
       "      <td>Presenting New Nivea Milk Delights Face Wash w...</td>\n",
       "    </tr>\n",
       "    <tr>\n",
       "      <th>no413</th>\n",
       "      <td>Original Care Lip Balm For 24h Moisture With S...</td>\n",
       "      <td>Beauty &amp; Hygiene</td>\n",
       "      <td>Skin Care</td>\n",
       "      <td>Nivea</td>\n",
       "      <td>114.80</td>\n",
       "      <td>140.0</td>\n",
       "      <td>Lip Care</td>\n",
       "      <td>4.3</td>\n",
       "      <td>Nivea Original Care Lip Blam nourishes lips in...</td>\n",
       "    </tr>\n",
       "    <tr>\n",
       "      <th>no2539</th>\n",
       "      <td>Extra Whitening Cell Repair Body Lotion - SPF ...</td>\n",
       "      <td>Beauty &amp; Hygiene</td>\n",
       "      <td>Skin Care</td>\n",
       "      <td>Nivea</td>\n",
       "      <td>249.60</td>\n",
       "      <td>260.0</td>\n",
       "      <td>Body Care</td>\n",
       "      <td>3.6</td>\n",
       "      <td>The ultra-light formula of Nivea Express Hydra...</td>\n",
       "    </tr>\n",
       "    <tr>\n",
       "      <th>no2583</th>\n",
       "      <td>Whitening Smooth Skin Women Deodorant Roll On ...</td>\n",
       "      <td>Beauty &amp; Hygiene</td>\n",
       "      <td>Fragrances &amp; Deos</td>\n",
       "      <td>Nivea</td>\n",
       "      <td>139.30</td>\n",
       "      <td>199.0</td>\n",
       "      <td>Women's Deodorants</td>\n",
       "      <td>4.4</td>\n",
       "      <td>Care for your underarms with NIVEA Whitening S...</td>\n",
       "    </tr>\n",
       "    <tr>\n",
       "      <th>...</th>\n",
       "      <td>...</td>\n",
       "      <td>...</td>\n",
       "      <td>...</td>\n",
       "      <td>...</td>\n",
       "      <td>...</td>\n",
       "      <td>...</td>\n",
       "      <td>...</td>\n",
       "      <td>...</td>\n",
       "      <td>...</td>\n",
       "    </tr>\n",
       "    <tr>\n",
       "      <th>no26912</th>\n",
       "      <td>Body Wash - Frangipani &amp; Oil Shower Gel</td>\n",
       "      <td>Beauty &amp; Hygiene</td>\n",
       "      <td>Bath &amp; Hand Wash</td>\n",
       "      <td>Nivea</td>\n",
       "      <td>339.15</td>\n",
       "      <td>399.0</td>\n",
       "      <td>Shower Gel &amp; Body Wash</td>\n",
       "      <td>4.0</td>\n",
       "      <td>Give your skin refreshing care with Nivea fran...</td>\n",
       "    </tr>\n",
       "    <tr>\n",
       "      <th>no26993</th>\n",
       "      <td>Milk Delights Face Wash With Besan For Oily Skin</td>\n",
       "      <td>Beauty &amp; Hygiene</td>\n",
       "      <td>Skin Care</td>\n",
       "      <td>Nivea</td>\n",
       "      <td>86.40</td>\n",
       "      <td>90.0</td>\n",
       "      <td>Face Care</td>\n",
       "      <td>4.1</td>\n",
       "      <td>Presenting New Nivea Milk Delights Face Wash h...</td>\n",
       "    </tr>\n",
       "    <tr>\n",
       "      <th>no27081</th>\n",
       "      <td>Women Deodorant Roll On - Protect &amp; Care, Non-...</td>\n",
       "      <td>Beauty &amp; Hygiene</td>\n",
       "      <td>Men's Grooming</td>\n",
       "      <td>Nivea</td>\n",
       "      <td>181.30</td>\n",
       "      <td>185.0</td>\n",
       "      <td>Men's Deodorants</td>\n",
       "      <td>4.4</td>\n",
       "      <td>Nivea Protect &amp; Care is the only roll on with ...</td>\n",
       "    </tr>\n",
       "    <tr>\n",
       "      <th>no27154</th>\n",
       "      <td>Cherry Shine Lip Balm - 24h Moisture With Natu...</td>\n",
       "      <td>Beauty &amp; Hygiene</td>\n",
       "      <td>Makeup</td>\n",
       "      <td>Nivea</td>\n",
       "      <td>139.00</td>\n",
       "      <td>185.0</td>\n",
       "      <td>Lips</td>\n",
       "      <td>4.3</td>\n",
       "      <td>Nivea charming Cherry Shine lip care delights ...</td>\n",
       "    </tr>\n",
       "    <tr>\n",
       "      <th>no27168</th>\n",
       "      <td>Milk Delights Women Face Wash With Turmeric Fo...</td>\n",
       "      <td>Beauty &amp; Hygiene</td>\n",
       "      <td>Skin Care</td>\n",
       "      <td>Nivea</td>\n",
       "      <td>131.25</td>\n",
       "      <td>175.0</td>\n",
       "      <td>Face Care</td>\n",
       "      <td>4.5</td>\n",
       "      <td>Presenting New NIVEA Milk Delights Face Wash. ...</td>\n",
       "    </tr>\n",
       "  </tbody>\n",
       "</table>\n",
       "<p>87 rows × 9 columns</p>\n",
       "</div>"
      ],
      "text/plain": [
       "                                                   product          category  \\\n",
       "id                                                                             \n",
       "no5                     Creme Soft Soap - For Hands & Body  Beauty & Hygiene   \n",
       "no319      Milk Delights Face Wash With Honey For Dry Skin  Beauty & Hygiene   \n",
       "no413    Original Care Lip Balm For 24h Moisture With S...  Beauty & Hygiene   \n",
       "no2539   Extra Whitening Cell Repair Body Lotion - SPF ...  Beauty & Hygiene   \n",
       "no2583   Whitening Smooth Skin Women Deodorant Roll On ...  Beauty & Hygiene   \n",
       "...                                                    ...               ...   \n",
       "no26912            Body Wash - Frangipani & Oil Shower Gel  Beauty & Hygiene   \n",
       "no26993   Milk Delights Face Wash With Besan For Oily Skin  Beauty & Hygiene   \n",
       "no27081  Women Deodorant Roll On - Protect & Care, Non-...  Beauty & Hygiene   \n",
       "no27154  Cherry Shine Lip Balm - 24h Moisture With Natu...  Beauty & Hygiene   \n",
       "no27168  Milk Delights Women Face Wash With Turmeric Fo...  Beauty & Hygiene   \n",
       "\n",
       "              sub_category  brand   price  market_price  \\\n",
       "id                                                        \n",
       "no5       Bath & Hand Wash  Nivea  162.00         162.0   \n",
       "no319            Skin Care  Nivea   86.40          90.0   \n",
       "no413            Skin Care  Nivea  114.80         140.0   \n",
       "no2539           Skin Care  Nivea  249.60         260.0   \n",
       "no2583   Fragrances & Deos  Nivea  139.30         199.0   \n",
       "...                    ...    ...     ...           ...   \n",
       "no26912   Bath & Hand Wash  Nivea  339.15         399.0   \n",
       "no26993          Skin Care  Nivea   86.40          90.0   \n",
       "no27081     Men's Grooming  Nivea  181.30         185.0   \n",
       "no27154             Makeup  Nivea  139.00         185.0   \n",
       "no27168          Skin Care  Nivea  131.25         175.0   \n",
       "\n",
       "                           type  rating  \\\n",
       "id                                        \n",
       "no5        Bathing Bars & Soaps     4.4   \n",
       "no319                 Face Care     4.2   \n",
       "no413                  Lip Care     4.3   \n",
       "no2539                Body Care     3.6   \n",
       "no2583       Women's Deodorants     4.4   \n",
       "...                         ...     ...   \n",
       "no26912  Shower Gel & Body Wash     4.0   \n",
       "no26993               Face Care     4.1   \n",
       "no27081        Men's Deodorants     4.4   \n",
       "no27154                    Lips     4.3   \n",
       "no27168               Face Care     4.5   \n",
       "\n",
       "                                                    report  \n",
       "id                                                          \n",
       "no5      Nivea Creme Soft Soap gives your skin the best...  \n",
       "no319    Presenting New Nivea Milk Delights Face Wash w...  \n",
       "no413    Nivea Original Care Lip Blam nourishes lips in...  \n",
       "no2539   The ultra-light formula of Nivea Express Hydra...  \n",
       "no2583   Care for your underarms with NIVEA Whitening S...  \n",
       "...                                                    ...  \n",
       "no26912  Give your skin refreshing care with Nivea fran...  \n",
       "no26993  Presenting New Nivea Milk Delights Face Wash h...  \n",
       "no27081  Nivea Protect & Care is the only roll on with ...  \n",
       "no27154  Nivea charming Cherry Shine lip care delights ...  \n",
       "no27168  Presenting New NIVEA Milk Delights Face Wash. ...  \n",
       "\n",
       "[87 rows x 9 columns]"
      ]
     },
     "execution_count": 77,
     "metadata": {},
     "output_type": "execute_result"
    }
   ],
   "source": [
    "df[df[\"brand\"] == \"Nivea\"]"
   ]
  },
  {
   "cell_type": "code",
   "execution_count": 78,
   "id": "6508d2b1",
   "metadata": {
    "ExecuteTime": {
     "end_time": "2022-07-14T07:03:01.728344Z",
     "start_time": "2022-07-14T07:03:01.714689Z"
    }
   },
   "outputs": [
    {
     "data": {
      "text/html": [
       "<div>\n",
       "<style scoped>\n",
       "    .dataframe tbody tr th:only-of-type {\n",
       "        vertical-align: middle;\n",
       "    }\n",
       "\n",
       "    .dataframe tbody tr th {\n",
       "        vertical-align: top;\n",
       "    }\n",
       "\n",
       "    .dataframe thead th {\n",
       "        text-align: right;\n",
       "    }\n",
       "</style>\n",
       "<table border=\"1\" class=\"dataframe\">\n",
       "  <thead>\n",
       "    <tr style=\"text-align: right;\">\n",
       "      <th></th>\n",
       "      <th>product</th>\n",
       "      <th>category</th>\n",
       "    </tr>\n",
       "    <tr>\n",
       "      <th>id</th>\n",
       "      <th></th>\n",
       "      <th></th>\n",
       "    </tr>\n",
       "  </thead>\n",
       "  <tbody>\n",
       "    <tr>\n",
       "      <th>no5</th>\n",
       "      <td>Creme Soft Soap - For Hands &amp; Body</td>\n",
       "      <td>Beauty &amp; Hygiene</td>\n",
       "    </tr>\n",
       "    <tr>\n",
       "      <th>no319</th>\n",
       "      <td>Milk Delights Face Wash With Honey For Dry Skin</td>\n",
       "      <td>Beauty &amp; Hygiene</td>\n",
       "    </tr>\n",
       "    <tr>\n",
       "      <th>no413</th>\n",
       "      <td>Original Care Lip Balm For 24h Moisture With S...</td>\n",
       "      <td>Beauty &amp; Hygiene</td>\n",
       "    </tr>\n",
       "    <tr>\n",
       "      <th>no2539</th>\n",
       "      <td>Extra Whitening Cell Repair Body Lotion - SPF ...</td>\n",
       "      <td>Beauty &amp; Hygiene</td>\n",
       "    </tr>\n",
       "    <tr>\n",
       "      <th>no2583</th>\n",
       "      <td>Whitening Smooth Skin Women Deodorant Roll On ...</td>\n",
       "      <td>Beauty &amp; Hygiene</td>\n",
       "    </tr>\n",
       "    <tr>\n",
       "      <th>...</th>\n",
       "      <td>...</td>\n",
       "      <td>...</td>\n",
       "    </tr>\n",
       "    <tr>\n",
       "      <th>no26912</th>\n",
       "      <td>Body Wash - Frangipani &amp; Oil Shower Gel</td>\n",
       "      <td>Beauty &amp; Hygiene</td>\n",
       "    </tr>\n",
       "    <tr>\n",
       "      <th>no26993</th>\n",
       "      <td>Milk Delights Face Wash With Besan For Oily Skin</td>\n",
       "      <td>Beauty &amp; Hygiene</td>\n",
       "    </tr>\n",
       "    <tr>\n",
       "      <th>no27081</th>\n",
       "      <td>Women Deodorant Roll On - Protect &amp; Care, Non-...</td>\n",
       "      <td>Beauty &amp; Hygiene</td>\n",
       "    </tr>\n",
       "    <tr>\n",
       "      <th>no27154</th>\n",
       "      <td>Cherry Shine Lip Balm - 24h Moisture With Natu...</td>\n",
       "      <td>Beauty &amp; Hygiene</td>\n",
       "    </tr>\n",
       "    <tr>\n",
       "      <th>no27168</th>\n",
       "      <td>Milk Delights Women Face Wash With Turmeric Fo...</td>\n",
       "      <td>Beauty &amp; Hygiene</td>\n",
       "    </tr>\n",
       "  </tbody>\n",
       "</table>\n",
       "<p>87 rows × 2 columns</p>\n",
       "</div>"
      ],
      "text/plain": [
       "                                                   product          category\n",
       "id                                                                          \n",
       "no5                     Creme Soft Soap - For Hands & Body  Beauty & Hygiene\n",
       "no319      Milk Delights Face Wash With Honey For Dry Skin  Beauty & Hygiene\n",
       "no413    Original Care Lip Balm For 24h Moisture With S...  Beauty & Hygiene\n",
       "no2539   Extra Whitening Cell Repair Body Lotion - SPF ...  Beauty & Hygiene\n",
       "no2583   Whitening Smooth Skin Women Deodorant Roll On ...  Beauty & Hygiene\n",
       "...                                                    ...               ...\n",
       "no26912            Body Wash - Frangipani & Oil Shower Gel  Beauty & Hygiene\n",
       "no26993   Milk Delights Face Wash With Besan For Oily Skin  Beauty & Hygiene\n",
       "no27081  Women Deodorant Roll On - Protect & Care, Non-...  Beauty & Hygiene\n",
       "no27154  Cherry Shine Lip Balm - 24h Moisture With Natu...  Beauty & Hygiene\n",
       "no27168  Milk Delights Women Face Wash With Turmeric Fo...  Beauty & Hygiene\n",
       "\n",
       "[87 rows x 2 columns]"
      ]
     },
     "execution_count": 78,
     "metadata": {},
     "output_type": "execute_result"
    }
   ],
   "source": [
    "df.loc[df[\"brand\"] == \"Nivea\", [\"product\",\"category\"]]"
   ]
  },
  {
   "cell_type": "markdown",
   "id": "f1da52b2",
   "metadata": {},
   "source": [
    "## Inspecting a DataFrame  \n",
    "\n",
    "pandas has a variety of functions for getting basic information about your DataFrame. Some of them are:\n",
    "\n",
    "* **head()** shows the first five rows of the dataframe by default but you can specify the number of rows in the parenthesis\n",
    "* **tail()** shows the bottom five rows by default\n",
    "* **shape** tells us how many rows and columns exist in a dataframe\n",
    "* **columns** Get the column names from our DataFrame.\n",
    "* **dtypes** Check data types of each column\n",
    "* **info()** Get summary information about our index, columns, and memory usage.\n",
    "* **describe()** Get summary statistics about the columns in our data.\n",
    "* **unique() / value_counts()** Get the distinct values in a DataFrame column\n",
    "  > value_counts is similar to unique, but instead of returning an array of unique values, it returns a series with the frequency for each value"
   ]
  },
  {
   "cell_type": "code",
   "execution_count": 69,
   "id": "ae6c91a4",
   "metadata": {},
   "outputs": [
    {
     "data": {
      "text/html": [
       "<div>\n",
       "<style scoped>\n",
       "    .dataframe tbody tr th:only-of-type {\n",
       "        vertical-align: middle;\n",
       "    }\n",
       "\n",
       "    .dataframe tbody tr th {\n",
       "        vertical-align: top;\n",
       "    }\n",
       "\n",
       "    .dataframe thead th {\n",
       "        text-align: right;\n",
       "    }\n",
       "</style>\n",
       "<table border=\"1\" class=\"dataframe\">\n",
       "  <thead>\n",
       "    <tr style=\"text-align: right;\">\n",
       "      <th></th>\n",
       "      <th>product</th>\n",
       "      <th>category</th>\n",
       "      <th>sub_category</th>\n",
       "      <th>brand</th>\n",
       "      <th>sale_price</th>\n",
       "      <th>market_price</th>\n",
       "      <th>type</th>\n",
       "      <th>rating</th>\n",
       "    </tr>\n",
       "    <tr>\n",
       "      <th>id</th>\n",
       "      <th></th>\n",
       "      <th></th>\n",
       "      <th></th>\n",
       "      <th></th>\n",
       "      <th></th>\n",
       "      <th></th>\n",
       "      <th></th>\n",
       "      <th></th>\n",
       "    </tr>\n",
       "  </thead>\n",
       "  <tbody>\n",
       "    <tr>\n",
       "      <th>no1</th>\n",
       "      <td>Garlic Oil - Vegetarian Capsule 500 mg</td>\n",
       "      <td>Beauty &amp; Hygiene</td>\n",
       "      <td>Hair Care</td>\n",
       "      <td>Sri Sri Ayurveda</td>\n",
       "      <td>220.0</td>\n",
       "      <td>220.0</td>\n",
       "      <td>Hair Oil &amp; Serum</td>\n",
       "      <td>4.1</td>\n",
       "    </tr>\n",
       "    <tr>\n",
       "      <th>no2</th>\n",
       "      <td>Water Bottle - Orange</td>\n",
       "      <td>Kitchen, Garden &amp; Pets</td>\n",
       "      <td>Storage &amp; Accessories</td>\n",
       "      <td>Mastercook</td>\n",
       "      <td>180.0</td>\n",
       "      <td>180.0</td>\n",
       "      <td>Water &amp; Fridge Bottles</td>\n",
       "      <td>2.3</td>\n",
       "    </tr>\n",
       "    <tr>\n",
       "      <th>no3</th>\n",
       "      <td>Brass Angle Deep - Plain, No.2</td>\n",
       "      <td>Cleaning &amp; Household</td>\n",
       "      <td>Pooja Needs</td>\n",
       "      <td>Trm</td>\n",
       "      <td>119.0</td>\n",
       "      <td>250.0</td>\n",
       "      <td>Lamp &amp; Lamp Oil</td>\n",
       "      <td>3.4</td>\n",
       "    </tr>\n",
       "    <tr>\n",
       "      <th>no4</th>\n",
       "      <td>Cereal Flip Lid Container/Storage Jar - Assort...</td>\n",
       "      <td>Cleaning &amp; Household</td>\n",
       "      <td>Bins &amp; Bathroom Ware</td>\n",
       "      <td>Nakoda</td>\n",
       "      <td>149.0</td>\n",
       "      <td>176.0</td>\n",
       "      <td>Laundry, Storage Baskets</td>\n",
       "      <td>3.7</td>\n",
       "    </tr>\n",
       "    <tr>\n",
       "      <th>no5</th>\n",
       "      <td>Creme Soft Soap - For Hands &amp; Body</td>\n",
       "      <td>Beauty &amp; Hygiene</td>\n",
       "      <td>Bath &amp; Hand Wash</td>\n",
       "      <td>Nivea</td>\n",
       "      <td>162.0</td>\n",
       "      <td>162.0</td>\n",
       "      <td>Bathing Bars &amp; Soaps</td>\n",
       "      <td>4.4</td>\n",
       "    </tr>\n",
       "  </tbody>\n",
       "</table>\n",
       "</div>"
      ],
      "text/plain": [
       "                                               product  \\\n",
       "id                                                       \n",
       "no1             Garlic Oil - Vegetarian Capsule 500 mg   \n",
       "no2                              Water Bottle - Orange   \n",
       "no3                     Brass Angle Deep - Plain, No.2   \n",
       "no4  Cereal Flip Lid Container/Storage Jar - Assort...   \n",
       "no5                 Creme Soft Soap - For Hands & Body   \n",
       "\n",
       "                   category           sub_category              brand  \\\n",
       "id                                                                      \n",
       "no1        Beauty & Hygiene              Hair Care  Sri Sri Ayurveda    \n",
       "no2  Kitchen, Garden & Pets  Storage & Accessories         Mastercook   \n",
       "no3    Cleaning & Household            Pooja Needs                Trm   \n",
       "no4    Cleaning & Household   Bins & Bathroom Ware             Nakoda   \n",
       "no5        Beauty & Hygiene       Bath & Hand Wash              Nivea   \n",
       "\n",
       "     sale_price  market_price                      type  rating  \n",
       "id                                                               \n",
       "no1       220.0         220.0          Hair Oil & Serum     4.1  \n",
       "no2       180.0         180.0    Water & Fridge Bottles     2.3  \n",
       "no3       119.0         250.0           Lamp & Lamp Oil     3.4  \n",
       "no4       149.0         176.0  Laundry, Storage Baskets     3.7  \n",
       "no5       162.0         162.0      Bathing Bars & Soaps     4.4  "
      ]
     },
     "execution_count": 69,
     "metadata": {},
     "output_type": "execute_result"
    }
   ],
   "source": [
    "df.head()"
   ]
  },
  {
   "cell_type": "code",
   "execution_count": 70,
   "id": "59f155ab",
   "metadata": {},
   "outputs": [
    {
     "data": {
      "text/html": [
       "<div>\n",
       "<style scoped>\n",
       "    .dataframe tbody tr th:only-of-type {\n",
       "        vertical-align: middle;\n",
       "    }\n",
       "\n",
       "    .dataframe tbody tr th {\n",
       "        vertical-align: top;\n",
       "    }\n",
       "\n",
       "    .dataframe thead th {\n",
       "        text-align: right;\n",
       "    }\n",
       "</style>\n",
       "<table border=\"1\" class=\"dataframe\">\n",
       "  <thead>\n",
       "    <tr style=\"text-align: right;\">\n",
       "      <th></th>\n",
       "      <th>product</th>\n",
       "      <th>category</th>\n",
       "      <th>sub_category</th>\n",
       "      <th>brand</th>\n",
       "      <th>sale_price</th>\n",
       "      <th>market_price</th>\n",
       "      <th>type</th>\n",
       "      <th>rating</th>\n",
       "    </tr>\n",
       "    <tr>\n",
       "      <th>id</th>\n",
       "      <th></th>\n",
       "      <th></th>\n",
       "      <th></th>\n",
       "      <th></th>\n",
       "      <th></th>\n",
       "      <th></th>\n",
       "      <th></th>\n",
       "      <th></th>\n",
       "    </tr>\n",
       "  </thead>\n",
       "  <tbody>\n",
       "    <tr>\n",
       "      <th>no27551</th>\n",
       "      <td>Wottagirl! Perfume Spray - Heaven, Classic</td>\n",
       "      <td>Beauty &amp; Hygiene</td>\n",
       "      <td>Fragrances &amp; Deos</td>\n",
       "      <td>Layerr</td>\n",
       "      <td>199.20</td>\n",
       "      <td>249.0</td>\n",
       "      <td>Perfume</td>\n",
       "      <td>3.9</td>\n",
       "    </tr>\n",
       "    <tr>\n",
       "      <th>no27552</th>\n",
       "      <td>Rosemary</td>\n",
       "      <td>Gourmet &amp; World Food</td>\n",
       "      <td>Cooking &amp; Baking Needs</td>\n",
       "      <td>Puramate</td>\n",
       "      <td>67.50</td>\n",
       "      <td>75.0</td>\n",
       "      <td>Herbs, Seasonings &amp; Rubs</td>\n",
       "      <td>4.0</td>\n",
       "    </tr>\n",
       "    <tr>\n",
       "      <th>no27553</th>\n",
       "      <td>Peri-Peri Sweet Potato Chips</td>\n",
       "      <td>Gourmet &amp; World Food</td>\n",
       "      <td>Snacks, Dry Fruits, Nuts</td>\n",
       "      <td>FabBox</td>\n",
       "      <td>200.00</td>\n",
       "      <td>200.0</td>\n",
       "      <td>Nachos &amp; Chips</td>\n",
       "      <td>3.8</td>\n",
       "    </tr>\n",
       "    <tr>\n",
       "      <th>no27554</th>\n",
       "      <td>Green Tea - Pure Original</td>\n",
       "      <td>Beverages</td>\n",
       "      <td>Tea</td>\n",
       "      <td>Tetley</td>\n",
       "      <td>396.00</td>\n",
       "      <td>495.0</td>\n",
       "      <td>Tea Bags</td>\n",
       "      <td>4.2</td>\n",
       "    </tr>\n",
       "    <tr>\n",
       "      <th>no27555</th>\n",
       "      <td>United Dreams Go Far Deodorant</td>\n",
       "      <td>Beauty &amp; Hygiene</td>\n",
       "      <td>Men's Grooming</td>\n",
       "      <td>United Colors Of Benetton</td>\n",
       "      <td>214.53</td>\n",
       "      <td>390.0</td>\n",
       "      <td>Men's Deodorants</td>\n",
       "      <td>4.5</td>\n",
       "    </tr>\n",
       "  </tbody>\n",
       "</table>\n",
       "</div>"
      ],
      "text/plain": [
       "                                            product              category  \\\n",
       "id                                                                          \n",
       "no27551  Wottagirl! Perfume Spray - Heaven, Classic      Beauty & Hygiene   \n",
       "no27552                                    Rosemary  Gourmet & World Food   \n",
       "no27553                Peri-Peri Sweet Potato Chips  Gourmet & World Food   \n",
       "no27554                   Green Tea - Pure Original             Beverages   \n",
       "no27555              United Dreams Go Far Deodorant      Beauty & Hygiene   \n",
       "\n",
       "                     sub_category                       brand  sale_price  \\\n",
       "id                                                                          \n",
       "no27551         Fragrances & Deos                      Layerr      199.20   \n",
       "no27552    Cooking & Baking Needs                    Puramate       67.50   \n",
       "no27553  Snacks, Dry Fruits, Nuts                      FabBox      200.00   \n",
       "no27554                       Tea                      Tetley      396.00   \n",
       "no27555            Men's Grooming  United Colors Of Benetton       214.53   \n",
       "\n",
       "         market_price                      type  rating  \n",
       "id                                                       \n",
       "no27551         249.0                   Perfume     3.9  \n",
       "no27552          75.0  Herbs, Seasonings & Rubs     4.0  \n",
       "no27553         200.0            Nachos & Chips     3.8  \n",
       "no27554         495.0                  Tea Bags     4.2  \n",
       "no27555         390.0          Men's Deodorants     4.5  "
      ]
     },
     "execution_count": 70,
     "metadata": {},
     "output_type": "execute_result"
    }
   ],
   "source": [
    "df.tail()"
   ]
  },
  {
   "cell_type": "code",
   "execution_count": 79,
   "id": "2af2e082",
   "metadata": {
    "ExecuteTime": {
     "end_time": "2022-07-14T07:03:37.409874Z",
     "start_time": "2022-07-14T07:03:37.403407Z"
    }
   },
   "outputs": [
    {
     "data": {
      "text/plain": [
       "(27555, 9)"
      ]
     },
     "execution_count": 79,
     "metadata": {},
     "output_type": "execute_result"
    }
   ],
   "source": [
    "df.shape"
   ]
  },
  {
   "cell_type": "markdown",
   "id": "a1435fad",
   "metadata": {},
   "source": [
    "We can also **extract all the column names as a list**, by using the columns attribute."
   ]
  },
  {
   "cell_type": "code",
   "execution_count": 80,
   "id": "ce1d2700",
   "metadata": {
    "ExecuteTime": {
     "end_time": "2022-07-14T07:03:54.149750Z",
     "start_time": "2022-07-14T07:03:54.144066Z"
    }
   },
   "outputs": [
    {
     "data": {
      "text/plain": [
       "['product',\n",
       " 'category',\n",
       " 'sub_category',\n",
       " 'brand',\n",
       " 'price',\n",
       " 'market_price',\n",
       " 'type',\n",
       " 'rating',\n",
       " 'report']"
      ]
     },
     "execution_count": 80,
     "metadata": {},
     "output_type": "execute_result"
    }
   ],
   "source": [
    "df.columns.tolist()"
   ]
  },
  {
   "cell_type": "code",
   "execution_count": 81,
   "id": "0eaae8f8",
   "metadata": {
    "ExecuteTime": {
     "end_time": "2022-07-14T07:04:09.243797Z",
     "start_time": "2022-07-14T07:04:09.233569Z"
    }
   },
   "outputs": [
    {
     "data": {
      "text/plain": [
       "product          object\n",
       "category         object\n",
       "sub_category     object\n",
       "brand            object\n",
       "price           float64\n",
       "market_price    float64\n",
       "type             object\n",
       "rating          float64\n",
       "report           object\n",
       "dtype: object"
      ]
     },
     "execution_count": 81,
     "metadata": {},
     "output_type": "execute_result"
    }
   ],
   "source": [
    "df.dtypes"
   ]
  },
  {
   "cell_type": "code",
   "execution_count": 82,
   "id": "7daf7add",
   "metadata": {
    "ExecuteTime": {
     "end_time": "2022-07-14T07:04:20.383241Z",
     "start_time": "2022-07-14T07:04:20.343862Z"
    }
   },
   "outputs": [
    {
     "name": "stdout",
     "output_type": "stream",
     "text": [
      "<class 'pandas.core.frame.DataFrame'>\n",
      "Index: 27555 entries, no1 to no27555\n",
      "Data columns (total 9 columns):\n",
      " #   Column        Non-Null Count  Dtype  \n",
      "---  ------        --------------  -----  \n",
      " 0   product       27554 non-null  object \n",
      " 1   category      27555 non-null  object \n",
      " 2   sub_category  27555 non-null  object \n",
      " 3   brand         27554 non-null  object \n",
      " 4   price         27555 non-null  float64\n",
      " 5   market_price  27555 non-null  float64\n",
      " 6   type          27555 non-null  object \n",
      " 7   rating        18929 non-null  float64\n",
      " 8   report        27440 non-null  object \n",
      "dtypes: float64(3), object(6)\n",
      "memory usage: 3.1+ MB\n"
     ]
    }
   ],
   "source": [
    "df.info()"
   ]
  },
  {
   "cell_type": "code",
   "execution_count": 83,
   "id": "b2861dc0",
   "metadata": {
    "ExecuteTime": {
     "end_time": "2022-07-14T07:04:36.832929Z",
     "start_time": "2022-07-14T07:04:36.806149Z"
    },
    "scrolled": true
   },
   "outputs": [
    {
     "data": {
      "text/html": [
       "<div>\n",
       "<style scoped>\n",
       "    .dataframe tbody tr th:only-of-type {\n",
       "        vertical-align: middle;\n",
       "    }\n",
       "\n",
       "    .dataframe tbody tr th {\n",
       "        vertical-align: top;\n",
       "    }\n",
       "\n",
       "    .dataframe thead th {\n",
       "        text-align: right;\n",
       "    }\n",
       "</style>\n",
       "<table border=\"1\" class=\"dataframe\">\n",
       "  <thead>\n",
       "    <tr style=\"text-align: right;\">\n",
       "      <th></th>\n",
       "      <th>price</th>\n",
       "      <th>market_price</th>\n",
       "      <th>rating</th>\n",
       "    </tr>\n",
       "  </thead>\n",
       "  <tbody>\n",
       "    <tr>\n",
       "      <th>count</th>\n",
       "      <td>27555.000000</td>\n",
       "      <td>27555.000000</td>\n",
       "      <td>18929.000000</td>\n",
       "    </tr>\n",
       "    <tr>\n",
       "      <th>mean</th>\n",
       "      <td>322.514808</td>\n",
       "      <td>382.056664</td>\n",
       "      <td>3.943410</td>\n",
       "    </tr>\n",
       "    <tr>\n",
       "      <th>std</th>\n",
       "      <td>486.263116</td>\n",
       "      <td>581.730717</td>\n",
       "      <td>0.739063</td>\n",
       "    </tr>\n",
       "    <tr>\n",
       "      <th>min</th>\n",
       "      <td>2.450000</td>\n",
       "      <td>3.000000</td>\n",
       "      <td>1.000000</td>\n",
       "    </tr>\n",
       "    <tr>\n",
       "      <th>25%</th>\n",
       "      <td>95.000000</td>\n",
       "      <td>100.000000</td>\n",
       "      <td>3.700000</td>\n",
       "    </tr>\n",
       "    <tr>\n",
       "      <th>50%</th>\n",
       "      <td>190.000000</td>\n",
       "      <td>220.000000</td>\n",
       "      <td>4.100000</td>\n",
       "    </tr>\n",
       "    <tr>\n",
       "      <th>75%</th>\n",
       "      <td>359.000000</td>\n",
       "      <td>425.000000</td>\n",
       "      <td>4.300000</td>\n",
       "    </tr>\n",
       "    <tr>\n",
       "      <th>max</th>\n",
       "      <td>12500.000000</td>\n",
       "      <td>12500.000000</td>\n",
       "      <td>5.000000</td>\n",
       "    </tr>\n",
       "  </tbody>\n",
       "</table>\n",
       "</div>"
      ],
      "text/plain": [
       "              price  market_price        rating\n",
       "count  27555.000000  27555.000000  18929.000000\n",
       "mean     322.514808    382.056664      3.943410\n",
       "std      486.263116    581.730717      0.739063\n",
       "min        2.450000      3.000000      1.000000\n",
       "25%       95.000000    100.000000      3.700000\n",
       "50%      190.000000    220.000000      4.100000\n",
       "75%      359.000000    425.000000      4.300000\n",
       "max    12500.000000  12500.000000      5.000000"
      ]
     },
     "execution_count": 83,
     "metadata": {},
     "output_type": "execute_result"
    }
   ],
   "source": [
    "df.describe()"
   ]
  },
  {
   "cell_type": "markdown",
   "id": "8f2e64f3",
   "metadata": {},
   "source": [
    "#### More on `describe()` funciton\n",
    "> By default, the describe method only includes numeric columns.  \n",
    "Specifying `include='all'` will force pandas to generate summaries for all types of features in the dataframe. Some data types like string type don’t have any mean or standard deviation. In such cases, pandas will mark them as NaN"
   ]
  },
  {
   "cell_type": "code",
   "execution_count": 76,
   "id": "32a48192",
   "metadata": {
    "scrolled": true
   },
   "outputs": [
    {
     "data": {
      "text/html": [
       "<div>\n",
       "<style scoped>\n",
       "    .dataframe tbody tr th:only-of-type {\n",
       "        vertical-align: middle;\n",
       "    }\n",
       "\n",
       "    .dataframe tbody tr th {\n",
       "        vertical-align: top;\n",
       "    }\n",
       "\n",
       "    .dataframe thead th {\n",
       "        text-align: right;\n",
       "    }\n",
       "</style>\n",
       "<table border=\"1\" class=\"dataframe\">\n",
       "  <thead>\n",
       "    <tr style=\"text-align: right;\">\n",
       "      <th></th>\n",
       "      <th>product</th>\n",
       "      <th>category</th>\n",
       "      <th>sub_category</th>\n",
       "      <th>brand</th>\n",
       "      <th>sale_price</th>\n",
       "      <th>market_price</th>\n",
       "      <th>type</th>\n",
       "      <th>rating</th>\n",
       "    </tr>\n",
       "  </thead>\n",
       "  <tbody>\n",
       "    <tr>\n",
       "      <th>count</th>\n",
       "      <td>27554</td>\n",
       "      <td>27555</td>\n",
       "      <td>27555</td>\n",
       "      <td>27554</td>\n",
       "      <td>27555.000000</td>\n",
       "      <td>27555.000000</td>\n",
       "      <td>27555</td>\n",
       "      <td>18929.000000</td>\n",
       "    </tr>\n",
       "    <tr>\n",
       "      <th>unique</th>\n",
       "      <td>23540</td>\n",
       "      <td>11</td>\n",
       "      <td>90</td>\n",
       "      <td>2313</td>\n",
       "      <td>NaN</td>\n",
       "      <td>NaN</td>\n",
       "      <td>426</td>\n",
       "      <td>NaN</td>\n",
       "    </tr>\n",
       "    <tr>\n",
       "      <th>top</th>\n",
       "      <td>Turmeric Powder/Arisina Pudi</td>\n",
       "      <td>Beauty &amp; Hygiene</td>\n",
       "      <td>Skin Care</td>\n",
       "      <td>Fresho</td>\n",
       "      <td>NaN</td>\n",
       "      <td>NaN</td>\n",
       "      <td>Face Care</td>\n",
       "      <td>NaN</td>\n",
       "    </tr>\n",
       "    <tr>\n",
       "      <th>freq</th>\n",
       "      <td>26</td>\n",
       "      <td>7867</td>\n",
       "      <td>2294</td>\n",
       "      <td>638</td>\n",
       "      <td>NaN</td>\n",
       "      <td>NaN</td>\n",
       "      <td>1508</td>\n",
       "      <td>NaN</td>\n",
       "    </tr>\n",
       "    <tr>\n",
       "      <th>mean</th>\n",
       "      <td>NaN</td>\n",
       "      <td>NaN</td>\n",
       "      <td>NaN</td>\n",
       "      <td>NaN</td>\n",
       "      <td>322.514808</td>\n",
       "      <td>382.056664</td>\n",
       "      <td>NaN</td>\n",
       "      <td>3.943410</td>\n",
       "    </tr>\n",
       "    <tr>\n",
       "      <th>std</th>\n",
       "      <td>NaN</td>\n",
       "      <td>NaN</td>\n",
       "      <td>NaN</td>\n",
       "      <td>NaN</td>\n",
       "      <td>486.263116</td>\n",
       "      <td>581.730717</td>\n",
       "      <td>NaN</td>\n",
       "      <td>0.739063</td>\n",
       "    </tr>\n",
       "    <tr>\n",
       "      <th>min</th>\n",
       "      <td>NaN</td>\n",
       "      <td>NaN</td>\n",
       "      <td>NaN</td>\n",
       "      <td>NaN</td>\n",
       "      <td>2.450000</td>\n",
       "      <td>3.000000</td>\n",
       "      <td>NaN</td>\n",
       "      <td>1.000000</td>\n",
       "    </tr>\n",
       "    <tr>\n",
       "      <th>25%</th>\n",
       "      <td>NaN</td>\n",
       "      <td>NaN</td>\n",
       "      <td>NaN</td>\n",
       "      <td>NaN</td>\n",
       "      <td>95.000000</td>\n",
       "      <td>100.000000</td>\n",
       "      <td>NaN</td>\n",
       "      <td>3.700000</td>\n",
       "    </tr>\n",
       "    <tr>\n",
       "      <th>50%</th>\n",
       "      <td>NaN</td>\n",
       "      <td>NaN</td>\n",
       "      <td>NaN</td>\n",
       "      <td>NaN</td>\n",
       "      <td>190.000000</td>\n",
       "      <td>220.000000</td>\n",
       "      <td>NaN</td>\n",
       "      <td>4.100000</td>\n",
       "    </tr>\n",
       "    <tr>\n",
       "      <th>75%</th>\n",
       "      <td>NaN</td>\n",
       "      <td>NaN</td>\n",
       "      <td>NaN</td>\n",
       "      <td>NaN</td>\n",
       "      <td>359.000000</td>\n",
       "      <td>425.000000</td>\n",
       "      <td>NaN</td>\n",
       "      <td>4.300000</td>\n",
       "    </tr>\n",
       "    <tr>\n",
       "      <th>max</th>\n",
       "      <td>NaN</td>\n",
       "      <td>NaN</td>\n",
       "      <td>NaN</td>\n",
       "      <td>NaN</td>\n",
       "      <td>12500.000000</td>\n",
       "      <td>12500.000000</td>\n",
       "      <td>NaN</td>\n",
       "      <td>5.000000</td>\n",
       "    </tr>\n",
       "  </tbody>\n",
       "</table>\n",
       "</div>"
      ],
      "text/plain": [
       "                             product          category sub_category   brand  \\\n",
       "count                          27554             27555        27555   27554   \n",
       "unique                         23540                11           90    2313   \n",
       "top     Turmeric Powder/Arisina Pudi  Beauty & Hygiene    Skin Care  Fresho   \n",
       "freq                              26              7867         2294     638   \n",
       "mean                             NaN               NaN          NaN     NaN   \n",
       "std                              NaN               NaN          NaN     NaN   \n",
       "min                              NaN               NaN          NaN     NaN   \n",
       "25%                              NaN               NaN          NaN     NaN   \n",
       "50%                              NaN               NaN          NaN     NaN   \n",
       "75%                              NaN               NaN          NaN     NaN   \n",
       "max                              NaN               NaN          NaN     NaN   \n",
       "\n",
       "          sale_price  market_price       type        rating  \n",
       "count   27555.000000  27555.000000      27555  18929.000000  \n",
       "unique           NaN           NaN        426           NaN  \n",
       "top              NaN           NaN  Face Care           NaN  \n",
       "freq             NaN           NaN       1508           NaN  \n",
       "mean      322.514808    382.056664        NaN      3.943410  \n",
       "std       486.263116    581.730717        NaN      0.739063  \n",
       "min         2.450000      3.000000        NaN      1.000000  \n",
       "25%        95.000000    100.000000        NaN      3.700000  \n",
       "50%       190.000000    220.000000        NaN      4.100000  \n",
       "75%       359.000000    425.000000        NaN      4.300000  \n",
       "max     12500.000000  12500.000000        NaN      5.000000  "
      ]
     },
     "execution_count": 76,
     "metadata": {},
     "output_type": "execute_result"
    }
   ],
   "source": [
    "df.describe(include='all')"
   ]
  },
  {
   "cell_type": "code",
   "execution_count": 84,
   "id": "199a0dbc",
   "metadata": {
    "ExecuteTime": {
     "end_time": "2022-07-14T07:05:36.980825Z",
     "start_time": "2022-07-14T07:05:36.971003Z"
    }
   },
   "outputs": [
    {
     "data": {
      "text/plain": [
       "array(['Beauty & Hygiene', 'Kitchen, Garden & Pets',\n",
       "       'Cleaning & Household', 'Gourmet & World Food',\n",
       "       'Foodgrains, Oil & Masala', 'Snacks & Branded Foods', 'Beverages',\n",
       "       'Bakery, Cakes & Dairy', 'Baby Care', 'Fruits & Vegetables',\n",
       "       'Eggs, Meat & Fish'], dtype=object)"
      ]
     },
     "execution_count": 84,
     "metadata": {},
     "output_type": "execute_result"
    }
   ],
   "source": [
    "df[\"category\"].unique()"
   ]
  },
  {
   "cell_type": "code",
   "execution_count": 85,
   "id": "3bdd0e51",
   "metadata": {
    "ExecuteTime": {
     "end_time": "2022-07-14T07:05:44.062496Z",
     "start_time": "2022-07-14T07:05:44.055362Z"
    }
   },
   "outputs": [
    {
     "data": {
      "text/plain": [
       "11"
      ]
     },
     "execution_count": 85,
     "metadata": {},
     "output_type": "execute_result"
    }
   ],
   "source": [
    "df[\"category\"].nunique()"
   ]
  },
  {
   "cell_type": "code",
   "execution_count": 86,
   "id": "c38d282e",
   "metadata": {
    "ExecuteTime": {
     "end_time": "2022-07-14T07:06:01.629459Z",
     "start_time": "2022-07-14T07:06:01.616621Z"
    }
   },
   "outputs": [
    {
     "data": {
      "text/plain": [
       "Beauty & Hygiene            7867\n",
       "Gourmet & World Food        4690\n",
       "Kitchen, Garden & Pets      3580\n",
       "Snacks & Branded Foods      2814\n",
       "Foodgrains, Oil & Masala    2676\n",
       "Cleaning & Household        2675\n",
       "Beverages                    885\n",
       "Bakery, Cakes & Dairy        851\n",
       "Baby Care                    610\n",
       "Fruits & Vegetables          557\n",
       "Eggs, Meat & Fish            350\n",
       "Name: category, dtype: int64"
      ]
     },
     "execution_count": 86,
     "metadata": {},
     "output_type": "execute_result"
    }
   ],
   "source": [
    "df[\"category\"].value_counts()"
   ]
  },
  {
   "cell_type": "markdown",
   "id": "c6c33696",
   "metadata": {},
   "source": [
    "### Data Cleaning\n",
    " A lot of times, the CSV file you're given, you'll have a lot of missing values in the dataset, which you have to identify.\n",
    " We can detect missing values in the dataset (if any) by using the **isnull()** method together with the **sum()** method.\n",
    " \n",
    " If you do end up having missing values in your datasets, be sure to get familiar with these two functions.\n",
    "\n",
    "* **dropna()** - This function allows you to drop all(or some) of the rows that have missing values.\n",
    "* **fillna()** - This function allows you replace the rows that have missing values with the value that you pass in.\n",
    "\n",
    "![cleaning](https://i.postimg.cc/0QgrznTD/cleaning.jpg)"
   ]
  },
  {
   "cell_type": "code",
   "execution_count": 87,
   "id": "570a8f68",
   "metadata": {
    "ExecuteTime": {
     "end_time": "2022-07-14T07:07:16.793385Z",
     "start_time": "2022-07-14T07:07:16.779553Z"
    }
   },
   "outputs": [
    {
     "data": {
      "text/html": [
       "<div>\n",
       "<style scoped>\n",
       "    .dataframe tbody tr th:only-of-type {\n",
       "        vertical-align: middle;\n",
       "    }\n",
       "\n",
       "    .dataframe tbody tr th {\n",
       "        vertical-align: top;\n",
       "    }\n",
       "\n",
       "    .dataframe thead th {\n",
       "        text-align: right;\n",
       "    }\n",
       "</style>\n",
       "<table border=\"1\" class=\"dataframe\">\n",
       "  <thead>\n",
       "    <tr style=\"text-align: right;\">\n",
       "      <th></th>\n",
       "      <th>product</th>\n",
       "      <th>category</th>\n",
       "      <th>sub_category</th>\n",
       "      <th>brand</th>\n",
       "      <th>price</th>\n",
       "      <th>market_price</th>\n",
       "      <th>type</th>\n",
       "      <th>rating</th>\n",
       "      <th>report</th>\n",
       "    </tr>\n",
       "    <tr>\n",
       "      <th>id</th>\n",
       "      <th></th>\n",
       "      <th></th>\n",
       "      <th></th>\n",
       "      <th></th>\n",
       "      <th></th>\n",
       "      <th></th>\n",
       "      <th></th>\n",
       "      <th></th>\n",
       "      <th></th>\n",
       "    </tr>\n",
       "  </thead>\n",
       "  <tbody>\n",
       "    <tr>\n",
       "      <th>no56</th>\n",
       "      <td>Soothing Cucumber Facial Scrub With Apricot Seeds</td>\n",
       "      <td>Beauty &amp; Hygiene</td>\n",
       "      <td>Skin Care</td>\n",
       "      <td>TJORI</td>\n",
       "      <td>299.4</td>\n",
       "      <td>499.0</td>\n",
       "      <td>Face Care</td>\n",
       "      <td>NaN</td>\n",
       "      <td>The soothing feel of cucumber meets the gentle...</td>\n",
       "    </tr>\n",
       "    <tr>\n",
       "      <th>no60</th>\n",
       "      <td>Corporate Planner Diary With Premium PU Leathe...</td>\n",
       "      <td>Cleaning &amp; Household</td>\n",
       "      <td>Stationery</td>\n",
       "      <td>Prozo Plus</td>\n",
       "      <td>399.0</td>\n",
       "      <td>399.0</td>\n",
       "      <td>Notebooks, Files, Folders</td>\n",
       "      <td>NaN</td>\n",
       "      <td>A5 Size (210x150mm) \\n192 Pages Premium Natura...</td>\n",
       "    </tr>\n",
       "    <tr>\n",
       "      <th>no66</th>\n",
       "      <td>Ayurvedic Anti-Tan Face Pack</td>\n",
       "      <td>Beauty &amp; Hygiene</td>\n",
       "      <td>Skin Care</td>\n",
       "      <td>TJORI</td>\n",
       "      <td>269.4</td>\n",
       "      <td>449.0</td>\n",
       "      <td>Face Care</td>\n",
       "      <td>NaN</td>\n",
       "      <td>A nourishing face pack that removes tan and br...</td>\n",
       "    </tr>\n",
       "    <tr>\n",
       "      <th>no69</th>\n",
       "      <td>Organic Carom Seeds/Ajwain/Om Kalu</td>\n",
       "      <td>Foodgrains, Oil &amp; Masala</td>\n",
       "      <td>Masalas &amp; Spices</td>\n",
       "      <td>Earthon</td>\n",
       "      <td>72.0</td>\n",
       "      <td>72.0</td>\n",
       "      <td>Whole Spices</td>\n",
       "      <td>NaN</td>\n",
       "      <td>Earthon's Ajwain is Best quality, organically ...</td>\n",
       "    </tr>\n",
       "    <tr>\n",
       "      <th>no70</th>\n",
       "      <td>Padded Harness - 3/4 inch, Grey Colour</td>\n",
       "      <td>Kitchen, Garden &amp; Pets</td>\n",
       "      <td>Pet Food &amp; Accessories</td>\n",
       "      <td>Glenand</td>\n",
       "      <td>840.0</td>\n",
       "      <td>840.0</td>\n",
       "      <td>Pet Collars &amp; Leashes</td>\n",
       "      <td>NaN</td>\n",
       "      <td>These are soft padded harness for your active ...</td>\n",
       "    </tr>\n",
       "    <tr>\n",
       "      <th>...</th>\n",
       "      <td>...</td>\n",
       "      <td>...</td>\n",
       "      <td>...</td>\n",
       "      <td>...</td>\n",
       "      <td>...</td>\n",
       "      <td>...</td>\n",
       "      <td>...</td>\n",
       "      <td>...</td>\n",
       "      <td>...</td>\n",
       "    </tr>\n",
       "    <tr>\n",
       "      <th>no27510</th>\n",
       "      <td>Deluxe Crackers - Veg</td>\n",
       "      <td>Gourmet &amp; World Food</td>\n",
       "      <td>Chocolates &amp; Biscuits</td>\n",
       "      <td>Kerk</td>\n",
       "      <td>150.0</td>\n",
       "      <td>150.0</td>\n",
       "      <td>Cookies, Biscotti, Wafer</td>\n",
       "      <td>NaN</td>\n",
       "      <td>Kerk Biscuits-has been a household name synony...</td>\n",
       "    </tr>\n",
       "    <tr>\n",
       "      <th>no27512</th>\n",
       "      <td>Specialist Stain Remover Pen &amp; Marker</td>\n",
       "      <td>Cleaning &amp; Household</td>\n",
       "      <td>All Purpose Cleaners</td>\n",
       "      <td>365</td>\n",
       "      <td>449.0</td>\n",
       "      <td>449.0</td>\n",
       "      <td>Imported Cleaners</td>\n",
       "      <td>NaN</td>\n",
       "      <td>Mightier than the pen. The pen may be mightier...</td>\n",
       "    </tr>\n",
       "    <tr>\n",
       "      <th>no27515</th>\n",
       "      <td>Verge &amp; Sheer Perfume For Pair</td>\n",
       "      <td>Beauty &amp; Hygiene</td>\n",
       "      <td>Fragrances &amp; Deos</td>\n",
       "      <td>Skinn by Titan</td>\n",
       "      <td>1615.5</td>\n",
       "      <td>1795.0</td>\n",
       "      <td>Perfume</td>\n",
       "      <td>NaN</td>\n",
       "      <td>VERGE for men paints a picture of a classy out...</td>\n",
       "    </tr>\n",
       "    <tr>\n",
       "      <th>no27531</th>\n",
       "      <td>Tick'et to Fleadom Dry Shampoo For Dogs</td>\n",
       "      <td>Kitchen, Garden &amp; Pets</td>\n",
       "      <td>Pet Food &amp; Accessories</td>\n",
       "      <td>Captain Zack</td>\n",
       "      <td>99.0</td>\n",
       "      <td>99.0</td>\n",
       "      <td>Pet Cleaning &amp; Grooming</td>\n",
       "      <td>NaN</td>\n",
       "      <td>1) No Rinse Defence Against Ticks and Fleas: C...</td>\n",
       "    </tr>\n",
       "    <tr>\n",
       "      <th>no27532</th>\n",
       "      <td>Vanilla Ice Cream</td>\n",
       "      <td>Gourmet &amp; World Food</td>\n",
       "      <td>Dairy &amp; Cheese</td>\n",
       "      <td>Haagen-Dazs</td>\n",
       "      <td>225.0</td>\n",
       "      <td>225.0</td>\n",
       "      <td>Gourmet Ice Cream</td>\n",
       "      <td>NaN</td>\n",
       "      <td>Some things are so good in their simplest form...</td>\n",
       "    </tr>\n",
       "  </tbody>\n",
       "</table>\n",
       "<p>8626 rows × 9 columns</p>\n",
       "</div>"
      ],
      "text/plain": [
       "                                                   product  \\\n",
       "id                                                           \n",
       "no56     Soothing Cucumber Facial Scrub With Apricot Seeds   \n",
       "no60     Corporate Planner Diary With Premium PU Leathe...   \n",
       "no66                          Ayurvedic Anti-Tan Face Pack   \n",
       "no69                    Organic Carom Seeds/Ajwain/Om Kalu   \n",
       "no70                Padded Harness - 3/4 inch, Grey Colour   \n",
       "...                                                    ...   \n",
       "no27510                              Deluxe Crackers - Veg   \n",
       "no27512              Specialist Stain Remover Pen & Marker   \n",
       "no27515                     Verge & Sheer Perfume For Pair   \n",
       "no27531            Tick'et to Fleadom Dry Shampoo For Dogs   \n",
       "no27532                                  Vanilla Ice Cream   \n",
       "\n",
       "                         category            sub_category           brand  \\\n",
       "id                                                                          \n",
       "no56             Beauty & Hygiene               Skin Care           TJORI   \n",
       "no60         Cleaning & Household              Stationery      Prozo Plus   \n",
       "no66             Beauty & Hygiene               Skin Care           TJORI   \n",
       "no69     Foodgrains, Oil & Masala        Masalas & Spices         Earthon   \n",
       "no70       Kitchen, Garden & Pets  Pet Food & Accessories         Glenand   \n",
       "...                           ...                     ...             ...   \n",
       "no27510      Gourmet & World Food   Chocolates & Biscuits            Kerk   \n",
       "no27512      Cleaning & Household    All Purpose Cleaners             365   \n",
       "no27515          Beauty & Hygiene       Fragrances & Deos  Skinn by Titan   \n",
       "no27531    Kitchen, Garden & Pets  Pet Food & Accessories    Captain Zack   \n",
       "no27532      Gourmet & World Food          Dairy & Cheese     Haagen-Dazs   \n",
       "\n",
       "          price  market_price                       type  rating  \\\n",
       "id                                                                 \n",
       "no56      299.4         499.0                  Face Care     NaN   \n",
       "no60      399.0         399.0  Notebooks, Files, Folders     NaN   \n",
       "no66      269.4         449.0                  Face Care     NaN   \n",
       "no69       72.0          72.0               Whole Spices     NaN   \n",
       "no70      840.0         840.0      Pet Collars & Leashes     NaN   \n",
       "...         ...           ...                        ...     ...   \n",
       "no27510   150.0         150.0   Cookies, Biscotti, Wafer     NaN   \n",
       "no27512   449.0         449.0          Imported Cleaners     NaN   \n",
       "no27515  1615.5        1795.0                    Perfume     NaN   \n",
       "no27531    99.0          99.0    Pet Cleaning & Grooming     NaN   \n",
       "no27532   225.0         225.0          Gourmet Ice Cream     NaN   \n",
       "\n",
       "                                                    report  \n",
       "id                                                          \n",
       "no56     The soothing feel of cucumber meets the gentle...  \n",
       "no60     A5 Size (210x150mm) \\n192 Pages Premium Natura...  \n",
       "no66     A nourishing face pack that removes tan and br...  \n",
       "no69     Earthon's Ajwain is Best quality, organically ...  \n",
       "no70     These are soft padded harness for your active ...  \n",
       "...                                                    ...  \n",
       "no27510  Kerk Biscuits-has been a household name synony...  \n",
       "no27512  Mightier than the pen. The pen may be mightier...  \n",
       "no27515  VERGE for men paints a picture of a classy out...  \n",
       "no27531  1) No Rinse Defence Against Ticks and Fleas: C...  \n",
       "no27532  Some things are so good in their simplest form...  \n",
       "\n",
       "[8626 rows x 9 columns]"
      ]
     },
     "execution_count": 87,
     "metadata": {},
     "output_type": "execute_result"
    }
   ],
   "source": [
    "df[df[\"rating\"].isna()]"
   ]
  },
  {
   "cell_type": "code",
   "execution_count": 88,
   "id": "9b69efdd",
   "metadata": {
    "ExecuteTime": {
     "end_time": "2022-07-14T07:07:55.072895Z",
     "start_time": "2022-07-14T07:07:55.041894Z"
    }
   },
   "outputs": [
    {
     "data": {
      "text/plain": [
       "product            1\n",
       "category           0\n",
       "sub_category       0\n",
       "brand              1\n",
       "price              0\n",
       "market_price       0\n",
       "type               0\n",
       "rating          8626\n",
       "report           115\n",
       "dtype: int64"
      ]
     },
     "execution_count": 88,
     "metadata": {},
     "output_type": "execute_result"
    }
   ],
   "source": [
    "df.isnull().sum()"
   ]
  },
  {
   "cell_type": "code",
   "execution_count": 82,
   "id": "292e5824",
   "metadata": {},
   "outputs": [
    {
     "data": {
      "text/plain": [
       "(18928, 8)"
      ]
     },
     "execution_count": 82,
     "metadata": {},
     "output_type": "execute_result"
    }
   ],
   "source": [
    "newdf = df.dropna()\n",
    "newdf.shape"
   ]
  },
  {
   "cell_type": "markdown",
   "id": "043f906b",
   "metadata": {},
   "source": [
    "### Remove duplicate values\n",
    "You may want to check your data for duplicate entries. Using **drop_duplicates()**, we can remove all duplicate rows, or keep only the first or last row of a set of duplicates"
   ]
  },
  {
   "cell_type": "code",
   "execution_count": 89,
   "id": "5bcaf54b",
   "metadata": {
    "ExecuteTime": {
     "end_time": "2022-07-14T07:09:08.474994Z",
     "start_time": "2022-07-14T07:09:08.466836Z"
    }
   },
   "outputs": [
    {
     "data": {
      "text/plain": [
       "id\n",
       "no1        False\n",
       "no2        False\n",
       "no3        False\n",
       "no4         True\n",
       "no5         True\n",
       "           ...  \n",
       "no27551     True\n",
       "no27552     True\n",
       "no27553     True\n",
       "no27554     True\n",
       "no27555     True\n",
       "Name: category, Length: 27555, dtype: bool"
      ]
     },
     "execution_count": 89,
     "metadata": {},
     "output_type": "execute_result"
    }
   ],
   "source": [
    "# check for duplicate values\n",
    "df[\"category\"].duplicated()"
   ]
  },
  {
   "cell_type": "code",
   "execution_count": 90,
   "id": "30707c63",
   "metadata": {
    "ExecuteTime": {
     "end_time": "2022-07-14T07:09:35.624859Z",
     "start_time": "2022-07-14T07:09:35.611518Z"
    }
   },
   "outputs": [
    {
     "data": {
      "text/html": [
       "<div>\n",
       "<style scoped>\n",
       "    .dataframe tbody tr th:only-of-type {\n",
       "        vertical-align: middle;\n",
       "    }\n",
       "\n",
       "    .dataframe tbody tr th {\n",
       "        vertical-align: top;\n",
       "    }\n",
       "\n",
       "    .dataframe thead th {\n",
       "        text-align: right;\n",
       "    }\n",
       "</style>\n",
       "<table border=\"1\" class=\"dataframe\">\n",
       "  <thead>\n",
       "    <tr style=\"text-align: right;\">\n",
       "      <th></th>\n",
       "      <th>product</th>\n",
       "      <th>category</th>\n",
       "      <th>sub_category</th>\n",
       "      <th>brand</th>\n",
       "      <th>price</th>\n",
       "      <th>market_price</th>\n",
       "      <th>type</th>\n",
       "      <th>rating</th>\n",
       "      <th>report</th>\n",
       "    </tr>\n",
       "    <tr>\n",
       "      <th>id</th>\n",
       "      <th></th>\n",
       "      <th></th>\n",
       "      <th></th>\n",
       "      <th></th>\n",
       "      <th></th>\n",
       "      <th></th>\n",
       "      <th></th>\n",
       "      <th></th>\n",
       "      <th></th>\n",
       "    </tr>\n",
       "  </thead>\n",
       "  <tbody>\n",
       "    <tr>\n",
       "      <th>no1</th>\n",
       "      <td>Garlic Oil - Vegetarian Capsule 500 mg</td>\n",
       "      <td>Beauty &amp; Hygiene</td>\n",
       "      <td>Hair Care</td>\n",
       "      <td>Sri Sri Ayurveda</td>\n",
       "      <td>220.0</td>\n",
       "      <td>220.0</td>\n",
       "      <td>Hair Oil &amp; Serum</td>\n",
       "      <td>4.1</td>\n",
       "      <td>This Product contains Garlic Oil that is known...</td>\n",
       "    </tr>\n",
       "    <tr>\n",
       "      <th>no2</th>\n",
       "      <td>Water Bottle - Orange</td>\n",
       "      <td>Kitchen, Garden &amp; Pets</td>\n",
       "      <td>Storage &amp; Accessories</td>\n",
       "      <td>Mastercook</td>\n",
       "      <td>180.0</td>\n",
       "      <td>180.0</td>\n",
       "      <td>Water &amp; Fridge Bottles</td>\n",
       "      <td>2.3</td>\n",
       "      <td>Each product is microwave safe (without lid), ...</td>\n",
       "    </tr>\n",
       "    <tr>\n",
       "      <th>no3</th>\n",
       "      <td>Brass Angle Deep - Plain, No.2</td>\n",
       "      <td>Cleaning &amp; Household</td>\n",
       "      <td>Pooja Needs</td>\n",
       "      <td>Trm</td>\n",
       "      <td>119.0</td>\n",
       "      <td>250.0</td>\n",
       "      <td>Lamp &amp; Lamp Oil</td>\n",
       "      <td>3.4</td>\n",
       "      <td>A perfect gift for all occasions, be it your m...</td>\n",
       "    </tr>\n",
       "    <tr>\n",
       "      <th>no11</th>\n",
       "      <td>Wheat Grass Powder - Raw</td>\n",
       "      <td>Gourmet &amp; World Food</td>\n",
       "      <td>Cooking &amp; Baking Needs</td>\n",
       "      <td>NUTRASHIL</td>\n",
       "      <td>261.0</td>\n",
       "      <td>290.0</td>\n",
       "      <td>Flours &amp; Pre-Mixes</td>\n",
       "      <td>4.0</td>\n",
       "      <td>Wheatgrass is a superfood potent health food w...</td>\n",
       "    </tr>\n",
       "    <tr>\n",
       "      <th>no23</th>\n",
       "      <td>Chia Seeds</td>\n",
       "      <td>Foodgrains, Oil &amp; Masala</td>\n",
       "      <td>Dry Fruits</td>\n",
       "      <td>NaturoBell</td>\n",
       "      <td>120.0</td>\n",
       "      <td>120.0</td>\n",
       "      <td>Other Dry Fruits</td>\n",
       "      <td>3.9</td>\n",
       "      <td>Raw Chia seeds, naturally gluten free, lyva ra...</td>\n",
       "    </tr>\n",
       "    <tr>\n",
       "      <th>no27</th>\n",
       "      <td>Granola - Happy Berries</td>\n",
       "      <td>Snacks &amp; Branded Foods</td>\n",
       "      <td>Breakfast Cereals</td>\n",
       "      <td>Fit &amp; Flex</td>\n",
       "      <td>245.0</td>\n",
       "      <td>265.0</td>\n",
       "      <td>Granola &amp; Cereal Bars</td>\n",
       "      <td>3.5</td>\n",
       "      <td>Fit &amp; Flex granola is not just crunchy and tas...</td>\n",
       "    </tr>\n",
       "    <tr>\n",
       "      <th>no31</th>\n",
       "      <td>Fruit Power - Masala Sugarcane</td>\n",
       "      <td>Beverages</td>\n",
       "      <td>Fruit Juices &amp; Drinks</td>\n",
       "      <td>Real</td>\n",
       "      <td>19.0</td>\n",
       "      <td>20.0</td>\n",
       "      <td>Juices</td>\n",
       "      <td>2.9</td>\n",
       "      <td>Sugarcane and Spicy Masala, a love story that ...</td>\n",
       "    </tr>\n",
       "    <tr>\n",
       "      <th>no32</th>\n",
       "      <td>Chocobakes Choc Filled Cookies</td>\n",
       "      <td>Bakery, Cakes &amp; Dairy</td>\n",
       "      <td>Cookies, Rusk &amp; Khari</td>\n",
       "      <td>Cadbury</td>\n",
       "      <td>102.0</td>\n",
       "      <td>120.0</td>\n",
       "      <td>Bakery Biscuits, Cookies</td>\n",
       "      <td>4.2</td>\n",
       "      <td>Experience new exciting chocolatey centre fill...</td>\n",
       "    </tr>\n",
       "    <tr>\n",
       "      <th>no59</th>\n",
       "      <td>Baby Bed Protector - Sublimation Print, Pink</td>\n",
       "      <td>Baby Care</td>\n",
       "      <td>Baby Bath &amp; Hygiene</td>\n",
       "      <td>Quick Dry</td>\n",
       "      <td>199.0</td>\n",
       "      <td>199.0</td>\n",
       "      <td>Baby Health</td>\n",
       "      <td>3.7</td>\n",
       "      <td>These bed protectors for babies bed from Quick...</td>\n",
       "    </tr>\n",
       "    <tr>\n",
       "      <th>no90</th>\n",
       "      <td>Sweet Corn Kernels - Chipotle</td>\n",
       "      <td>Fruits &amp; Vegetables</td>\n",
       "      <td>Cuts &amp; Sprouts</td>\n",
       "      <td>Supa Corn</td>\n",
       "      <td>55.0</td>\n",
       "      <td>55.0</td>\n",
       "      <td>Cut &amp; Peeled Veggies</td>\n",
       "      <td>NaN</td>\n",
       "      <td>Ready To Eat Sweet Corn kernels, packaged usin...</td>\n",
       "    </tr>\n",
       "    <tr>\n",
       "      <th>no241</th>\n",
       "      <td>Fresh Catch Fish Fingers</td>\n",
       "      <td>Eggs, Meat &amp; Fish</td>\n",
       "      <td>Fish &amp; Seafood</td>\n",
       "      <td>Ifb</td>\n",
       "      <td>240.0</td>\n",
       "      <td>240.0</td>\n",
       "      <td>Frozen Fish &amp; Seafood</td>\n",
       "      <td>NaN</td>\n",
       "      <td>You can’t beat the classics. Perfectly crispy ...</td>\n",
       "    </tr>\n",
       "  </tbody>\n",
       "</table>\n",
       "</div>"
      ],
      "text/plain": [
       "                                            product                  category  \\\n",
       "id                                                                              \n",
       "no1          Garlic Oil - Vegetarian Capsule 500 mg          Beauty & Hygiene   \n",
       "no2                           Water Bottle - Orange    Kitchen, Garden & Pets   \n",
       "no3                  Brass Angle Deep - Plain, No.2      Cleaning & Household   \n",
       "no11                       Wheat Grass Powder - Raw      Gourmet & World Food   \n",
       "no23                                     Chia Seeds  Foodgrains, Oil & Masala   \n",
       "no27                        Granola - Happy Berries    Snacks & Branded Foods   \n",
       "no31                 Fruit Power - Masala Sugarcane                 Beverages   \n",
       "no32                 Chocobakes Choc Filled Cookies     Bakery, Cakes & Dairy   \n",
       "no59   Baby Bed Protector - Sublimation Print, Pink                 Baby Care   \n",
       "no90                  Sweet Corn Kernels - Chipotle       Fruits & Vegetables   \n",
       "no241                      Fresh Catch Fish Fingers         Eggs, Meat & Fish   \n",
       "\n",
       "                 sub_category              brand  price  market_price  \\\n",
       "id                                                                      \n",
       "no1                 Hair Care  Sri Sri Ayurveda   220.0         220.0   \n",
       "no2     Storage & Accessories         Mastercook  180.0         180.0   \n",
       "no3               Pooja Needs                Trm  119.0         250.0   \n",
       "no11   Cooking & Baking Needs          NUTRASHIL  261.0         290.0   \n",
       "no23               Dry Fruits         NaturoBell  120.0         120.0   \n",
       "no27        Breakfast Cereals         Fit & Flex  245.0         265.0   \n",
       "no31    Fruit Juices & Drinks               Real   19.0          20.0   \n",
       "no32    Cookies, Rusk & Khari            Cadbury  102.0         120.0   \n",
       "no59      Baby Bath & Hygiene          Quick Dry  199.0         199.0   \n",
       "no90           Cuts & Sprouts          Supa Corn   55.0          55.0   \n",
       "no241          Fish & Seafood                Ifb  240.0         240.0   \n",
       "\n",
       "                           type  rating  \\\n",
       "id                                        \n",
       "no1            Hair Oil & Serum     4.1   \n",
       "no2      Water & Fridge Bottles     2.3   \n",
       "no3             Lamp & Lamp Oil     3.4   \n",
       "no11         Flours & Pre-Mixes     4.0   \n",
       "no23           Other Dry Fruits     3.9   \n",
       "no27      Granola & Cereal Bars     3.5   \n",
       "no31                     Juices     2.9   \n",
       "no32   Bakery Biscuits, Cookies     4.2   \n",
       "no59                Baby Health     3.7   \n",
       "no90       Cut & Peeled Veggies     NaN   \n",
       "no241     Frozen Fish & Seafood     NaN   \n",
       "\n",
       "                                                  report  \n",
       "id                                                        \n",
       "no1    This Product contains Garlic Oil that is known...  \n",
       "no2    Each product is microwave safe (without lid), ...  \n",
       "no3    A perfect gift for all occasions, be it your m...  \n",
       "no11   Wheatgrass is a superfood potent health food w...  \n",
       "no23   Raw Chia seeds, naturally gluten free, lyva ra...  \n",
       "no27   Fit & Flex granola is not just crunchy and tas...  \n",
       "no31   Sugarcane and Spicy Masala, a love story that ...  \n",
       "no32   Experience new exciting chocolatey centre fill...  \n",
       "no59   These bed protectors for babies bed from Quick...  \n",
       "no90   Ready To Eat Sweet Corn kernels, packaged usin...  \n",
       "no241  You can’t beat the classics. Perfectly crispy ...  "
      ]
     },
     "execution_count": 90,
     "metadata": {},
     "output_type": "execute_result"
    }
   ],
   "source": [
    "# remove duplicated values from Area subset\n",
    "df.drop_duplicates(subset =\"category\")"
   ]
  },
  {
   "cell_type": "markdown",
   "id": "21a1dfc1",
   "metadata": {},
   "source": [
    "## Descriptive statistics\n",
    "* **sum()**\n",
    "* **max()**\n",
    "* **min()**\n",
    "* **mean()**\n",
    "* **count()** - Number of non-null observations"
   ]
  },
  {
   "cell_type": "code",
   "execution_count": 85,
   "id": "6ac3b1aa",
   "metadata": {},
   "outputs": [
    {
     "data": {
      "text/html": [
       "<div>\n",
       "<style scoped>\n",
       "    .dataframe tbody tr th:only-of-type {\n",
       "        vertical-align: middle;\n",
       "    }\n",
       "\n",
       "    .dataframe tbody tr th {\n",
       "        vertical-align: top;\n",
       "    }\n",
       "\n",
       "    .dataframe thead th {\n",
       "        text-align: right;\n",
       "    }\n",
       "</style>\n",
       "<table border=\"1\" class=\"dataframe\">\n",
       "  <thead>\n",
       "    <tr style=\"text-align: right;\">\n",
       "      <th></th>\n",
       "      <th>product</th>\n",
       "      <th>category</th>\n",
       "      <th>sub_category</th>\n",
       "      <th>brand</th>\n",
       "      <th>sale_price</th>\n",
       "      <th>market_price</th>\n",
       "      <th>type</th>\n",
       "      <th>rating</th>\n",
       "    </tr>\n",
       "    <tr>\n",
       "      <th>id</th>\n",
       "      <th></th>\n",
       "      <th></th>\n",
       "      <th></th>\n",
       "      <th></th>\n",
       "      <th></th>\n",
       "      <th></th>\n",
       "      <th></th>\n",
       "      <th></th>\n",
       "    </tr>\n",
       "  </thead>\n",
       "  <tbody>\n",
       "    <tr>\n",
       "      <th>no1</th>\n",
       "      <td>Garlic Oil - Vegetarian Capsule 500 mg</td>\n",
       "      <td>Beauty &amp; Hygiene</td>\n",
       "      <td>Hair Care</td>\n",
       "      <td>Sri Sri Ayurveda</td>\n",
       "      <td>220.0</td>\n",
       "      <td>220.0</td>\n",
       "      <td>Hair Oil &amp; Serum</td>\n",
       "      <td>4.1</td>\n",
       "    </tr>\n",
       "    <tr>\n",
       "      <th>no2</th>\n",
       "      <td>Water Bottle - Orange</td>\n",
       "      <td>Kitchen, Garden &amp; Pets</td>\n",
       "      <td>Storage &amp; Accessories</td>\n",
       "      <td>Mastercook</td>\n",
       "      <td>180.0</td>\n",
       "      <td>180.0</td>\n",
       "      <td>Water &amp; Fridge Bottles</td>\n",
       "      <td>2.3</td>\n",
       "    </tr>\n",
       "    <tr>\n",
       "      <th>no3</th>\n",
       "      <td>Brass Angle Deep - Plain, No.2</td>\n",
       "      <td>Cleaning &amp; Household</td>\n",
       "      <td>Pooja Needs</td>\n",
       "      <td>Trm</td>\n",
       "      <td>119.0</td>\n",
       "      <td>250.0</td>\n",
       "      <td>Lamp &amp; Lamp Oil</td>\n",
       "      <td>3.4</td>\n",
       "    </tr>\n",
       "    <tr>\n",
       "      <th>no4</th>\n",
       "      <td>Cereal Flip Lid Container/Storage Jar - Assort...</td>\n",
       "      <td>Cleaning &amp; Household</td>\n",
       "      <td>Bins &amp; Bathroom Ware</td>\n",
       "      <td>Nakoda</td>\n",
       "      <td>149.0</td>\n",
       "      <td>176.0</td>\n",
       "      <td>Laundry, Storage Baskets</td>\n",
       "      <td>3.7</td>\n",
       "    </tr>\n",
       "    <tr>\n",
       "      <th>no5</th>\n",
       "      <td>Creme Soft Soap - For Hands &amp; Body</td>\n",
       "      <td>Beauty &amp; Hygiene</td>\n",
       "      <td>Bath &amp; Hand Wash</td>\n",
       "      <td>Nivea</td>\n",
       "      <td>162.0</td>\n",
       "      <td>162.0</td>\n",
       "      <td>Bathing Bars &amp; Soaps</td>\n",
       "      <td>4.4</td>\n",
       "    </tr>\n",
       "  </tbody>\n",
       "</table>\n",
       "</div>"
      ],
      "text/plain": [
       "                                               product  \\\n",
       "id                                                       \n",
       "no1             Garlic Oil - Vegetarian Capsule 500 mg   \n",
       "no2                              Water Bottle - Orange   \n",
       "no3                     Brass Angle Deep - Plain, No.2   \n",
       "no4  Cereal Flip Lid Container/Storage Jar - Assort...   \n",
       "no5                 Creme Soft Soap - For Hands & Body   \n",
       "\n",
       "                   category           sub_category              brand  \\\n",
       "id                                                                      \n",
       "no1        Beauty & Hygiene              Hair Care  Sri Sri Ayurveda    \n",
       "no2  Kitchen, Garden & Pets  Storage & Accessories         Mastercook   \n",
       "no3    Cleaning & Household            Pooja Needs                Trm   \n",
       "no4    Cleaning & Household   Bins & Bathroom Ware             Nakoda   \n",
       "no5        Beauty & Hygiene       Bath & Hand Wash              Nivea   \n",
       "\n",
       "     sale_price  market_price                      type  rating  \n",
       "id                                                               \n",
       "no1       220.0         220.0          Hair Oil & Serum     4.1  \n",
       "no2       180.0         180.0    Water & Fridge Bottles     2.3  \n",
       "no3       119.0         250.0           Lamp & Lamp Oil     3.4  \n",
       "no4       149.0         176.0  Laundry, Storage Baskets     3.7  \n",
       "no5       162.0         162.0      Bathing Bars & Soaps     4.4  "
      ]
     },
     "execution_count": 85,
     "metadata": {},
     "output_type": "execute_result"
    }
   ],
   "source": [
    "df.head()"
   ]
  },
  {
   "cell_type": "code",
   "execution_count": 92,
   "id": "3f9b2c62",
   "metadata": {
    "ExecuteTime": {
     "end_time": "2022-07-14T07:10:19.683773Z",
     "start_time": "2022-07-14T07:10:19.676011Z"
    }
   },
   "outputs": [
    {
     "data": {
      "text/plain": [
       "322.5148078388677"
      ]
     },
     "execution_count": 92,
     "metadata": {},
     "output_type": "execute_result"
    }
   ],
   "source": [
    "df[\"price\"].mean()"
   ]
  },
  {
   "cell_type": "code",
   "execution_count": 87,
   "id": "2e872c94",
   "metadata": {},
   "outputs": [
    {
     "data": {
      "text/plain": [
       "12500.0"
      ]
     },
     "execution_count": 87,
     "metadata": {},
     "output_type": "execute_result"
    }
   ],
   "source": [
    "df[\"sale_price\"].max()"
   ]
  },
  {
   "cell_type": "code",
   "execution_count": 94,
   "id": "17a65a18",
   "metadata": {
    "ExecuteTime": {
     "end_time": "2022-07-14T07:10:55.310495Z",
     "start_time": "2022-07-14T07:10:55.293996Z"
    }
   },
   "outputs": [
    {
     "data": {
      "text/html": [
       "<div>\n",
       "<style scoped>\n",
       "    .dataframe tbody tr th:only-of-type {\n",
       "        vertical-align: middle;\n",
       "    }\n",
       "\n",
       "    .dataframe tbody tr th {\n",
       "        vertical-align: top;\n",
       "    }\n",
       "\n",
       "    .dataframe thead th {\n",
       "        text-align: right;\n",
       "    }\n",
       "</style>\n",
       "<table border=\"1\" class=\"dataframe\">\n",
       "  <thead>\n",
       "    <tr style=\"text-align: right;\">\n",
       "      <th></th>\n",
       "      <th>product</th>\n",
       "      <th>category</th>\n",
       "      <th>sub_category</th>\n",
       "      <th>brand</th>\n",
       "      <th>price</th>\n",
       "      <th>market_price</th>\n",
       "      <th>type</th>\n",
       "      <th>rating</th>\n",
       "      <th>report</th>\n",
       "    </tr>\n",
       "    <tr>\n",
       "      <th>id</th>\n",
       "      <th></th>\n",
       "      <th></th>\n",
       "      <th></th>\n",
       "      <th></th>\n",
       "      <th></th>\n",
       "      <th></th>\n",
       "      <th></th>\n",
       "      <th></th>\n",
       "      <th></th>\n",
       "    </tr>\n",
       "  </thead>\n",
       "  <tbody>\n",
       "    <tr>\n",
       "      <th>no25302</th>\n",
       "      <td>Bravura Clipper</td>\n",
       "      <td>Kitchen, Garden &amp; Pets</td>\n",
       "      <td>Pet Food &amp; Accessories</td>\n",
       "      <td>Wahl</td>\n",
       "      <td>12500.0</td>\n",
       "      <td>12500.0</td>\n",
       "      <td>Pet Cleaning &amp; Grooming</td>\n",
       "      <td>NaN</td>\n",
       "      <td>The bravura clipper is a must-have clipper for...</td>\n",
       "    </tr>\n",
       "  </tbody>\n",
       "</table>\n",
       "</div>"
      ],
      "text/plain": [
       "                 product                category            sub_category  \\\n",
       "id                                                                         \n",
       "no25302  Bravura Clipper  Kitchen, Garden & Pets  Pet Food & Accessories   \n",
       "\n",
       "        brand    price  market_price                     type  rating  \\\n",
       "id                                                                      \n",
       "no25302  Wahl  12500.0       12500.0  Pet Cleaning & Grooming     NaN   \n",
       "\n",
       "                                                    report  \n",
       "id                                                          \n",
       "no25302  The bravura clipper is a must-have clipper for...  "
      ]
     },
     "execution_count": 94,
     "metadata": {},
     "output_type": "execute_result"
    }
   ],
   "source": [
    "df.loc[df[\"price\"] == 12500, :]"
   ]
  },
  {
   "cell_type": "markdown",
   "id": "5559aabe",
   "metadata": {},
   "source": [
    "### Using the axis parameter\n",
    "* axis = 0 ==> represents the function is applied column-wise\n",
    "* axis = 1 ==> means that the function is applied row-wise on the DataFrame\n",
    "![axis](https://i.postimg.cc/13fzMbPD/axes.png)"
   ]
  },
  {
   "cell_type": "code",
   "execution_count": 95,
   "id": "11dd3c86",
   "metadata": {
    "ExecuteTime": {
     "end_time": "2022-07-14T07:11:37.845357Z",
     "start_time": "2022-07-14T07:11:37.738181Z"
    }
   },
   "outputs": [
    {
     "name": "stderr",
     "output_type": "stream",
     "text": [
      "/tmp/ipykernel_10218/3258264251.py:1: FutureWarning: Dropping of nuisance columns in DataFrame reductions (with 'numeric_only=None') is deprecated; in a future version this will raise TypeError.  Select only valid columns before calling the reduction.\n",
      "  df.max(axis=0)\n"
     ]
    },
    {
     "data": {
      "text/plain": [
       "category        Snacks & Branded Foods\n",
       "sub_category                     Water\n",
       "price                          12500.0\n",
       "market_price                   12500.0\n",
       "type                Yogurt & Shrikhand\n",
       "rating                             5.0\n",
       "dtype: object"
      ]
     },
     "execution_count": 95,
     "metadata": {},
     "output_type": "execute_result"
    }
   ],
   "source": [
    "df.max(axis=0)"
   ]
  },
  {
   "cell_type": "markdown",
   "id": "3acfb6c1",
   "metadata": {},
   "source": [
    "### Combining Dataframes\n",
    "In many real-life situations, the data that we want to use comes in multiple files. We often have a need to combine these files into a single DataFrame to analyze the data."
   ]
  },
  {
   "cell_type": "markdown",
   "id": "86ab75af",
   "metadata": {},
   "source": [
    "The **concat()** function in pandas is used to append either columns or rows from one DataFrame to another.\n",
    "![concat](https://i.postimg.cc/TPb3vmKw/concat.png)"
   ]
  },
  {
   "cell_type": "code",
   "execution_count": 97,
   "id": "25344837",
   "metadata": {
    "ExecuteTime": {
     "end_time": "2022-07-14T07:13:45.228308Z",
     "start_time": "2022-07-14T07:13:45.213202Z"
    }
   },
   "outputs": [
    {
     "data": {
      "text/html": [
       "<div>\n",
       "<style scoped>\n",
       "    .dataframe tbody tr th:only-of-type {\n",
       "        vertical-align: middle;\n",
       "    }\n",
       "\n",
       "    .dataframe tbody tr th {\n",
       "        vertical-align: top;\n",
       "    }\n",
       "\n",
       "    .dataframe thead th {\n",
       "        text-align: right;\n",
       "    }\n",
       "</style>\n",
       "<table border=\"1\" class=\"dataframe\">\n",
       "  <thead>\n",
       "    <tr style=\"text-align: right;\">\n",
       "      <th></th>\n",
       "      <th>num</th>\n",
       "      <th>letter</th>\n",
       "    </tr>\n",
       "  </thead>\n",
       "  <tbody>\n",
       "    <tr>\n",
       "      <th>0</th>\n",
       "      <td>1</td>\n",
       "      <td>a</td>\n",
       "    </tr>\n",
       "    <tr>\n",
       "      <th>1</th>\n",
       "      <td>2</td>\n",
       "      <td>b</td>\n",
       "    </tr>\n",
       "    <tr>\n",
       "      <th>2</th>\n",
       "      <td>3</td>\n",
       "      <td>c</td>\n",
       "    </tr>\n",
       "  </tbody>\n",
       "</table>\n",
       "</div>"
      ],
      "text/plain": [
       "   num letter\n",
       "0    1      a\n",
       "1    2      b\n",
       "2    3      c"
      ]
     },
     "metadata": {},
     "output_type": "display_data"
    },
    {
     "data": {
      "text/html": [
       "<div>\n",
       "<style scoped>\n",
       "    .dataframe tbody tr th:only-of-type {\n",
       "        vertical-align: middle;\n",
       "    }\n",
       "\n",
       "    .dataframe tbody tr th {\n",
       "        vertical-align: top;\n",
       "    }\n",
       "\n",
       "    .dataframe thead th {\n",
       "        text-align: right;\n",
       "    }\n",
       "</style>\n",
       "<table border=\"1\" class=\"dataframe\">\n",
       "  <thead>\n",
       "    <tr style=\"text-align: right;\">\n",
       "      <th></th>\n",
       "      <th>num</th>\n",
       "      <th>letter</th>\n",
       "    </tr>\n",
       "  </thead>\n",
       "  <tbody>\n",
       "    <tr>\n",
       "      <th>0</th>\n",
       "      <td>4</td>\n",
       "      <td>d</td>\n",
       "    </tr>\n",
       "    <tr>\n",
       "      <th>1</th>\n",
       "      <td>5</td>\n",
       "      <td>e</td>\n",
       "    </tr>\n",
       "    <tr>\n",
       "      <th>2</th>\n",
       "      <td>6</td>\n",
       "      <td>f</td>\n",
       "    </tr>\n",
       "  </tbody>\n",
       "</table>\n",
       "</div>"
      ],
      "text/plain": [
       "   num letter\n",
       "0    4      d\n",
       "1    5      e\n",
       "2    6      f"
      ]
     },
     "metadata": {},
     "output_type": "display_data"
    }
   ],
   "source": [
    "df1 = pd.DataFrame({'num': [1,2,3], 'letter':['a', 'b', 'c']})\n",
    "df2 = pd.DataFrame({'num': [4,5,6], 'letter':['d', 'e', 'f']})\n",
    "display(df1, df2)"
   ]
  },
  {
   "cell_type": "code",
   "execution_count": 98,
   "id": "c1750470",
   "metadata": {
    "ExecuteTime": {
     "end_time": "2022-07-14T07:13:45.583414Z",
     "start_time": "2022-07-14T07:13:45.571775Z"
    }
   },
   "outputs": [
    {
     "name": "stdout",
     "output_type": "stream",
     "text": [
      "combining vertically..\n"
     ]
    },
    {
     "data": {
      "text/html": [
       "<div>\n",
       "<style scoped>\n",
       "    .dataframe tbody tr th:only-of-type {\n",
       "        vertical-align: middle;\n",
       "    }\n",
       "\n",
       "    .dataframe tbody tr th {\n",
       "        vertical-align: top;\n",
       "    }\n",
       "\n",
       "    .dataframe thead th {\n",
       "        text-align: right;\n",
       "    }\n",
       "</style>\n",
       "<table border=\"1\" class=\"dataframe\">\n",
       "  <thead>\n",
       "    <tr style=\"text-align: right;\">\n",
       "      <th></th>\n",
       "      <th>num</th>\n",
       "      <th>letter</th>\n",
       "    </tr>\n",
       "  </thead>\n",
       "  <tbody>\n",
       "    <tr>\n",
       "      <th>0</th>\n",
       "      <td>1</td>\n",
       "      <td>a</td>\n",
       "    </tr>\n",
       "    <tr>\n",
       "      <th>1</th>\n",
       "      <td>2</td>\n",
       "      <td>b</td>\n",
       "    </tr>\n",
       "    <tr>\n",
       "      <th>2</th>\n",
       "      <td>3</td>\n",
       "      <td>c</td>\n",
       "    </tr>\n",
       "    <tr>\n",
       "      <th>0</th>\n",
       "      <td>4</td>\n",
       "      <td>d</td>\n",
       "    </tr>\n",
       "    <tr>\n",
       "      <th>1</th>\n",
       "      <td>5</td>\n",
       "      <td>e</td>\n",
       "    </tr>\n",
       "    <tr>\n",
       "      <th>2</th>\n",
       "      <td>6</td>\n",
       "      <td>f</td>\n",
       "    </tr>\n",
       "  </tbody>\n",
       "</table>\n",
       "</div>"
      ],
      "text/plain": [
       "   num letter\n",
       "0    1      a\n",
       "1    2      b\n",
       "2    3      c\n",
       "0    4      d\n",
       "1    5      e\n",
       "2    6      f"
      ]
     },
     "metadata": {},
     "output_type": "display_data"
    }
   ],
   "source": [
    "print('combining vertically..')\n",
    "df_v = pd.concat([df1, df2], axis='index')\n",
    "display(df_v)"
   ]
  },
  {
   "cell_type": "code",
   "execution_count": 99,
   "id": "b448ce60",
   "metadata": {
    "ExecuteTime": {
     "end_time": "2022-07-14T07:13:46.074119Z",
     "start_time": "2022-07-14T07:13:46.066685Z"
    }
   },
   "outputs": [
    {
     "name": "stdout",
     "output_type": "stream",
     "text": [
      "combining horizontally..\n"
     ]
    },
    {
     "data": {
      "text/html": [
       "<div>\n",
       "<style scoped>\n",
       "    .dataframe tbody tr th:only-of-type {\n",
       "        vertical-align: middle;\n",
       "    }\n",
       "\n",
       "    .dataframe tbody tr th {\n",
       "        vertical-align: top;\n",
       "    }\n",
       "\n",
       "    .dataframe thead th {\n",
       "        text-align: right;\n",
       "    }\n",
       "</style>\n",
       "<table border=\"1\" class=\"dataframe\">\n",
       "  <thead>\n",
       "    <tr style=\"text-align: right;\">\n",
       "      <th></th>\n",
       "      <th>num</th>\n",
       "      <th>letter</th>\n",
       "      <th>num</th>\n",
       "      <th>letter</th>\n",
       "    </tr>\n",
       "  </thead>\n",
       "  <tbody>\n",
       "    <tr>\n",
       "      <th>0</th>\n",
       "      <td>1</td>\n",
       "      <td>a</td>\n",
       "      <td>4</td>\n",
       "      <td>d</td>\n",
       "    </tr>\n",
       "    <tr>\n",
       "      <th>1</th>\n",
       "      <td>2</td>\n",
       "      <td>b</td>\n",
       "      <td>5</td>\n",
       "      <td>e</td>\n",
       "    </tr>\n",
       "    <tr>\n",
       "      <th>2</th>\n",
       "      <td>3</td>\n",
       "      <td>c</td>\n",
       "      <td>6</td>\n",
       "      <td>f</td>\n",
       "    </tr>\n",
       "  </tbody>\n",
       "</table>\n",
       "</div>"
      ],
      "text/plain": [
       "   num letter  num letter\n",
       "0    1      a    4      d\n",
       "1    2      b    5      e\n",
       "2    3      c    6      f"
      ]
     },
     "metadata": {},
     "output_type": "display_data"
    }
   ],
   "source": [
    "print('combining horizontally..')\n",
    "df_h = pd.concat([df1, df2], axis='columns')\n",
    "display(df_h)"
   ]
  },
  {
   "cell_type": "markdown",
   "id": "dc302a98",
   "metadata": {},
   "source": [
    "> **❗ NOTE:** A useful shortcut to concat() is append() instance method on Series and DataFrame. These methods actually predated concat. "
   ]
  },
  {
   "cell_type": "code",
   "execution_count": 100,
   "id": "1a3a8ebf",
   "metadata": {
    "ExecuteTime": {
     "end_time": "2022-07-14T07:13:48.072110Z",
     "start_time": "2022-07-14T07:13:48.054178Z"
    }
   },
   "outputs": [
    {
     "name": "stderr",
     "output_type": "stream",
     "text": [
      "/tmp/ipykernel_10218/343089946.py:1: FutureWarning: The frame.append method is deprecated and will be removed from pandas in a future version. Use pandas.concat instead.\n",
      "  df_v = df1.append(df2)\n"
     ]
    },
    {
     "data": {
      "text/html": [
       "<div>\n",
       "<style scoped>\n",
       "    .dataframe tbody tr th:only-of-type {\n",
       "        vertical-align: middle;\n",
       "    }\n",
       "\n",
       "    .dataframe tbody tr th {\n",
       "        vertical-align: top;\n",
       "    }\n",
       "\n",
       "    .dataframe thead th {\n",
       "        text-align: right;\n",
       "    }\n",
       "</style>\n",
       "<table border=\"1\" class=\"dataframe\">\n",
       "  <thead>\n",
       "    <tr style=\"text-align: right;\">\n",
       "      <th></th>\n",
       "      <th>num</th>\n",
       "      <th>letter</th>\n",
       "    </tr>\n",
       "  </thead>\n",
       "  <tbody>\n",
       "    <tr>\n",
       "      <th>0</th>\n",
       "      <td>1</td>\n",
       "      <td>a</td>\n",
       "    </tr>\n",
       "    <tr>\n",
       "      <th>1</th>\n",
       "      <td>2</td>\n",
       "      <td>b</td>\n",
       "    </tr>\n",
       "    <tr>\n",
       "      <th>2</th>\n",
       "      <td>3</td>\n",
       "      <td>c</td>\n",
       "    </tr>\n",
       "    <tr>\n",
       "      <th>0</th>\n",
       "      <td>4</td>\n",
       "      <td>d</td>\n",
       "    </tr>\n",
       "    <tr>\n",
       "      <th>1</th>\n",
       "      <td>5</td>\n",
       "      <td>e</td>\n",
       "    </tr>\n",
       "    <tr>\n",
       "      <th>2</th>\n",
       "      <td>6</td>\n",
       "      <td>f</td>\n",
       "    </tr>\n",
       "  </tbody>\n",
       "</table>\n",
       "</div>"
      ],
      "text/plain": [
       "   num letter\n",
       "0    1      a\n",
       "1    2      b\n",
       "2    3      c\n",
       "0    4      d\n",
       "1    5      e\n",
       "2    6      f"
      ]
     },
     "execution_count": 100,
     "metadata": {},
     "output_type": "execute_result"
    }
   ],
   "source": [
    "df_v = df1.append(df2)\n",
    "df_v"
   ]
  },
  {
   "cell_type": "markdown",
   "id": "65d92627",
   "metadata": {},
   "source": [
    "> **❗ NOTE** :**concat()** function concatenates dataframes along rows or columns.\n",
    "**merge()** combines dataframes based on values in shared columns.\n",
    "merge() function offers more flexibility compared to concat function because it allows combinations based on a condition."
   ]
  },
  {
   "cell_type": "code",
   "execution_count": 101,
   "id": "2892eeca",
   "metadata": {
    "ExecuteTime": {
     "end_time": "2022-07-14T07:13:55.244665Z",
     "start_time": "2022-07-14T07:13:55.227132Z"
    }
   },
   "outputs": [
    {
     "data": {
      "text/html": [
       "<div>\n",
       "<style scoped>\n",
       "    .dataframe tbody tr th:only-of-type {\n",
       "        vertical-align: middle;\n",
       "    }\n",
       "\n",
       "    .dataframe tbody tr th {\n",
       "        vertical-align: top;\n",
       "    }\n",
       "\n",
       "    .dataframe thead th {\n",
       "        text-align: right;\n",
       "    }\n",
       "</style>\n",
       "<table border=\"1\" class=\"dataframe\">\n",
       "  <thead>\n",
       "    <tr style=\"text-align: right;\">\n",
       "      <th></th>\n",
       "      <th>Name</th>\n",
       "      <th>Age</th>\n",
       "      <th>Gender</th>\n",
       "      <th>State</th>\n",
       "    </tr>\n",
       "  </thead>\n",
       "  <tbody>\n",
       "    <tr>\n",
       "      <th>0</th>\n",
       "      <td>Jane</td>\n",
       "      <td>32</td>\n",
       "      <td>F</td>\n",
       "      <td>CA</td>\n",
       "    </tr>\n",
       "    <tr>\n",
       "      <th>1</th>\n",
       "      <td>John</td>\n",
       "      <td>26</td>\n",
       "      <td>M</td>\n",
       "      <td>NY</td>\n",
       "    </tr>\n",
       "    <tr>\n",
       "      <th>2</th>\n",
       "      <td>Cathy</td>\n",
       "      <td>29</td>\n",
       "      <td>F</td>\n",
       "      <td>OH</td>\n",
       "    </tr>\n",
       "    <tr>\n",
       "      <th>3</th>\n",
       "      <td>Sarah</td>\n",
       "      <td>23</td>\n",
       "      <td>F</td>\n",
       "      <td>TX</td>\n",
       "    </tr>\n",
       "  </tbody>\n",
       "</table>\n",
       "</div>"
      ],
      "text/plain": [
       "    Name Age Gender State\n",
       "0   Jane  32      F    CA\n",
       "1   John  26      M    NY\n",
       "2  Cathy  29      F    OH\n",
       "3  Sarah  23      F    TX"
      ]
     },
     "metadata": {},
     "output_type": "display_data"
    },
    {
     "data": {
      "text/html": [
       "<div>\n",
       "<style scoped>\n",
       "    .dataframe tbody tr th:only-of-type {\n",
       "        vertical-align: middle;\n",
       "    }\n",
       "\n",
       "    .dataframe tbody tr th {\n",
       "        vertical-align: top;\n",
       "    }\n",
       "\n",
       "    .dataframe thead th {\n",
       "        text-align: right;\n",
       "    }\n",
       "</style>\n",
       "<table border=\"1\" class=\"dataframe\">\n",
       "  <thead>\n",
       "    <tr style=\"text-align: right;\">\n",
       "      <th></th>\n",
       "      <th>Name</th>\n",
       "      <th>City</th>\n",
       "      <th>Work Status</th>\n",
       "    </tr>\n",
       "  </thead>\n",
       "  <tbody>\n",
       "    <tr>\n",
       "      <th>0</th>\n",
       "      <td>Jane</td>\n",
       "      <td>SF</td>\n",
       "      <td>No</td>\n",
       "    </tr>\n",
       "    <tr>\n",
       "      <th>1</th>\n",
       "      <td>John</td>\n",
       "      <td>NY</td>\n",
       "      <td>Yes</td>\n",
       "    </tr>\n",
       "    <tr>\n",
       "      <th>2</th>\n",
       "      <td>Cathy</td>\n",
       "      <td>Columbus</td>\n",
       "      <td>Yes</td>\n",
       "    </tr>\n",
       "    <tr>\n",
       "      <th>3</th>\n",
       "      <td>Rob</td>\n",
       "      <td>Austin</td>\n",
       "      <td>Yes</td>\n",
       "    </tr>\n",
       "  </tbody>\n",
       "</table>\n",
       "</div>"
      ],
      "text/plain": [
       "    Name      City Work Status\n",
       "0   Jane        SF          No\n",
       "1   John        NY         Yes\n",
       "2  Cathy  Columbus         Yes\n",
       "3    Rob    Austin         Yes"
      ]
     },
     "metadata": {},
     "output_type": "display_data"
    }
   ],
   "source": [
    "df1 = pd.DataFrame({'Name': ['Jane', 'John', 'Cathy', 'Sarah'],\n",
    "                         'Age': ['32', '26', '29', '23'],\n",
    "                         'Gender': ['F', 'M', 'F', 'F'],\n",
    "                         'State': ['CA', 'NY', 'OH', 'TX']})\n",
    "\n",
    "df2 = pd.DataFrame({'Name': ['Jane', 'John', 'Cathy', 'Rob'],\n",
    "                        'City': ['SF', 'NY', 'Columbus', 'Austin'],\n",
    "                         'Work Status': ['No', 'Yes', 'Yes', 'Yes']})\n",
    "display(df1, df2)"
   ]
  },
  {
   "cell_type": "code",
   "execution_count": 95,
   "id": "f747da71",
   "metadata": {},
   "outputs": [
    {
     "data": {
      "text/html": [
       "<div>\n",
       "<style scoped>\n",
       "    .dataframe tbody tr th:only-of-type {\n",
       "        vertical-align: middle;\n",
       "    }\n",
       "\n",
       "    .dataframe tbody tr th {\n",
       "        vertical-align: top;\n",
       "    }\n",
       "\n",
       "    .dataframe thead th {\n",
       "        text-align: right;\n",
       "    }\n",
       "</style>\n",
       "<table border=\"1\" class=\"dataframe\">\n",
       "  <thead>\n",
       "    <tr style=\"text-align: right;\">\n",
       "      <th></th>\n",
       "      <th>Name</th>\n",
       "      <th>Age</th>\n",
       "      <th>Gender</th>\n",
       "      <th>State</th>\n",
       "      <th>City</th>\n",
       "      <th>Work Status</th>\n",
       "    </tr>\n",
       "  </thead>\n",
       "  <tbody>\n",
       "    <tr>\n",
       "      <th>0</th>\n",
       "      <td>Jane</td>\n",
       "      <td>32</td>\n",
       "      <td>F</td>\n",
       "      <td>CA</td>\n",
       "      <td>SF</td>\n",
       "      <td>No</td>\n",
       "    </tr>\n",
       "    <tr>\n",
       "      <th>1</th>\n",
       "      <td>John</td>\n",
       "      <td>26</td>\n",
       "      <td>M</td>\n",
       "      <td>NY</td>\n",
       "      <td>NY</td>\n",
       "      <td>Yes</td>\n",
       "    </tr>\n",
       "    <tr>\n",
       "      <th>2</th>\n",
       "      <td>Cathy</td>\n",
       "      <td>29</td>\n",
       "      <td>F</td>\n",
       "      <td>OH</td>\n",
       "      <td>Columbus</td>\n",
       "      <td>Yes</td>\n",
       "    </tr>\n",
       "  </tbody>\n",
       "</table>\n",
       "</div>"
      ],
      "text/plain": [
       "    Name Age Gender State      City Work Status\n",
       "0   Jane  32      F    CA        SF          No\n",
       "1   John  26      M    NY        NY         Yes\n",
       "2  Cathy  29      F    OH  Columbus         Yes"
      ]
     },
     "execution_count": 95,
     "metadata": {},
     "output_type": "execute_result"
    }
   ],
   "source": [
    "pd.merge(df1, df2, on='Name', how='inner')"
   ]
  },
  {
   "cell_type": "markdown",
   "id": "eb04fd4c",
   "metadata": {},
   "source": [
    "#### Left outer merge"
   ]
  },
  {
   "cell_type": "code",
   "execution_count": 96,
   "id": "59c7d2ee",
   "metadata": {},
   "outputs": [
    {
     "data": {
      "text/html": [
       "<div>\n",
       "<style scoped>\n",
       "    .dataframe tbody tr th:only-of-type {\n",
       "        vertical-align: middle;\n",
       "    }\n",
       "\n",
       "    .dataframe tbody tr th {\n",
       "        vertical-align: top;\n",
       "    }\n",
       "\n",
       "    .dataframe thead th {\n",
       "        text-align: right;\n",
       "    }\n",
       "</style>\n",
       "<table border=\"1\" class=\"dataframe\">\n",
       "  <thead>\n",
       "    <tr style=\"text-align: right;\">\n",
       "      <th></th>\n",
       "      <th>Name</th>\n",
       "      <th>Age</th>\n",
       "      <th>Gender</th>\n",
       "      <th>State</th>\n",
       "      <th>City</th>\n",
       "      <th>Work Status</th>\n",
       "    </tr>\n",
       "  </thead>\n",
       "  <tbody>\n",
       "    <tr>\n",
       "      <th>0</th>\n",
       "      <td>Jane</td>\n",
       "      <td>32</td>\n",
       "      <td>F</td>\n",
       "      <td>CA</td>\n",
       "      <td>SF</td>\n",
       "      <td>No</td>\n",
       "    </tr>\n",
       "    <tr>\n",
       "      <th>1</th>\n",
       "      <td>John</td>\n",
       "      <td>26</td>\n",
       "      <td>M</td>\n",
       "      <td>NY</td>\n",
       "      <td>NY</td>\n",
       "      <td>Yes</td>\n",
       "    </tr>\n",
       "    <tr>\n",
       "      <th>2</th>\n",
       "      <td>Cathy</td>\n",
       "      <td>29</td>\n",
       "      <td>F</td>\n",
       "      <td>OH</td>\n",
       "      <td>Columbus</td>\n",
       "      <td>Yes</td>\n",
       "    </tr>\n",
       "    <tr>\n",
       "      <th>3</th>\n",
       "      <td>Sarah</td>\n",
       "      <td>23</td>\n",
       "      <td>F</td>\n",
       "      <td>TX</td>\n",
       "      <td>NaN</td>\n",
       "      <td>NaN</td>\n",
       "    </tr>\n",
       "  </tbody>\n",
       "</table>\n",
       "</div>"
      ],
      "text/plain": [
       "    Name Age Gender State      City Work Status\n",
       "0   Jane  32      F    CA        SF          No\n",
       "1   John  26      M    NY        NY         Yes\n",
       "2  Cathy  29      F    OH  Columbus         Yes\n",
       "3  Sarah  23      F    TX       NaN         NaN"
      ]
     },
     "execution_count": 96,
     "metadata": {},
     "output_type": "execute_result"
    }
   ],
   "source": [
    "pd.merge(df1, df2, on='Name', how='left')"
   ]
  },
  {
   "cell_type": "markdown",
   "id": "6fd1b8ac",
   "metadata": {},
   "source": [
    "#### Right outer merge"
   ]
  },
  {
   "cell_type": "code",
   "execution_count": 97,
   "id": "894f9fed",
   "metadata": {},
   "outputs": [
    {
     "data": {
      "text/html": [
       "<div>\n",
       "<style scoped>\n",
       "    .dataframe tbody tr th:only-of-type {\n",
       "        vertical-align: middle;\n",
       "    }\n",
       "\n",
       "    .dataframe tbody tr th {\n",
       "        vertical-align: top;\n",
       "    }\n",
       "\n",
       "    .dataframe thead th {\n",
       "        text-align: right;\n",
       "    }\n",
       "</style>\n",
       "<table border=\"1\" class=\"dataframe\">\n",
       "  <thead>\n",
       "    <tr style=\"text-align: right;\">\n",
       "      <th></th>\n",
       "      <th>Name</th>\n",
       "      <th>Age</th>\n",
       "      <th>Gender</th>\n",
       "      <th>State</th>\n",
       "      <th>City</th>\n",
       "      <th>Work Status</th>\n",
       "    </tr>\n",
       "  </thead>\n",
       "  <tbody>\n",
       "    <tr>\n",
       "      <th>0</th>\n",
       "      <td>Jane</td>\n",
       "      <td>32</td>\n",
       "      <td>F</td>\n",
       "      <td>CA</td>\n",
       "      <td>SF</td>\n",
       "      <td>No</td>\n",
       "    </tr>\n",
       "    <tr>\n",
       "      <th>1</th>\n",
       "      <td>John</td>\n",
       "      <td>26</td>\n",
       "      <td>M</td>\n",
       "      <td>NY</td>\n",
       "      <td>NY</td>\n",
       "      <td>Yes</td>\n",
       "    </tr>\n",
       "    <tr>\n",
       "      <th>2</th>\n",
       "      <td>Cathy</td>\n",
       "      <td>29</td>\n",
       "      <td>F</td>\n",
       "      <td>OH</td>\n",
       "      <td>Columbus</td>\n",
       "      <td>Yes</td>\n",
       "    </tr>\n",
       "    <tr>\n",
       "      <th>3</th>\n",
       "      <td>Rob</td>\n",
       "      <td>NaN</td>\n",
       "      <td>NaN</td>\n",
       "      <td>NaN</td>\n",
       "      <td>Austin</td>\n",
       "      <td>Yes</td>\n",
       "    </tr>\n",
       "  </tbody>\n",
       "</table>\n",
       "</div>"
      ],
      "text/plain": [
       "    Name  Age Gender State      City Work Status\n",
       "0   Jane   32      F    CA        SF          No\n",
       "1   John   26      M    NY        NY         Yes\n",
       "2  Cathy   29      F    OH  Columbus         Yes\n",
       "3    Rob  NaN    NaN   NaN    Austin         Yes"
      ]
     },
     "execution_count": 97,
     "metadata": {},
     "output_type": "execute_result"
    }
   ],
   "source": [
    "pd.merge(df1, df2, on=\"Name\", how=\"right\")"
   ]
  },
  {
   "cell_type": "markdown",
   "id": "ec4cd968",
   "metadata": {},
   "source": [
    "### apply function\n",
    "\n",
    "Pandas.apply allow the users to pass a function and apply it on every single value of the Pandas series. It uses the function along the series provided, column (axis=0) or row (axis=1)."
   ]
  },
  {
   "cell_type": "code",
   "execution_count": 98,
   "id": "2b2b1ae5",
   "metadata": {},
   "outputs": [
    {
     "data": {
      "text/html": [
       "<div>\n",
       "<style scoped>\n",
       "    .dataframe tbody tr th:only-of-type {\n",
       "        vertical-align: middle;\n",
       "    }\n",
       "\n",
       "    .dataframe tbody tr th {\n",
       "        vertical-align: top;\n",
       "    }\n",
       "\n",
       "    .dataframe thead th {\n",
       "        text-align: right;\n",
       "    }\n",
       "</style>\n",
       "<table border=\"1\" class=\"dataframe\">\n",
       "  <thead>\n",
       "    <tr style=\"text-align: right;\">\n",
       "      <th></th>\n",
       "      <th>product</th>\n",
       "      <th>category</th>\n",
       "      <th>sub_category</th>\n",
       "      <th>brand</th>\n",
       "      <th>sale_price</th>\n",
       "      <th>market_price</th>\n",
       "      <th>type</th>\n",
       "      <th>rating</th>\n",
       "    </tr>\n",
       "    <tr>\n",
       "      <th>id</th>\n",
       "      <th></th>\n",
       "      <th></th>\n",
       "      <th></th>\n",
       "      <th></th>\n",
       "      <th></th>\n",
       "      <th></th>\n",
       "      <th></th>\n",
       "      <th></th>\n",
       "    </tr>\n",
       "  </thead>\n",
       "  <tbody>\n",
       "    <tr>\n",
       "      <th>no1</th>\n",
       "      <td>Garlic Oil - Vegetarian Capsule 500 mg</td>\n",
       "      <td>Beauty &amp; Hygiene</td>\n",
       "      <td>Hair Care</td>\n",
       "      <td>Sri Sri Ayurveda</td>\n",
       "      <td>220.00</td>\n",
       "      <td>220.0</td>\n",
       "      <td>Hair Oil &amp; Serum</td>\n",
       "      <td>4.1</td>\n",
       "    </tr>\n",
       "    <tr>\n",
       "      <th>no2</th>\n",
       "      <td>Water Bottle - Orange</td>\n",
       "      <td>Kitchen, Garden &amp; Pets</td>\n",
       "      <td>Storage &amp; Accessories</td>\n",
       "      <td>Mastercook</td>\n",
       "      <td>180.00</td>\n",
       "      <td>180.0</td>\n",
       "      <td>Water &amp; Fridge Bottles</td>\n",
       "      <td>2.3</td>\n",
       "    </tr>\n",
       "    <tr>\n",
       "      <th>no3</th>\n",
       "      <td>Brass Angle Deep - Plain, No.2</td>\n",
       "      <td>Cleaning &amp; Household</td>\n",
       "      <td>Pooja Needs</td>\n",
       "      <td>Trm</td>\n",
       "      <td>119.00</td>\n",
       "      <td>250.0</td>\n",
       "      <td>Lamp &amp; Lamp Oil</td>\n",
       "      <td>3.4</td>\n",
       "    </tr>\n",
       "    <tr>\n",
       "      <th>no4</th>\n",
       "      <td>Cereal Flip Lid Container/Storage Jar - Assort...</td>\n",
       "      <td>Cleaning &amp; Household</td>\n",
       "      <td>Bins &amp; Bathroom Ware</td>\n",
       "      <td>Nakoda</td>\n",
       "      <td>149.00</td>\n",
       "      <td>176.0</td>\n",
       "      <td>Laundry, Storage Baskets</td>\n",
       "      <td>3.7</td>\n",
       "    </tr>\n",
       "    <tr>\n",
       "      <th>no5</th>\n",
       "      <td>Creme Soft Soap - For Hands &amp; Body</td>\n",
       "      <td>Beauty &amp; Hygiene</td>\n",
       "      <td>Bath &amp; Hand Wash</td>\n",
       "      <td>Nivea</td>\n",
       "      <td>162.00</td>\n",
       "      <td>162.0</td>\n",
       "      <td>Bathing Bars &amp; Soaps</td>\n",
       "      <td>4.4</td>\n",
       "    </tr>\n",
       "    <tr>\n",
       "      <th>...</th>\n",
       "      <td>...</td>\n",
       "      <td>...</td>\n",
       "      <td>...</td>\n",
       "      <td>...</td>\n",
       "      <td>...</td>\n",
       "      <td>...</td>\n",
       "      <td>...</td>\n",
       "      <td>...</td>\n",
       "    </tr>\n",
       "    <tr>\n",
       "      <th>no27551</th>\n",
       "      <td>Wottagirl! Perfume Spray - Heaven, Classic</td>\n",
       "      <td>Beauty &amp; Hygiene</td>\n",
       "      <td>Fragrances &amp; Deos</td>\n",
       "      <td>Layerr</td>\n",
       "      <td>199.20</td>\n",
       "      <td>249.0</td>\n",
       "      <td>Perfume</td>\n",
       "      <td>3.9</td>\n",
       "    </tr>\n",
       "    <tr>\n",
       "      <th>no27552</th>\n",
       "      <td>Rosemary</td>\n",
       "      <td>Gourmet &amp; World Food</td>\n",
       "      <td>Cooking &amp; Baking Needs</td>\n",
       "      <td>Puramate</td>\n",
       "      <td>67.50</td>\n",
       "      <td>75.0</td>\n",
       "      <td>Herbs, Seasonings &amp; Rubs</td>\n",
       "      <td>4.0</td>\n",
       "    </tr>\n",
       "    <tr>\n",
       "      <th>no27553</th>\n",
       "      <td>Peri-Peri Sweet Potato Chips</td>\n",
       "      <td>Gourmet &amp; World Food</td>\n",
       "      <td>Snacks, Dry Fruits, Nuts</td>\n",
       "      <td>FabBox</td>\n",
       "      <td>200.00</td>\n",
       "      <td>200.0</td>\n",
       "      <td>Nachos &amp; Chips</td>\n",
       "      <td>3.8</td>\n",
       "    </tr>\n",
       "    <tr>\n",
       "      <th>no27554</th>\n",
       "      <td>Green Tea - Pure Original</td>\n",
       "      <td>Beverages</td>\n",
       "      <td>Tea</td>\n",
       "      <td>Tetley</td>\n",
       "      <td>396.00</td>\n",
       "      <td>495.0</td>\n",
       "      <td>Tea Bags</td>\n",
       "      <td>4.2</td>\n",
       "    </tr>\n",
       "    <tr>\n",
       "      <th>no27555</th>\n",
       "      <td>United Dreams Go Far Deodorant</td>\n",
       "      <td>Beauty &amp; Hygiene</td>\n",
       "      <td>Men's Grooming</td>\n",
       "      <td>United Colors Of Benetton</td>\n",
       "      <td>214.53</td>\n",
       "      <td>390.0</td>\n",
       "      <td>Men's Deodorants</td>\n",
       "      <td>4.5</td>\n",
       "    </tr>\n",
       "  </tbody>\n",
       "</table>\n",
       "<p>27555 rows × 8 columns</p>\n",
       "</div>"
      ],
      "text/plain": [
       "                                                   product  \\\n",
       "id                                                           \n",
       "no1                 Garlic Oil - Vegetarian Capsule 500 mg   \n",
       "no2                                  Water Bottle - Orange   \n",
       "no3                         Brass Angle Deep - Plain, No.2   \n",
       "no4      Cereal Flip Lid Container/Storage Jar - Assort...   \n",
       "no5                     Creme Soft Soap - For Hands & Body   \n",
       "...                                                    ...   \n",
       "no27551         Wottagirl! Perfume Spray - Heaven, Classic   \n",
       "no27552                                           Rosemary   \n",
       "no27553                       Peri-Peri Sweet Potato Chips   \n",
       "no27554                          Green Tea - Pure Original   \n",
       "no27555                     United Dreams Go Far Deodorant   \n",
       "\n",
       "                       category              sub_category  \\\n",
       "id                                                          \n",
       "no1            Beauty & Hygiene                 Hair Care   \n",
       "no2      Kitchen, Garden & Pets     Storage & Accessories   \n",
       "no3        Cleaning & Household               Pooja Needs   \n",
       "no4        Cleaning & Household      Bins & Bathroom Ware   \n",
       "no5            Beauty & Hygiene          Bath & Hand Wash   \n",
       "...                         ...                       ...   \n",
       "no27551        Beauty & Hygiene         Fragrances & Deos   \n",
       "no27552    Gourmet & World Food    Cooking & Baking Needs   \n",
       "no27553    Gourmet & World Food  Snacks, Dry Fruits, Nuts   \n",
       "no27554               Beverages                       Tea   \n",
       "no27555        Beauty & Hygiene            Men's Grooming   \n",
       "\n",
       "                              brand  sale_price  market_price  \\\n",
       "id                                                              \n",
       "no1               Sri Sri Ayurveda       220.00         220.0   \n",
       "no2                      Mastercook      180.00         180.0   \n",
       "no3                             Trm      119.00         250.0   \n",
       "no4                          Nakoda      149.00         176.0   \n",
       "no5                           Nivea      162.00         162.0   \n",
       "...                             ...         ...           ...   \n",
       "no27551                      Layerr      199.20         249.0   \n",
       "no27552                    Puramate       67.50          75.0   \n",
       "no27553                      FabBox      200.00         200.0   \n",
       "no27554                      Tetley      396.00         495.0   \n",
       "no27555  United Colors Of Benetton       214.53         390.0   \n",
       "\n",
       "                             type  rating  \n",
       "id                                         \n",
       "no1              Hair Oil & Serum     4.1  \n",
       "no2        Water & Fridge Bottles     2.3  \n",
       "no3               Lamp & Lamp Oil     3.4  \n",
       "no4      Laundry, Storage Baskets     3.7  \n",
       "no5          Bathing Bars & Soaps     4.4  \n",
       "...                           ...     ...  \n",
       "no27551                   Perfume     3.9  \n",
       "no27552  Herbs, Seasonings & Rubs     4.0  \n",
       "no27553            Nachos & Chips     3.8  \n",
       "no27554                  Tea Bags     4.2  \n",
       "no27555          Men's Deodorants     4.5  \n",
       "\n",
       "[27555 rows x 8 columns]"
      ]
     },
     "execution_count": 98,
     "metadata": {},
     "output_type": "execute_result"
    }
   ],
   "source": [
    "df"
   ]
  },
  {
   "cell_type": "code",
   "execution_count": 99,
   "id": "8f249768",
   "metadata": {},
   "outputs": [
    {
     "data": {
      "text/plain": [
       "7"
      ]
     },
     "execution_count": 99,
     "metadata": {},
     "output_type": "execute_result"
    }
   ],
   "source": [
    "func_lower = lambda x, y: x + y\n",
    "func_lower(3, 4)"
   ]
  },
  {
   "cell_type": "code",
   "execution_count": 100,
   "id": "d107b5b1",
   "metadata": {},
   "outputs": [
    {
     "data": {
      "text/plain": [
       "id\n",
       "no1          beauty & hygiene\n",
       "no2    kitchen, garden & pets\n",
       "no3      cleaning & household\n",
       "no4      cleaning & household\n",
       "no5          beauty & hygiene\n",
       "Name: category, dtype: object"
      ]
     },
     "execution_count": 100,
     "metadata": {},
     "output_type": "execute_result"
    }
   ],
   "source": [
    "func_lower = lambda x: x.lower()\n",
    "low_category = df[\"category\"].apply(func_lower)\n",
    "low_category.head()"
   ]
  },
  {
   "cell_type": "code",
   "execution_count": 101,
   "id": "cca1eed8",
   "metadata": {},
   "outputs": [
    {
     "data": {
      "text/html": [
       "<div>\n",
       "<style scoped>\n",
       "    .dataframe tbody tr th:only-of-type {\n",
       "        vertical-align: middle;\n",
       "    }\n",
       "\n",
       "    .dataframe tbody tr th {\n",
       "        vertical-align: top;\n",
       "    }\n",
       "\n",
       "    .dataframe thead th {\n",
       "        text-align: right;\n",
       "    }\n",
       "</style>\n",
       "<table border=\"1\" class=\"dataframe\">\n",
       "  <thead>\n",
       "    <tr style=\"text-align: right;\">\n",
       "      <th></th>\n",
       "      <th>product</th>\n",
       "      <th>category</th>\n",
       "      <th>sub_category</th>\n",
       "      <th>brand</th>\n",
       "      <th>sale_price</th>\n",
       "      <th>market_price</th>\n",
       "      <th>type</th>\n",
       "      <th>rating</th>\n",
       "      <th>new_price</th>\n",
       "    </tr>\n",
       "    <tr>\n",
       "      <th>id</th>\n",
       "      <th></th>\n",
       "      <th></th>\n",
       "      <th></th>\n",
       "      <th></th>\n",
       "      <th></th>\n",
       "      <th></th>\n",
       "      <th></th>\n",
       "      <th></th>\n",
       "      <th></th>\n",
       "    </tr>\n",
       "  </thead>\n",
       "  <tbody>\n",
       "    <tr>\n",
       "      <th>no1</th>\n",
       "      <td>Garlic Oil - Vegetarian Capsule 500 mg</td>\n",
       "      <td>Beauty &amp; Hygiene</td>\n",
       "      <td>Hair Care</td>\n",
       "      <td>Sri Sri Ayurveda</td>\n",
       "      <td>220.0</td>\n",
       "      <td>220.0</td>\n",
       "      <td>Hair Oil &amp; Serum</td>\n",
       "      <td>4.1</td>\n",
       "      <td>223.0</td>\n",
       "    </tr>\n",
       "    <tr>\n",
       "      <th>no2</th>\n",
       "      <td>Water Bottle - Orange</td>\n",
       "      <td>Kitchen, Garden &amp; Pets</td>\n",
       "      <td>Storage &amp; Accessories</td>\n",
       "      <td>Mastercook</td>\n",
       "      <td>180.0</td>\n",
       "      <td>180.0</td>\n",
       "      <td>Water &amp; Fridge Bottles</td>\n",
       "      <td>2.3</td>\n",
       "      <td>183.0</td>\n",
       "    </tr>\n",
       "    <tr>\n",
       "      <th>no3</th>\n",
       "      <td>Brass Angle Deep - Plain, No.2</td>\n",
       "      <td>Cleaning &amp; Household</td>\n",
       "      <td>Pooja Needs</td>\n",
       "      <td>Trm</td>\n",
       "      <td>119.0</td>\n",
       "      <td>250.0</td>\n",
       "      <td>Lamp &amp; Lamp Oil</td>\n",
       "      <td>3.4</td>\n",
       "      <td>122.0</td>\n",
       "    </tr>\n",
       "    <tr>\n",
       "      <th>no4</th>\n",
       "      <td>Cereal Flip Lid Container/Storage Jar - Assort...</td>\n",
       "      <td>Cleaning &amp; Household</td>\n",
       "      <td>Bins &amp; Bathroom Ware</td>\n",
       "      <td>Nakoda</td>\n",
       "      <td>149.0</td>\n",
       "      <td>176.0</td>\n",
       "      <td>Laundry, Storage Baskets</td>\n",
       "      <td>3.7</td>\n",
       "      <td>152.0</td>\n",
       "    </tr>\n",
       "    <tr>\n",
       "      <th>no5</th>\n",
       "      <td>Creme Soft Soap - For Hands &amp; Body</td>\n",
       "      <td>Beauty &amp; Hygiene</td>\n",
       "      <td>Bath &amp; Hand Wash</td>\n",
       "      <td>Nivea</td>\n",
       "      <td>162.0</td>\n",
       "      <td>162.0</td>\n",
       "      <td>Bathing Bars &amp; Soaps</td>\n",
       "      <td>4.4</td>\n",
       "      <td>165.0</td>\n",
       "    </tr>\n",
       "  </tbody>\n",
       "</table>\n",
       "</div>"
      ],
      "text/plain": [
       "                                               product  \\\n",
       "id                                                       \n",
       "no1             Garlic Oil - Vegetarian Capsule 500 mg   \n",
       "no2                              Water Bottle - Orange   \n",
       "no3                     Brass Angle Deep - Plain, No.2   \n",
       "no4  Cereal Flip Lid Container/Storage Jar - Assort...   \n",
       "no5                 Creme Soft Soap - For Hands & Body   \n",
       "\n",
       "                   category           sub_category              brand  \\\n",
       "id                                                                      \n",
       "no1        Beauty & Hygiene              Hair Care  Sri Sri Ayurveda    \n",
       "no2  Kitchen, Garden & Pets  Storage & Accessories         Mastercook   \n",
       "no3    Cleaning & Household            Pooja Needs                Trm   \n",
       "no4    Cleaning & Household   Bins & Bathroom Ware             Nakoda   \n",
       "no5        Beauty & Hygiene       Bath & Hand Wash              Nivea   \n",
       "\n",
       "     sale_price  market_price                      type  rating  new_price  \n",
       "id                                                                          \n",
       "no1       220.0         220.0          Hair Oil & Serum     4.1      223.0  \n",
       "no2       180.0         180.0    Water & Fridge Bottles     2.3      183.0  \n",
       "no3       119.0         250.0           Lamp & Lamp Oil     3.4      122.0  \n",
       "no4       149.0         176.0  Laundry, Storage Baskets     3.7      152.0  \n",
       "no5       162.0         162.0      Bathing Bars & Soaps     4.4      165.0  "
      ]
     },
     "execution_count": 101,
     "metadata": {},
     "output_type": "execute_result"
    }
   ],
   "source": [
    "def add_three(i):\n",
    "    return i+ 3\n",
    "df[\"new_price\"] = df['sale_price'].apply(add_three)\n",
    "df.head()"
   ]
  },
  {
   "cell_type": "code",
   "execution_count": 103,
   "id": "b07fd423",
   "metadata": {
    "ExecuteTime": {
     "end_time": "2022-07-14T07:20:54.485320Z",
     "start_time": "2022-07-14T07:20:54.477122Z"
    }
   },
   "outputs": [],
   "source": [
    "df[\"new_price\"] = df['price'] + 3"
   ]
  },
  {
   "cell_type": "code",
   "execution_count": 106,
   "id": "61ce3525",
   "metadata": {
    "ExecuteTime": {
     "end_time": "2022-07-14T07:21:37.311815Z",
     "start_time": "2022-07-14T07:21:37.306592Z"
    }
   },
   "outputs": [],
   "source": [
    "df['test']  = df['price'] * df['rating']"
   ]
  },
  {
   "cell_type": "code",
   "execution_count": 107,
   "id": "a4353dcc",
   "metadata": {
    "ExecuteTime": {
     "end_time": "2022-07-14T07:21:39.185604Z",
     "start_time": "2022-07-14T07:21:39.162953Z"
    }
   },
   "outputs": [
    {
     "data": {
      "text/html": [
       "<div>\n",
       "<style scoped>\n",
       "    .dataframe tbody tr th:only-of-type {\n",
       "        vertical-align: middle;\n",
       "    }\n",
       "\n",
       "    .dataframe tbody tr th {\n",
       "        vertical-align: top;\n",
       "    }\n",
       "\n",
       "    .dataframe thead th {\n",
       "        text-align: right;\n",
       "    }\n",
       "</style>\n",
       "<table border=\"1\" class=\"dataframe\">\n",
       "  <thead>\n",
       "    <tr style=\"text-align: right;\">\n",
       "      <th></th>\n",
       "      <th>product</th>\n",
       "      <th>category</th>\n",
       "      <th>sub_category</th>\n",
       "      <th>brand</th>\n",
       "      <th>price</th>\n",
       "      <th>market_price</th>\n",
       "      <th>type</th>\n",
       "      <th>rating</th>\n",
       "      <th>report</th>\n",
       "      <th>new_price</th>\n",
       "      <th>test</th>\n",
       "    </tr>\n",
       "    <tr>\n",
       "      <th>id</th>\n",
       "      <th></th>\n",
       "      <th></th>\n",
       "      <th></th>\n",
       "      <th></th>\n",
       "      <th></th>\n",
       "      <th></th>\n",
       "      <th></th>\n",
       "      <th></th>\n",
       "      <th></th>\n",
       "      <th></th>\n",
       "      <th></th>\n",
       "    </tr>\n",
       "  </thead>\n",
       "  <tbody>\n",
       "    <tr>\n",
       "      <th>no1</th>\n",
       "      <td>Garlic Oil - Vegetarian Capsule 500 mg</td>\n",
       "      <td>Beauty &amp; Hygiene</td>\n",
       "      <td>Hair Care</td>\n",
       "      <td>Sri Sri Ayurveda</td>\n",
       "      <td>220.00</td>\n",
       "      <td>220.0</td>\n",
       "      <td>Hair Oil &amp; Serum</td>\n",
       "      <td>4.1</td>\n",
       "      <td>This Product contains Garlic Oil that is known...</td>\n",
       "      <td>223.00</td>\n",
       "      <td>902.000</td>\n",
       "    </tr>\n",
       "    <tr>\n",
       "      <th>no2</th>\n",
       "      <td>Water Bottle - Orange</td>\n",
       "      <td>Kitchen, Garden &amp; Pets</td>\n",
       "      <td>Storage &amp; Accessories</td>\n",
       "      <td>Mastercook</td>\n",
       "      <td>180.00</td>\n",
       "      <td>180.0</td>\n",
       "      <td>Water &amp; Fridge Bottles</td>\n",
       "      <td>2.3</td>\n",
       "      <td>Each product is microwave safe (without lid), ...</td>\n",
       "      <td>183.00</td>\n",
       "      <td>414.000</td>\n",
       "    </tr>\n",
       "    <tr>\n",
       "      <th>no3</th>\n",
       "      <td>Brass Angle Deep - Plain, No.2</td>\n",
       "      <td>Cleaning &amp; Household</td>\n",
       "      <td>Pooja Needs</td>\n",
       "      <td>Trm</td>\n",
       "      <td>119.00</td>\n",
       "      <td>250.0</td>\n",
       "      <td>Lamp &amp; Lamp Oil</td>\n",
       "      <td>3.4</td>\n",
       "      <td>A perfect gift for all occasions, be it your m...</td>\n",
       "      <td>122.00</td>\n",
       "      <td>404.600</td>\n",
       "    </tr>\n",
       "    <tr>\n",
       "      <th>no4</th>\n",
       "      <td>Cereal Flip Lid Container/Storage Jar - Assort...</td>\n",
       "      <td>Cleaning &amp; Household</td>\n",
       "      <td>Bins &amp; Bathroom Ware</td>\n",
       "      <td>Nakoda</td>\n",
       "      <td>149.00</td>\n",
       "      <td>176.0</td>\n",
       "      <td>Laundry, Storage Baskets</td>\n",
       "      <td>3.7</td>\n",
       "      <td>Multipurpose container with an attractive desi...</td>\n",
       "      <td>152.00</td>\n",
       "      <td>551.300</td>\n",
       "    </tr>\n",
       "    <tr>\n",
       "      <th>no5</th>\n",
       "      <td>Creme Soft Soap - For Hands &amp; Body</td>\n",
       "      <td>Beauty &amp; Hygiene</td>\n",
       "      <td>Bath &amp; Hand Wash</td>\n",
       "      <td>Nivea</td>\n",
       "      <td>162.00</td>\n",
       "      <td>162.0</td>\n",
       "      <td>Bathing Bars &amp; Soaps</td>\n",
       "      <td>4.4</td>\n",
       "      <td>Nivea Creme Soft Soap gives your skin the best...</td>\n",
       "      <td>165.00</td>\n",
       "      <td>712.800</td>\n",
       "    </tr>\n",
       "    <tr>\n",
       "      <th>...</th>\n",
       "      <td>...</td>\n",
       "      <td>...</td>\n",
       "      <td>...</td>\n",
       "      <td>...</td>\n",
       "      <td>...</td>\n",
       "      <td>...</td>\n",
       "      <td>...</td>\n",
       "      <td>...</td>\n",
       "      <td>...</td>\n",
       "      <td>...</td>\n",
       "      <td>...</td>\n",
       "    </tr>\n",
       "    <tr>\n",
       "      <th>no27551</th>\n",
       "      <td>Wottagirl! Perfume Spray - Heaven, Classic</td>\n",
       "      <td>Beauty &amp; Hygiene</td>\n",
       "      <td>Fragrances &amp; Deos</td>\n",
       "      <td>Layerr</td>\n",
       "      <td>199.20</td>\n",
       "      <td>249.0</td>\n",
       "      <td>Perfume</td>\n",
       "      <td>3.9</td>\n",
       "      <td>Layerr brings you Wottagirl Classic fragrant b...</td>\n",
       "      <td>202.20</td>\n",
       "      <td>776.880</td>\n",
       "    </tr>\n",
       "    <tr>\n",
       "      <th>no27552</th>\n",
       "      <td>Rosemary</td>\n",
       "      <td>Gourmet &amp; World Food</td>\n",
       "      <td>Cooking &amp; Baking Needs</td>\n",
       "      <td>Puramate</td>\n",
       "      <td>67.50</td>\n",
       "      <td>75.0</td>\n",
       "      <td>Herbs, Seasonings &amp; Rubs</td>\n",
       "      <td>4.0</td>\n",
       "      <td>Puramate rosemary is enough to transform a dis...</td>\n",
       "      <td>70.50</td>\n",
       "      <td>270.000</td>\n",
       "    </tr>\n",
       "    <tr>\n",
       "      <th>no27553</th>\n",
       "      <td>Peri-Peri Sweet Potato Chips</td>\n",
       "      <td>Gourmet &amp; World Food</td>\n",
       "      <td>Snacks, Dry Fruits, Nuts</td>\n",
       "      <td>FabBox</td>\n",
       "      <td>200.00</td>\n",
       "      <td>200.0</td>\n",
       "      <td>Nachos &amp; Chips</td>\n",
       "      <td>3.8</td>\n",
       "      <td>We have taken the richness of Sweet Potatoes (...</td>\n",
       "      <td>203.00</td>\n",
       "      <td>760.000</td>\n",
       "    </tr>\n",
       "    <tr>\n",
       "      <th>no27554</th>\n",
       "      <td>Green Tea - Pure Original</td>\n",
       "      <td>Beverages</td>\n",
       "      <td>Tea</td>\n",
       "      <td>Tetley</td>\n",
       "      <td>396.00</td>\n",
       "      <td>495.0</td>\n",
       "      <td>Tea Bags</td>\n",
       "      <td>4.2</td>\n",
       "      <td>Tetley Green Tea with its refreshing pure, ori...</td>\n",
       "      <td>399.00</td>\n",
       "      <td>1663.200</td>\n",
       "    </tr>\n",
       "    <tr>\n",
       "      <th>no27555</th>\n",
       "      <td>United Dreams Go Far Deodorant</td>\n",
       "      <td>Beauty &amp; Hygiene</td>\n",
       "      <td>Men's Grooming</td>\n",
       "      <td>United Colors Of Benetton</td>\n",
       "      <td>214.53</td>\n",
       "      <td>390.0</td>\n",
       "      <td>Men's Deodorants</td>\n",
       "      <td>4.5</td>\n",
       "      <td>The new mens fragrance from the United Dreams ...</td>\n",
       "      <td>217.53</td>\n",
       "      <td>965.385</td>\n",
       "    </tr>\n",
       "  </tbody>\n",
       "</table>\n",
       "<p>27555 rows × 11 columns</p>\n",
       "</div>"
      ],
      "text/plain": [
       "                                                   product  \\\n",
       "id                                                           \n",
       "no1                 Garlic Oil - Vegetarian Capsule 500 mg   \n",
       "no2                                  Water Bottle - Orange   \n",
       "no3                         Brass Angle Deep - Plain, No.2   \n",
       "no4      Cereal Flip Lid Container/Storage Jar - Assort...   \n",
       "no5                     Creme Soft Soap - For Hands & Body   \n",
       "...                                                    ...   \n",
       "no27551         Wottagirl! Perfume Spray - Heaven, Classic   \n",
       "no27552                                           Rosemary   \n",
       "no27553                       Peri-Peri Sweet Potato Chips   \n",
       "no27554                          Green Tea - Pure Original   \n",
       "no27555                     United Dreams Go Far Deodorant   \n",
       "\n",
       "                       category              sub_category  \\\n",
       "id                                                          \n",
       "no1            Beauty & Hygiene                 Hair Care   \n",
       "no2      Kitchen, Garden & Pets     Storage & Accessories   \n",
       "no3        Cleaning & Household               Pooja Needs   \n",
       "no4        Cleaning & Household      Bins & Bathroom Ware   \n",
       "no5            Beauty & Hygiene          Bath & Hand Wash   \n",
       "...                         ...                       ...   \n",
       "no27551        Beauty & Hygiene         Fragrances & Deos   \n",
       "no27552    Gourmet & World Food    Cooking & Baking Needs   \n",
       "no27553    Gourmet & World Food  Snacks, Dry Fruits, Nuts   \n",
       "no27554               Beverages                       Tea   \n",
       "no27555        Beauty & Hygiene            Men's Grooming   \n",
       "\n",
       "                              brand   price  market_price  \\\n",
       "id                                                          \n",
       "no1               Sri Sri Ayurveda   220.00         220.0   \n",
       "no2                      Mastercook  180.00         180.0   \n",
       "no3                             Trm  119.00         250.0   \n",
       "no4                          Nakoda  149.00         176.0   \n",
       "no5                           Nivea  162.00         162.0   \n",
       "...                             ...     ...           ...   \n",
       "no27551                      Layerr  199.20         249.0   \n",
       "no27552                    Puramate   67.50          75.0   \n",
       "no27553                      FabBox  200.00         200.0   \n",
       "no27554                      Tetley  396.00         495.0   \n",
       "no27555  United Colors Of Benetton   214.53         390.0   \n",
       "\n",
       "                             type  rating  \\\n",
       "id                                          \n",
       "no1              Hair Oil & Serum     4.1   \n",
       "no2        Water & Fridge Bottles     2.3   \n",
       "no3               Lamp & Lamp Oil     3.4   \n",
       "no4      Laundry, Storage Baskets     3.7   \n",
       "no5          Bathing Bars & Soaps     4.4   \n",
       "...                           ...     ...   \n",
       "no27551                   Perfume     3.9   \n",
       "no27552  Herbs, Seasonings & Rubs     4.0   \n",
       "no27553            Nachos & Chips     3.8   \n",
       "no27554                  Tea Bags     4.2   \n",
       "no27555          Men's Deodorants     4.5   \n",
       "\n",
       "                                                    report  new_price  \\\n",
       "id                                                                      \n",
       "no1      This Product contains Garlic Oil that is known...     223.00   \n",
       "no2      Each product is microwave safe (without lid), ...     183.00   \n",
       "no3      A perfect gift for all occasions, be it your m...     122.00   \n",
       "no4      Multipurpose container with an attractive desi...     152.00   \n",
       "no5      Nivea Creme Soft Soap gives your skin the best...     165.00   \n",
       "...                                                    ...        ...   \n",
       "no27551  Layerr brings you Wottagirl Classic fragrant b...     202.20   \n",
       "no27552  Puramate rosemary is enough to transform a dis...      70.50   \n",
       "no27553  We have taken the richness of Sweet Potatoes (...     203.00   \n",
       "no27554  Tetley Green Tea with its refreshing pure, ori...     399.00   \n",
       "no27555  The new mens fragrance from the United Dreams ...     217.53   \n",
       "\n",
       "             test  \n",
       "id                 \n",
       "no1       902.000  \n",
       "no2       414.000  \n",
       "no3       404.600  \n",
       "no4       551.300  \n",
       "no5       712.800  \n",
       "...           ...  \n",
       "no27551   776.880  \n",
       "no27552   270.000  \n",
       "no27553   760.000  \n",
       "no27554  1663.200  \n",
       "no27555   965.385  \n",
       "\n",
       "[27555 rows x 11 columns]"
      ]
     },
     "execution_count": 107,
     "metadata": {},
     "output_type": "execute_result"
    }
   ],
   "source": [
    "df"
   ]
  },
  {
   "cell_type": "code",
   "execution_count": null,
   "id": "68908c98",
   "metadata": {},
   "outputs": [],
   "source": []
  }
 ],
 "metadata": {
  "kernelspec": {
   "display_name": "Python 3 (ipykernel)",
   "language": "python",
   "name": "python3"
  },
  "language_info": {
   "codemirror_mode": {
    "name": "ipython",
    "version": 3
   },
   "file_extension": ".py",
   "mimetype": "text/x-python",
   "name": "python",
   "nbconvert_exporter": "python",
   "pygments_lexer": "ipython3",
   "version": "3.8.13"
  }
 },
 "nbformat": 4,
 "nbformat_minor": 5
}
