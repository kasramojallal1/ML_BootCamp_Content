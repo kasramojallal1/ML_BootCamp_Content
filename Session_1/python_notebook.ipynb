{
 "cells": [
  {
   "cell_type": "markdown",
   "id": "96e895b4",
   "metadata": {},
   "source": [
    "# Introduction"
   ]
  },
  {
   "cell_type": "markdown",
   "id": "0f6c106f",
   "metadata": {},
   "source": [
    "**📑 Table of Content :\n",
    "Python Basic-Day-01**\n",
    "* [Introduction of python](#intro)\n",
    "* [Mindblowing applications of AI](#app)  \n",
    "* Implementation of python(Part-01)\n",
    "  * [print and input function](#print)  \n",
    "  * [Variables and Maths Operations](#variables) \n",
    "  * [List](#list)  \n",
    "  * [Sets](#set)  \n",
    "  * [Casting](#cast)  \n",
    "  * [Dictionaries](#dict)  \n",
    "  * [Tuples](#tuple)  \n",
    "  * [String](#string)  \n",
    "  \n",
    "  \n",
    "* Implementation of python(Part-02)  \n",
    "    * [Conditional execution](#conditional)\n",
    "    * [For-loops](#loop)\n",
    "    * [List Comprehensions](#list_comprehension)\n",
    "    * [Functions](#func)  \n",
    "    * [Lambda expressions](#lambda)    \n",
    "    * [Errors and Exceptions Handling](#error)  "
   ]
  },
  {
   "cell_type": "markdown",
   "id": "7efea402",
   "metadata": {},
   "source": [
    "![introduction](./images/introduction.png)"
   ]
  },
  {
   "cell_type": "markdown",
   "id": "29963c96",
   "metadata": {},
   "source": [
    " ## <a id=\"intro\">What is the 'Zen of Python' and why should I care?</a>"
   ]
  },
  {
   "cell_type": "code",
   "execution_count": 11,
   "id": "9b265112",
   "metadata": {},
   "outputs": [
    {
     "name": "stdout",
     "output_type": "stream",
     "text": [
      "The Zen of Python, by Tim Peters\n",
      "\n",
      "Beautiful is better than ugly.\n",
      "Explicit is better than implicit.\n",
      "Simple is better than complex.\n",
      "Complex is better than complicated.\n",
      "Flat is better than nested.\n",
      "Sparse is better than dense.\n",
      "Readability counts.\n",
      "Special cases aren't special enough to break the rules.\n",
      "Although practicality beats purity.\n",
      "Errors should never pass silently.\n",
      "Unless explicitly silenced.\n",
      "In the face of ambiguity, refuse the temptation to guess.\n",
      "There should be one-- and preferably only one --obvious way to do it.\n",
      "Although that way may not be obvious at first unless you're Dutch.\n",
      "Now is better than never.\n",
      "Although never is often better than *right* now.\n",
      "If the implementation is hard to explain, it's a bad idea.\n",
      "If the implementation is easy to explain, it may be a good idea.\n",
      "Namespaces are one honking great idea -- let's do more of those!\n"
     ]
    }
   ],
   "source": [
    "import this"
   ]
  },
  {
   "cell_type": "markdown",
   "id": "d4e071e5",
   "metadata": {},
   "source": [
    "The Zen of Python is a poem by Tim Peters, each line of which expresses something fundamental about the nature/design of Python."
   ]
  },
  {
   "cell_type": "markdown",
   "id": "5563e456",
   "metadata": {},
   "source": [
    "# <a id =\"app\">Mindblowing applications of AI</a>\n",
    "* **GAN** : Generator of fake faces of non-existent humans  \n",
    "https://this-person-does-not-exist.com/en  \n",
    "\n",
    "\n",
    "* **GPT-3**: Generative Pre-trained Transformer 3 is an autoregressive language model that uses deep learning to produce human-like text.  \n",
    "https://www.youtube.com/watch?v=jz78fSnBG0s  \n",
    "\n",
    "\n",
    "* **AIVA**: he Artificial Intelligence composing emotional soundtrack music  \n",
    "https://www.youtube.com/watch?v=Emidxpkyk6o   \n",
    "TRY IT YOURSELF: https://creators.aiva.ai/\n",
    "\n",
    "\n",
    "* **DALL·E 2**: is a new AI system that can create realistic images and art from a description in natural language.  \n",
    "https://www.youtube.com/watch?v=qTgPSKKjfVg \n",
    "\n",
    "\n",
    "* **OpenAI Codex**: OpenAI Codex is an artificial intelligence model developed by OpenAI. It parses natural language and generates code in response. It is used to power GitHub Copilot, a programming autocompletion tool developed for Visual Studio Code.  \n",
    "https://www.youtube.com/watch?v=cLQc-5BJz4g\n",
    "\n",
    "\n",
    "* **Google’s Imagen AI** :Imagen is an AI system that creates photorealistic images from input text\n",
    "![Imagen](./images/Imagen.png)  \n",
    "  \n",
    "    \n",
    "    \n",
    "TRY IT YOURSELF : \n",
    "https://colab.research.google.com/drive/1n_xrgKDlGQcCF6O-eL3NOd_x4NSqAUjK#scrollTo=TnMw4FrN6JeB\n",
    "\n",
    "* **OpenAI Five** Beats World Champion DOTA2 Team 2-0: OpenAI Five is a computer program by OpenAI that plays the five-on-five video game Dota 2.  \n",
    "\n",
    "* **Quick, Draw!** :The game challenges you to draw an object within a time limit while it attempts to guess what your doodle is.  \n",
    "TRY IT YOUSELf: https://quickdraw.withgoogle.com/  \n",
    "* **Talk to Books**: This AI experiment was developed and trained using almost a billion lines of dialogues so it can adequately respond to any question that’s input to it. It scans over 100,000 books in response to any question, and attempts to find an answer from them.  \n",
    "TRY IT YOURSELF: https://books.google.com/talktobooks/"
   ]
  },
  {
   "cell_type": "markdown",
   "id": "e73c0301",
   "metadata": {},
   "source": [
    "# Getting your hands dirty with python"
   ]
  },
  {
   "cell_type": "markdown",
   "id": "b7985350",
   "metadata": {},
   "source": [
    "## <a id=\"print\">Print</a>\n",
    "The `print()` function allows you to send output to the terminal  \n",
    ">**❗ NOTE:**\n",
    "Please take care to note that \"print\" is all lower-case (Python is case-sensitive). And don't forget the curly brackets! \"()\""
   ]
  },
  {
   "cell_type": "code",
   "execution_count": 14,
   "id": "d86ed6c4",
   "metadata": {},
   "outputs": [
    {
     "name": "stdout",
     "output_type": "stream",
     "text": [
      "hello world!\n"
     ]
    }
   ],
   "source": [
    "print(\"hello world!\")"
   ]
  },
  {
   "cell_type": "code",
   "execution_count": 15,
   "id": "cab87ddf",
   "metadata": {},
   "outputs": [
    {
     "name": "stdout",
     "output_type": "stream",
     "text": [
      "5\n"
     ]
    }
   ],
   "source": [
    "print(2 + 3)"
   ]
  },
  {
   "cell_type": "markdown",
   "id": "5bf9762f",
   "metadata": {},
   "source": [
    "Strings can be enclosed in single quotes or double quotes\n",
    "\n",
    "* \"this is a string\"\n",
    "* 'this is also a string'"
   ]
  },
  {
   "cell_type": "markdown",
   "id": "017b597b",
   "metadata": {},
   "source": [
    "## input\n",
    "`input()` function: read user (you)'s input"
   ]
  },
  {
   "cell_type": "code",
   "execution_count": 53,
   "id": "5951f487",
   "metadata": {},
   "outputs": [
    {
     "name": "stdout",
     "output_type": "stream",
     "text": [
      "Sevda\n",
      "my name is Sevda\n"
     ]
    }
   ],
   "source": [
    "my_name = input()\n",
    "print(\"my name is\", my_name)"
   ]
  },
  {
   "cell_type": "markdown",
   "id": "84e4ac6c",
   "metadata": {},
   "source": [
    "## Math Operators\n",
    "From **Highest** to **Lowest** precedence:\n",
    "\n",
    "| Operators | Operation        | Example         |\n",
    "| --------- | ---------------- | --------------- |\n",
    "| **        | Exponent         | `2 ** 3 = 8`    |\n",
    "| %         | Modulus/Remaider | `10 % 3 = 1`    |\n",
    "| //        | Integer division | `10 // 3 = 3`   |\n",
    "| /         | Division         | `22 / 8 = 2.75` |\n",
    "| *         | Multiplication   | `3 * 3 = 9`     |\n",
    "| -         | Subtraction      | `5 - 2 = 3`     |\n",
    "| +         | Addition         | `2 + 2 = 4`     |\n",
    "\n",
    "![math](./images/math.png)"
   ]
  },
  {
   "cell_type": "code",
   "execution_count": 43,
   "id": "f426db9b",
   "metadata": {},
   "outputs": [
    {
     "name": "stdout",
     "output_type": "stream",
     "text": [
      "30\n"
     ]
    }
   ],
   "source": [
    "print((2 + 3) * 6)"
   ]
  },
  {
   "cell_type": "markdown",
   "id": "19ae283a",
   "metadata": {},
   "source": [
    "## <a id=\"variables\">Variables</a>\n",
    "We can give a name to a value using variable.\n"
   ]
  },
  {
   "cell_type": "code",
   "execution_count": 5,
   "id": "141740aa",
   "metadata": {},
   "outputs": [
    {
     "name": "stdout",
     "output_type": "stream",
     "text": [
      "Kasra is now:\n",
      "20\n",
      "Kasra two years later:\n",
      "22\n"
     ]
    }
   ],
   "source": [
    "age = 20\n",
    "print(\"Kasra is now:\")\n",
    "print(age)\n",
    "print(\"Kasra two years later:\")\n",
    "newage = age + 2\n",
    "print(newage)"
   ]
  },
  {
   "cell_type": "markdown",
   "id": "38db3f66",
   "metadata": {},
   "source": [
    "## Strings  \n",
    "Python can store and manipulate strings. Strings can be enclosed in single or double quotes."
   ]
  },
  {
   "cell_type": "code",
   "execution_count": 19,
   "id": "af4f065f",
   "metadata": {},
   "outputs": [
    {
     "name": "stdout",
     "output_type": "stream",
     "text": [
      "sevda\n"
     ]
    }
   ],
   "source": [
    "firstname = 'sevda'\n",
    "print(firstname)"
   ]
  },
  {
   "cell_type": "markdown",
   "id": "5c15e963",
   "metadata": {},
   "source": [
    "> **❓ QUESTION:** What happens if we use quotation marks, around the \"firstname\"?"
   ]
  },
  {
   "cell_type": "code",
   "execution_count": 29,
   "id": "f394bb0c",
   "metadata": {},
   "outputs": [
    {
     "name": "stdout",
     "output_type": "stream",
     "text": [
      "firstname\n"
     ]
    }
   ],
   "source": [
    "print(\"firstname\")"
   ]
  },
  {
   "cell_type": "markdown",
   "id": "6e6ae2be",
   "metadata": {},
   "source": [
    "## Booleans\n",
    "Boolean values represent truth or falsehood.\n",
    "\n",
    "<br>\n",
    "<div class=\"alert alert-block alert-info\">\n",
    "    <b>Syntax</b>\n",
    "    <br>\n",
    "    <ul>\n",
    "        <li>To assign a variable with a specific value, use `=`</li>\n",
    "        <li>To test whether a variable has a specific value, use the boolean operators:</li>\n",
    "        <ul>\n",
    "            <li>equal: `==`</li>\n",
    "            <li>not equal: `!=`</li>\n",
    "            <li>greater-than: `>`</li>\n",
    "            <li>less-than: `<`</li>\n",
    "        </ul>\n",
    "        <li>You can also add helpful comments to your code with the `#` symbol. Any line starting with a `#` is not executed. I find it very useful to make detailed notes about my thinking since, often, when you come back to code later you can't remember why you did what you did, or what your code is even supposed to do.</li>\n",
    "    </ul>\n",
    "</div>\n"
   ]
  },
  {
   "cell_type": "code",
   "execution_count": 8,
   "id": "1b8148bd",
   "metadata": {},
   "outputs": [
    {
     "name": "stdout",
     "output_type": "stream",
     "text": [
      "enter first number:3\n",
      "enter second number:1\n",
      "False\n"
     ]
    }
   ],
   "source": [
    "a = input(\"enter first number:\")\n",
    "b = input(\"enter second number:\")\n",
    "\n",
    "x = a < b\n",
    "print(x)"
   ]
  },
  {
   "cell_type": "markdown",
   "id": "c402cdf3",
   "metadata": {},
   "source": [
    "## Integers\n",
    "Integers represent whole numbers."
   ]
  },
  {
   "cell_type": "code",
   "execution_count": 24,
   "id": "f55b96b6",
   "metadata": {},
   "outputs": [
    {
     "name": "stdout",
     "output_type": "stream",
     "text": [
      "-7 123\n",
      "<class 'int'>\n"
     ]
    }
   ],
   "source": [
    "i = -7\n",
    "j = 123\n",
    "print(i, j)\n",
    "print(type(i))"
   ]
  },
  {
   "cell_type": "markdown",
   "id": "f57bfbef",
   "metadata": {},
   "source": [
    "## Floating point numbers\n",
    "Floating point numbers, often simply referred to as floats, are numbers expressed in the decimal system, i.e. 2.1, 999.998, -0.000004 etc. The value 2.0 would also be interpreted as a floating point number, but the value 2, without the decimal point will not; it will be interpreted as an integer."
   ]
  },
  {
   "cell_type": "code",
   "execution_count": 26,
   "id": "cb2f8d0d",
   "metadata": {},
   "outputs": [
    {
     "name": "stdout",
     "output_type": "stream",
     "text": [
      "-132.889257\n"
     ]
    }
   ],
   "source": [
    "x = 3.14159\n",
    "y = -42.3\n",
    "print(x * y)"
   ]
  },
  {
   "cell_type": "markdown",
   "id": "9aa67da1",
   "metadata": {},
   "source": [
    "## The None object\n",
    "The None object is special built-in value which can be thought of as **representing nothingness or that something is undefined.**"
   ]
  },
  {
   "cell_type": "code",
   "execution_count": 27,
   "id": "494aa4d6",
   "metadata": {},
   "outputs": [
    {
     "name": "stdout",
     "output_type": "stream",
     "text": [
      "None is of <class 'NoneType'>\n"
     ]
    }
   ],
   "source": [
    "z = None\n",
    "print(z, \"is of\", type(z))"
   ]
  },
  {
   "cell_type": "markdown",
   "id": "b90ed3fc",
   "metadata": {},
   "source": [
    "# data structures in python\n",
    "The general idea is that you can place several items into a single collection and then refer to that collection as a whole. Which one you will use will depend on what problem you are trying to solve.  \n",
    "\n",
    "![collections](./images/collections_3.png)"
   ]
  },
  {
   "cell_type": "markdown",
   "id": "d3990284",
   "metadata": {},
   "source": [
    "## <a id=\"list\">Lists</a>\n",
    "* Can contain any number of items\n",
    "* Can contain different types of items\n",
    "* Can be altered once created (they are mutable)\n",
    "Items have a particular order"
   ]
  },
  {
   "cell_type": "code",
   "execution_count": 36,
   "id": "ec363f1f",
   "metadata": {},
   "outputs": [
    {
     "name": "stdout",
     "output_type": "stream",
     "text": [
      "[1, 3, 9, 'Py', 217.213]\n",
      "[True]\n",
      "[]\n"
     ]
    }
   ],
   "source": [
    "a = [1, 3, 9, 'Py', 217.213]\n",
    "b = [True] \n",
    "c = []                 \n",
    "\n",
    "print(a,b,c, sep=\"\\n\")"
   ]
  },
  {
   "cell_type": "markdown",
   "id": "7bc3c4bd",
   "metadata": {},
   "source": [
    "### Indexing\n",
    "You can access individual elements of the collection using their index, note that the first element is at index 0. Negative indices count backwards from the end.\n",
    "![hermes](./images/Hermes.png)"
   ]
  },
  {
   "cell_type": "code",
   "execution_count": 10,
   "id": "5ad5fb3e",
   "metadata": {},
   "outputs": [
    {
     "name": "stdout",
     "output_type": "stream",
     "text": [
      "20\n",
      "78\n"
     ]
    }
   ],
   "source": [
    "my_list = [20, 30, 45, 78]\n",
    "print(my_list[0])\n",
    "print(my_list[-1])"
   ]
  },
  {
   "cell_type": "markdown",
   "id": "758e2dc5",
   "metadata": {},
   "source": [
    "### len() function\n",
    "You can get the length of a list with the in-built `len()` function."
   ]
  },
  {
   "cell_type": "code",
   "execution_count": 57,
   "id": "6f347914",
   "metadata": {},
   "outputs": [
    {
     "name": "stdout",
     "output_type": "stream",
     "text": [
      "length of my_list is 8\n"
     ]
    }
   ],
   "source": [
    "my_list = [1, 1,1, 2, 3, 4, 5 , 6]\n",
    "print(\"length of my_list is\", len(my_list))"
   ]
  },
  {
   "cell_type": "markdown",
   "id": "2fd51d85",
   "metadata": {},
   "source": [
    "### count() function\n",
    "you can count the number of particular elements contained in a list with the `count()` function."
   ]
  },
  {
   "cell_type": "code",
   "execution_count": 58,
   "id": "417fb992",
   "metadata": {},
   "outputs": [
    {
     "name": "stdout",
     "output_type": "stream",
     "text": [
      "number of cats in my_list is 3\n"
     ]
    }
   ],
   "source": [
    "my_list = [\"cat\", \"cat\",\"cat\", \"dog\", \"bird\"]\n",
    "print(\"number of cats in my_list is\", my_list.count(\"cat\"))"
   ]
  },
  {
   "cell_type": "markdown",
   "id": "2de36dc3",
   "metadata": {},
   "source": [
    "### Slices\n",
    "You can also access a range of items, known as slices, from inside lists and tuples using a colon : to indicate the beginning and end of the slice inside the square brackets.  \n",
    ">**❗ Note that the slice notation [a:b] includes positions from a up to but not including b.**\n",
    "\n",
    "![slicing](./images/slicing2.png) ![slicing](./images/slicing.png)"
   ]
  },
  {
   "cell_type": "code",
   "execution_count": 38,
   "id": "da8a522f",
   "metadata": {},
   "outputs": [
    {
     "name": "stdout",
     "output_type": "stream",
     "text": [
      "my_list[2:] is [45, 78]\n"
     ]
    }
   ],
   "source": [
    "my_list = [20, 30, 45, 78]\n",
    "print(\"my_list[2:] is\", my_list[2:])"
   ]
  },
  {
   "cell_type": "markdown",
   "id": "f421bc6a",
   "metadata": {},
   "source": [
    "You can also slice a parent list with a fixed length or step length."
   ]
  },
  {
   "cell_type": "code",
   "execution_count": 15,
   "id": "6710cb1c",
   "metadata": {},
   "outputs": [
    {
     "name": "stdout",
     "output_type": "stream",
     "text": [
      "[0, 3, 6]\n"
     ]
    }
   ],
   "source": [
    "num = [3,6,4,9,4,3,6,6,8,9] \n",
    "print(num[:8:3])"
   ]
  },
  {
   "cell_type": "markdown",
   "id": "bd7a0038",
   "metadata": {},
   "source": [
    "we can use slicing to copy a list "
   ]
  },
  {
   "cell_type": "code",
   "execution_count": 94,
   "id": "bbc4f24f",
   "metadata": {},
   "outputs": [
    {
     "name": "stdout",
     "output_type": "stream",
     "text": [
      "[1, 2, 3]\n"
     ]
    }
   ],
   "source": [
    "list1 = [1,2,3]\n",
    "copy = list1[:]\n",
    "print(copy)"
   ]
  },
  {
   "cell_type": "markdown",
   "id": "6016223a",
   "metadata": {},
   "source": [
    ">**⛔ NOTE:** **DO NOT** try below code for copying a list:"
   ]
  },
  {
   "cell_type": "code",
   "execution_count": 92,
   "id": "0e038b25",
   "metadata": {},
   "outputs": [
    {
     "name": "stdout",
     "output_type": "stream",
     "text": [
      "[1, 2, 6]\n"
     ]
    }
   ],
   "source": [
    "list1 = [1,2,3]\n",
    "copy1 = list1  \n",
    "copy1[2] = 6\n",
    "print(list1)"
   ]
  },
  {
   "cell_type": "markdown",
   "id": "554a222d",
   "metadata": {},
   "source": [
    ">use slicing instead"
   ]
  },
  {
   "cell_type": "code",
   "execution_count": 93,
   "id": "ebc1bee2",
   "metadata": {},
   "outputs": [
    {
     "name": "stdout",
     "output_type": "stream",
     "text": [
      "[1, 2, 3]\n"
     ]
    }
   ],
   "source": [
    "list1 = [1,2,3]\n",
    "copy2 = list1[:]\n",
    "copy2[1] = 5\n",
    "print(list1)"
   ]
  },
  {
   "cell_type": "markdown",
   "id": "13842a23",
   "metadata": {},
   "source": [
    "### Reversing lists\n",
    "This can be done either by step in slicing or buit in List funciton:"
   ]
  },
  {
   "cell_type": "code",
   "execution_count": 97,
   "id": "1bc41507",
   "metadata": {},
   "outputs": [
    {
     "name": "stdout",
     "output_type": "stream",
     "text": [
      "[9, 8, 7, 6, 5, 4, 3, 2, 1, 0]\n"
     ]
    }
   ],
   "source": [
    "num = [0,1,2,3,4,5,6,7,8,9] \n",
    "num.reverse()\n",
    "print(num)"
   ]
  },
  {
   "cell_type": "code",
   "execution_count": 98,
   "id": "ba8210a5",
   "metadata": {},
   "outputs": [
    {
     "name": "stdout",
     "output_type": "stream",
     "text": [
      "[9, 8, 7, 6, 5, 4, 3, 2, 1, 0]\n"
     ]
    }
   ],
   "source": [
    "num = [0,1,2,3,4,5,6,7,8,9] \n",
    "reversed_list = num[::-1]\n",
    "print(reversed_list)"
   ]
  },
  {
   "cell_type": "markdown",
   "id": "b33bf453",
   "metadata": {},
   "source": [
    "### in operator\n",
    "You can check if a value is in a list with the in operator, and you can negate this with not"
   ]
  },
  {
   "cell_type": "code",
   "execution_count": 39,
   "id": "74652712",
   "metadata": {},
   "outputs": [
    {
     "name": "stdout",
     "output_type": "stream",
     "text": [
      "123 in [20, 30, 45, 78] False\n",
      "30 in [20, 30, 45, 78] True\n"
     ]
    }
   ],
   "source": [
    "my_list = [20, 30, 45, 78]\n",
    "print('123 in', my_list, 123 in my_list)\n",
    "print('30 in', my_list, 30 in my_list)\n"
   ]
  },
  {
   "cell_type": "markdown",
   "id": "52a5544c",
   "metadata": {},
   "source": [
    "### List modification\n",
    "You can alter lists in place."
   ]
  },
  {
   "cell_type": "code",
   "execution_count": 46,
   "id": "2b7b02c5",
   "metadata": {},
   "outputs": [
    {
     "name": "stdout",
     "output_type": "stream",
     "text": [
      "['Hermes', 28, 5.4, True]\n",
      "['hello', 28, 5.4, True]\n"
     ]
    }
   ],
   "source": [
    "mix_list = ['Hermes', 28, 5.4, True]\n",
    "print(mix_list)\n",
    "mix_list[0] = 'hello'\n",
    "print(mix_list)"
   ]
  },
  {
   "cell_type": "markdown",
   "id": "0d86b68b",
   "metadata": {},
   "source": [
    "### Adding item in list\n",
    "You can add elements to the end of a list with `append()`"
   ]
  },
  {
   "cell_type": "code",
   "execution_count": 47,
   "id": "a0823451",
   "metadata": {},
   "outputs": [
    {
     "name": "stdout",
     "output_type": "stream",
     "text": [
      "[123, 54, 92, 87, 33, 101]\n"
     ]
    }
   ],
   "source": [
    "x = [123, 54, 92, 87, 33]\n",
    "x.append(101)\n",
    "print(x)"
   ]
  },
  {
   "cell_type": "markdown",
   "id": "0f74eec7",
   "metadata": {},
   "source": [
    "or insert values at a certain position with `insert()`"
   ]
  },
  {
   "cell_type": "code",
   "execution_count": 48,
   "id": "c03459bc",
   "metadata": {},
   "outputs": [
    {
     "name": "stdout",
     "output_type": "stream",
     "text": [
      "[123, 54, 92, 1111, 87, 33]\n"
     ]
    }
   ],
   "source": [
    "x = [123, 54, 92, 87, 33]\n",
    "x.insert(3, 1111)\n",
    "print(x)"
   ]
  },
  {
   "cell_type": "markdown",
   "id": "2fc9f7ff",
   "metadata": {},
   "source": [
    "### append and extend"
   ]
  },
  {
   "cell_type": "code",
   "execution_count": 54,
   "id": "0a458385",
   "metadata": {},
   "outputs": [
    {
     "data": {
      "text/plain": [
       "[20, 30, 45, 78, ['extend1', 'extend2']]"
      ]
     },
     "execution_count": 54,
     "metadata": {},
     "output_type": "execute_result"
    }
   ],
   "source": [
    "my_list = [20, 30, 45, 78]\n",
    "test_list = [\"extend1\", \"extend2\"]\n",
    "my_list.append(test_list)\n",
    "my_list"
   ]
  },
  {
   "cell_type": "code",
   "execution_count": 55,
   "id": "457c26da",
   "metadata": {},
   "outputs": [
    {
     "data": {
      "text/plain": [
       "[20, 30, 45, 78, 'extend1', 'extend2']"
      ]
     },
     "execution_count": 55,
     "metadata": {},
     "output_type": "execute_result"
    }
   ],
   "source": [
    "my_list = [20, 30, 45, 78]\n",
    "test_list = [\"extend1\", \"extend2\"]\n",
    "my_list.extend(test_list)\n",
    "my_list"
   ]
  },
  {
   "cell_type": "markdown",
   "id": "93f8a108",
   "metadata": {},
   "source": [
    "The plus symbol + is shorthand for the extend operation when applied to lists."
   ]
  },
  {
   "cell_type": "code",
   "execution_count": 56,
   "id": "596fbab6",
   "metadata": {},
   "outputs": [
    {
     "name": "stdout",
     "output_type": "stream",
     "text": [
      "[20, 30, 45, 78, 'extend1', 'extend2']\n"
     ]
    }
   ],
   "source": [
    "my_list = [20, 30, 45, 78]\n",
    "test_list = [\"extend1\", \"extend2\"]\n",
    "a = my_list + test_list\n",
    "print(a)"
   ]
  },
  {
   "cell_type": "markdown",
   "id": "333bc2dc",
   "metadata": {},
   "source": [
    "### Removing Values from Lists"
   ]
  },
  {
   "cell_type": "code",
   "execution_count": 58,
   "id": "635de70f",
   "metadata": {},
   "outputs": [
    {
     "name": "stdout",
     "output_type": "stream",
     "text": [
      "[54, 92, 87, 33]\n"
     ]
    }
   ],
   "source": [
    "x = [123, 54, 92, 87, 33]\n",
    "x.remove(123)\n",
    "print(x)"
   ]
  },
  {
   "cell_type": "markdown",
   "id": "c8da3c0a",
   "metadata": {},
   "source": [
    ">**❗ NOTE:** A thing to keep in mind when using the remove() method is that it will search for and will remove only the first instance of an item."
   ]
  },
  {
   "cell_type": "code",
   "execution_count": 54,
   "id": "d33db87e",
   "metadata": {},
   "outputs": [
    {
     "name": "stdout",
     "output_type": "stream",
     "text": [
      "['JavaScript', 'Java', 'Python', 'C++', 'Python']\n"
     ]
    }
   ],
   "source": [
    "programming_languages = [\"JavaScript\", \"Python\", \"Java\", \"Python\", \"C++\", \"Python\"]\n",
    "\n",
    "programming_languages.remove(\"Python\")\n",
    "\n",
    "print(programming_languages)"
   ]
  },
  {
   "cell_type": "markdown",
   "id": "efcfdaee",
   "metadata": {},
   "source": [
    "The `pop()` method does two things, first it removes the item from the list, and second it returns that item. By default, pop will remove the last item in this list, but if you give it an index, it can 'pop' something from any position. "
   ]
  },
  {
   "cell_type": "code",
   "execution_count": 48,
   "id": "ee6c4813",
   "metadata": {},
   "outputs": [
    {
     "name": "stdout",
     "output_type": "stream",
     "text": [
      "item is 'last'\n",
      "lst is ['first', 'middle']\n"
     ]
    }
   ],
   "source": [
    "lst = [\"first\", \"middle\", \"last\"]\n",
    "item = lst.pop() # item now is assigned to \"last\". Last is removed from list.\n",
    "print(\"item is '{}'\".format(item), \"lst is {}\".format(lst), sep=\"\\n\")  "
   ]
  },
  {
   "cell_type": "code",
   "execution_count": 49,
   "id": "c89cc188",
   "metadata": {},
   "outputs": [
    {
     "name": "stdout",
     "output_type": "stream",
     "text": [
      "\n",
      "item_2 is 'first'\n",
      "lst is ['middle', 'last']\n"
     ]
    }
   ],
   "source": [
    "lst = [\"first\", \"middle\", \"last\"]\n",
    "item_2 = lst.pop(0) # index 0 is the first item\n",
    "print(\"\\nitem_2 is '{}'\".format(item_2), \"lst is {}\".format(lst), sep=\"\\n\")"
   ]
  },
  {
   "cell_type": "markdown",
   "id": "c86a09e4",
   "metadata": {},
   "source": [
    "## <a id=\"set\">Sets</a>\n",
    "* Sets contain unique elements, i.e. no repeats are allowed\n",
    "* The elements in a set do not have an order\n",
    "* Sets cannot contain elements which can be internally modified (e.g. lists and dictionaries)\n",
    "* Use sets to extract unique data from lists."
   ]
  },
  {
   "cell_type": "code",
   "execution_count": 17,
   "id": "782a777a",
   "metadata": {},
   "outputs": [
    {
     "name": "stdout",
     "output_type": "stream",
     "text": [
      "{1, 2, 3, 'dog', 'cat'}\n"
     ]
    }
   ],
   "source": [
    "s = set([1, 2, 3, 2, 3, 3, \"dog\", \"cat\", \"cat\"]) # set of 3 unique values\n",
    "print(s)"
   ]
  },
  {
   "cell_type": "markdown",
   "id": "580a93ca",
   "metadata": {},
   "source": [
    ">**❗ NOTE:** Sets are very similar to lists and you can use many of the same operators and functions, except they are inherently unordered, so they don't have an index, and can only contain unique values, so adding a value already in the set will have no effect"
   ]
  },
  {
   "cell_type": "code",
   "execution_count": 61,
   "id": "e44afa43",
   "metadata": {},
   "outputs": [
    {
     "name": "stdout",
     "output_type": "stream",
     "text": [
      "{1, 2, 3}\n",
      "number in set: 3\n",
      "{1, 2, 3, 4}\n",
      "{1, 2, 3, 4}\n"
     ]
    }
   ],
   "source": [
    "s = set([1, 2, 3, 2, 3])\n",
    "print(s)\n",
    "print(\"number in set:\", len(s))\n",
    "s.add(4)\n",
    "print(s)\n",
    "s.add(3)\n",
    "print(s)"
   ]
  },
  {
   "cell_type": "markdown",
   "id": "b942ac3d",
   "metadata": {},
   "source": [
    "You can remove specific elements from the set."
   ]
  },
  {
   "cell_type": "code",
   "execution_count": 62,
   "id": "62d77bf8",
   "metadata": {},
   "outputs": [
    {
     "name": "stdout",
     "output_type": "stream",
     "text": [
      "{1, 2, 3}\n",
      "{1, 2}\n"
     ]
    }
   ],
   "source": [
    "s = set([1, 2, 3, 2, 3])\n",
    "print(s)\n",
    "s.remove(3)\n",
    "print(s)"
   ]
  },
  {
   "cell_type": "markdown",
   "id": "3f790e0c",
   "metadata": {},
   "source": [
    "**intersection or &** will return a set containing only the elements that are common to all of them."
   ]
  },
  {
   "cell_type": "code",
   "execution_count": 63,
   "id": "70680c39",
   "metadata": {},
   "outputs": [
    {
     "name": "stdout",
     "output_type": "stream",
     "text": [
      "{3, 4}\n"
     ]
    }
   ],
   "source": [
    "set1 = set([1, 2, 3, 4])\n",
    "set2 = set([3, 4, 5, 6])\n",
    "print(set1.intersection(set2))"
   ]
  },
  {
   "cell_type": "markdown",
   "id": "7fe67d7b",
   "metadata": {},
   "source": [
    "**union() or |** will create a new set that contains all the elements from the sets provided."
   ]
  },
  {
   "cell_type": "code",
   "execution_count": 88,
   "id": "599dd175",
   "metadata": {},
   "outputs": [
    {
     "name": "stdout",
     "output_type": "stream",
     "text": [
      "{1, 2, 3, 4, 5, 6}\n"
     ]
    }
   ],
   "source": [
    "set1 = set([1, 2, 3, 4])\n",
    "set2 = set([3, 4, 5, 6])\n",
    "print(set1.union(set2))"
   ]
  },
  {
   "cell_type": "markdown",
   "id": "a027ba0e",
   "metadata": {},
   "source": [
    "**difference or -** will return only the elements that are in one of the sets."
   ]
  },
  {
   "cell_type": "code",
   "execution_count": 89,
   "id": "33e44f56",
   "metadata": {},
   "outputs": [
    {
     "name": "stdout",
     "output_type": "stream",
     "text": [
      "{1, 2}\n"
     ]
    }
   ],
   "source": [
    "set1 = set([1, 2, 3, 4])\n",
    "set2 = set([3, 4, 5, 6])\n",
    "print(set1.difference(set2))"
   ]
  },
  {
   "cell_type": "markdown",
   "id": "d23f9ab0",
   "metadata": {},
   "source": [
    "**Symmetric Difference** of A and B is a set of elements in both A and B except those that are common in both.Symmetric difference is performed using ^ operator. Same can be accomplished using the method symmetric_difference()"
   ]
  },
  {
   "cell_type": "code",
   "execution_count": 125,
   "id": "91b893d9",
   "metadata": {},
   "outputs": [
    {
     "name": "stdout",
     "output_type": "stream",
     "text": [
      "{1, 2, 5, 6}\n"
     ]
    }
   ],
   "source": [
    "set1 = set([1, 2, 3, 4])\n",
    "set2 = set([3, 4, 5, 6])\n",
    "print(set1.symmetric_difference(set2))"
   ]
  },
  {
   "cell_type": "markdown",
   "id": "b6e88f5e",
   "metadata": {},
   "source": [
    "![set](./images/set.png)"
   ]
  },
  {
   "cell_type": "markdown",
   "id": "3a3747fc",
   "metadata": {},
   "source": [
    "### <a id=\"cast\">Converting Types with the list and set Functions</a>"
   ]
  },
  {
   "cell_type": "markdown",
   "id": "29704b8b",
   "metadata": {},
   "source": [
    "* As we mentioned it before, we can use set to extract unique data from lists.\n",
    "This can be done by casting."
   ]
  },
  {
   "cell_type": "code",
   "execution_count": 87,
   "id": "2ef36461",
   "metadata": {},
   "outputs": [
    {
     "name": "stdout",
     "output_type": "stream",
     "text": [
      "my list:  ['a', 'b', 'c', 'a', 'a', 'd', 'b']\n",
      "my set:  {'d', 'b', 'a', 'c'}\n",
      "my unique list:  ['d', 'b', 'a', 'c']\n"
     ]
    }
   ],
   "source": [
    "mylist = ['a', 'b', 'c', 'a', 'a', 'd', 'b']\n",
    "myset = set(mylist)\n",
    "my_unique_list = list(myset)\n",
    "print('my list: ', mylist)\n",
    "print('my set: ', myset)\n",
    "print('my unique list: ', my_unique_list)"
   ]
  },
  {
   "cell_type": "markdown",
   "id": "e77be31a",
   "metadata": {},
   "source": [
    "## <a id=\"dict\">Dictionaries</a>\n",
    "Dictionaries are key/value pairs of a collection of items. Unlike a list where items can only be accessed by their index or value, dictionaries use keys to identify each item.\n",
    "\n",
    "* Contain a mapping of keys to values (like a word and its corresponding definition in a dictionary)\n",
    "* The keys of a dictionary are unique, i.e. they cannot repeat\n",
    "* The values of a dictionary can be of any data type\n",
    "* The keys of a dictionary cannot be an internally modifiable type (e.g. lists, but you can use tuples)\n",
    "* Dictionaries do not store data in any particular order\n",
    "\n",
    "![dictionary](./images/dictionary.png)"
   ]
  },
  {
   "cell_type": "code",
   "execution_count": 25,
   "id": "5db359b2",
   "metadata": {},
   "outputs": [
    {
     "name": "stdout",
     "output_type": "stream",
     "text": [
      "{'firstname': 'John', 'lastname': 'Smith', 'email': 'john.doe@domain.fr'} \n",
      "\n",
      "John\n"
     ]
    }
   ],
   "source": [
    "user = {\"firstname\":\"John\", \"lastname\":\"Smith\", \"email\":\"john.doe@domain.fr\"}\n",
    "print(user, \"\\n\")\n",
    "print(user[\"firstname\"])"
   ]
  },
  {
   "cell_type": "markdown",
   "id": "633a432a",
   "metadata": {},
   "source": [
    ">**❗ NOTE:** An error is triggered if a key is absent from the dictionary."
   ]
  },
  {
   "cell_type": "code",
   "execution_count": 66,
   "id": "207a4cb2",
   "metadata": {},
   "outputs": [
    {
     "ename": "KeyError",
     "evalue": "'age'",
     "output_type": "error",
     "traceback": [
      "\u001b[1;31m---------------------------------------------------------------------------\u001b[0m",
      "\u001b[1;31mKeyError\u001b[0m                                  Traceback (most recent call last)",
      "\u001b[1;32m~\\AppData\\Local\\Temp/ipykernel_14600/3167847189.py\u001b[0m in \u001b[0;36m<module>\u001b[1;34m\u001b[0m\n\u001b[1;32m----> 1\u001b[1;33m \u001b[0mprint\u001b[0m\u001b[1;33m(\u001b[0m\u001b[0muser\u001b[0m\u001b[1;33m[\u001b[0m\u001b[1;34m\"age\"\u001b[0m\u001b[1;33m]\u001b[0m\u001b[1;33m)\u001b[0m\u001b[1;33m\u001b[0m\u001b[1;33m\u001b[0m\u001b[0m\n\u001b[0m",
      "\u001b[1;31mKeyError\u001b[0m: 'age'"
     ]
    }
   ],
   "source": [
    "print(user[\"age\"])"
   ]
  },
  {
   "cell_type": "markdown",
   "id": "458248ed",
   "metadata": {},
   "source": [
    "You can access values safely with the `get()` method, which gives back None if the key is absent and you can also supply a default values"
   ]
  },
  {
   "cell_type": "code",
   "execution_count": 67,
   "id": "dd532270",
   "metadata": {},
   "outputs": [
    {
     "name": "stdout",
     "output_type": "stream",
     "text": [
      "What about age? None\n"
     ]
    }
   ],
   "source": [
    "user = {\"firstname\":\"John\", \"lastname\":\"Smith\", \"email\":\"john.doe@domain.fr\"}\n",
    "print(\"What about age?\", user.get('age'))"
   ]
  },
  {
   "cell_type": "markdown",
   "id": "b3a22a2a",
   "metadata": {},
   "source": [
    "You can check if a key is in a dictionary with the **in operator**, and you can negate this with not"
   ]
  },
  {
   "cell_type": "code",
   "execution_count": 70,
   "id": "1c9abb8a",
   "metadata": {},
   "outputs": [
    {
     "data": {
      "text/plain": [
       "False"
      ]
     },
     "execution_count": 70,
     "metadata": {},
     "output_type": "execute_result"
    }
   ],
   "source": [
    "user = {\"firstname\":\"John\", \"lastname\":\"Smith\", \"email\":\"john.doe@domain.fr\"}\n",
    "\"age\" in user"
   ]
  },
  {
   "cell_type": "code",
   "execution_count": 71,
   "id": "42be5c48",
   "metadata": {},
   "outputs": [
    {
     "data": {
      "text/plain": [
       "True"
      ]
     },
     "execution_count": 71,
     "metadata": {},
     "output_type": "execute_result"
    }
   ],
   "source": [
    "user = {\"firstname\":\"John\", \"lastname\":\"Smith\", \"email\":\"john.doe@domain.fr\"}\n",
    "\"phone-number\" not in user"
   ]
  },
  {
   "cell_type": "markdown",
   "id": "4a45de66",
   "metadata": {},
   "source": [
    "The `len()` function gives back the number of (key, value) pairs in the dictionary"
   ]
  },
  {
   "cell_type": "code",
   "execution_count": 72,
   "id": "dbc55209",
   "metadata": {},
   "outputs": [
    {
     "name": "stdout",
     "output_type": "stream",
     "text": [
      "3\n"
     ]
    }
   ],
   "source": [
    "user = {\"firstname\":\"John\", \"lastname\":\"Smith\", \"email\":\"john.doe@domain.fr\"}\n",
    "print(len(user))"
   ]
  },
  {
   "cell_type": "markdown",
   "id": "41044f15",
   "metadata": {},
   "source": [
    "You can **introduce new entries** in the dictionary by assigning a value with a new key"
   ]
  },
  {
   "cell_type": "code",
   "execution_count": 28,
   "id": "cc9f4466",
   "metadata": {},
   "outputs": [
    {
     "name": "stdout",
     "output_type": "stream",
     "text": [
      "{'firstname': 'John', 'lastname': 'Smith', 'email': 'john.doe@domain.fr', 'age': 20}\n"
     ]
    }
   ],
   "source": [
    "user = {\"firstname\":\"John\", \"lastname\":\"Smith\", \"email\":\"john.doe@domain.fr\"}\n",
    "user[\"age\"] = 20\n",
    "print(user)"
   ]
  },
  {
   "cell_type": "markdown",
   "id": "d7a35e8c",
   "metadata": {},
   "source": [
    "You can **change the value for an existing key** by reassigning it"
   ]
  },
  {
   "cell_type": "code",
   "execution_count": 74,
   "id": "185ef42e",
   "metadata": {},
   "outputs": [
    {
     "name": "stdout",
     "output_type": "stream",
     "text": [
      "{'firstname': 'Tom', 'lastname': 'Smith', 'email': 'john.doe@domain.fr'}\n"
     ]
    }
   ],
   "source": [
    "user = {\"firstname\":\"John\", \"lastname\":\"Smith\", \"email\":\"john.doe@domain.fr\"}\n",
    "user[\"firstname\"] = \"Tom\"\n",
    "print(user)"
   ]
  },
  {
   "cell_type": "markdown",
   "id": "0acb6c1a",
   "metadata": {},
   "source": [
    "You can get a list of all the keys (in arbitrary order) using the inbuilt `keys()` function"
   ]
  },
  {
   "cell_type": "code",
   "execution_count": 76,
   "id": "a7f473be",
   "metadata": {},
   "outputs": [
    {
     "name": "stdout",
     "output_type": "stream",
     "text": [
      "['firstname', 'lastname', 'email']\n"
     ]
    }
   ],
   "source": [
    "user = {\"firstname\":\"John\", \"lastname\":\"Smith\", \"email\":\"john.doe@domain.fr\"}\n",
    "print(list(user.keys()))"
   ]
  },
  {
   "cell_type": "markdown",
   "id": "ee0c9809",
   "metadata": {},
   "source": [
    "And equivalently **get a list of the values**"
   ]
  },
  {
   "cell_type": "code",
   "execution_count": 77,
   "id": "beea0170",
   "metadata": {},
   "outputs": [
    {
     "name": "stdout",
     "output_type": "stream",
     "text": [
      "['John', 'Smith', 'john.doe@domain.fr']\n"
     ]
    }
   ],
   "source": [
    "user = {\"firstname\":\"John\", \"lastname\":\"Smith\", \"email\":\"john.doe@domain.fr\"}\n",
    "print(list(user.values()))"
   ]
  },
  {
   "cell_type": "markdown",
   "id": "625606ac",
   "metadata": {},
   "source": [
    "## <a id=\"tuple\">Tuples</a>\n",
    "\n",
    "* Can contain any number of items\n",
    "* Can contain different types of items\n",
    "* **Cannot** be altered once created (they are immutable)\n",
    "* Items have a defined order"
   ]
  },
  {
   "cell_type": "code",
   "execution_count": 82,
   "id": "4dc77754",
   "metadata": {},
   "outputs": [
    {
     "name": "stdout",
     "output_type": "stream",
     "text": [
      "(123, 54, 92)\n",
      "(2, 3, False, 'Arg', None)\n"
     ]
    }
   ],
   "source": [
    "a = (123, 54, 92) # tuple of 4 integers\n",
    "b = (2, 3, False, \"Arg\", None) # a tuple of mixed types\n",
    "\n",
    "print(a, b, sep=\"\\n\")"
   ]
  },
  {
   "cell_type": "markdown",
   "id": "7786f075",
   "metadata": {},
   "source": [
    "Use **indexing and slicing** just like we did in lists"
   ]
  },
  {
   "cell_type": "code",
   "execution_count": 85,
   "id": "c19d49ae",
   "metadata": {},
   "outputs": [
    {
     "name": "stdout",
     "output_type": "stream",
     "text": [
      "(54, 92)\n",
      "123\n"
     ]
    }
   ],
   "source": [
    "a = (123, 54, 92)\n",
    "print(a[1:3])\n",
    "print(a[0])"
   ]
  },
  {
   "cell_type": "markdown",
   "id": "cbed7487",
   "metadata": {},
   "source": [
    "### Immutability\n",
    "It can't be stressed enough that tuples are immutable. To drive that point home:"
   ]
  },
  {
   "cell_type": "code",
   "execution_count": 1,
   "id": "3d9cfd4f",
   "metadata": {},
   "outputs": [
    {
     "ename": "TypeError",
     "evalue": "'tuple' object does not support item assignment",
     "output_type": "error",
     "traceback": [
      "\u001b[1;31m---------------------------------------------------------------------------\u001b[0m",
      "\u001b[1;31mTypeError\u001b[0m                                 Traceback (most recent call last)",
      "\u001b[1;32m~\\AppData\\Local\\Temp/ipykernel_13176/3212579069.py\u001b[0m in \u001b[0;36m<module>\u001b[1;34m\u001b[0m\n\u001b[0;32m      1\u001b[0m \u001b[0ma\u001b[0m \u001b[1;33m=\u001b[0m \u001b[1;33m(\u001b[0m\u001b[1;36m123\u001b[0m\u001b[1;33m,\u001b[0m \u001b[1;36m54\u001b[0m\u001b[1;33m,\u001b[0m \u001b[1;36m92\u001b[0m\u001b[1;33m)\u001b[0m\u001b[1;33m\u001b[0m\u001b[1;33m\u001b[0m\u001b[0m\n\u001b[1;32m----> 2\u001b[1;33m \u001b[0ma\u001b[0m\u001b[1;33m[\u001b[0m\u001b[1;36m0\u001b[0m\u001b[1;33m]\u001b[0m \u001b[1;33m=\u001b[0m \u001b[1;36m24\u001b[0m\u001b[1;33m\u001b[0m\u001b[1;33m\u001b[0m\u001b[0m\n\u001b[0m",
      "\u001b[1;31mTypeError\u001b[0m: 'tuple' object does not support item assignment"
     ]
    }
   ],
   "source": [
    "a = (123, 54, 92)\n",
    "a[0] = 24"
   ]
  },
  {
   "cell_type": "markdown",
   "id": "71bcbd92",
   "metadata": {},
   "source": [
    "Because of this immutability, tuples can't grow. Once a tuple is made we can not add to it."
   ]
  },
  {
   "cell_type": "code",
   "execution_count": 2,
   "id": "87292ce1",
   "metadata": {},
   "outputs": [
    {
     "ename": "AttributeError",
     "evalue": "'tuple' object has no attribute 'append'",
     "output_type": "error",
     "traceback": [
      "\u001b[1;31m---------------------------------------------------------------------------\u001b[0m",
      "\u001b[1;31mAttributeError\u001b[0m                            Traceback (most recent call last)",
      "\u001b[1;32m~\\AppData\\Local\\Temp/ipykernel_13176/1944319275.py\u001b[0m in \u001b[0;36m<module>\u001b[1;34m\u001b[0m\n\u001b[1;32m----> 1\u001b[1;33m \u001b[0ma\u001b[0m\u001b[1;33m.\u001b[0m\u001b[0mappend\u001b[0m\u001b[1;33m(\u001b[0m\u001b[1;36m2\u001b[0m\u001b[1;33m)\u001b[0m\u001b[1;33m\u001b[0m\u001b[1;33m\u001b[0m\u001b[0m\n\u001b[0m",
      "\u001b[1;31mAttributeError\u001b[0m: 'tuple' object has no attribute 'append'"
     ]
    }
   ],
   "source": [
    "a.append(2)"
   ]
  },
  {
   "cell_type": "markdown",
   "id": "1c60b6a4",
   "metadata": {},
   "source": [
    "## Conclusion\n",
    "![collections2](./images/collections_2.png)"
   ]
  },
  {
   "cell_type": "markdown",
   "id": "4e90eff3",
   "metadata": {},
   "source": [
    "## <a id=\"string\">Strings</a>\n",
    "Strings are ordered text based data which are represented by enclosing the same in single/double/triple quotes."
   ]
  },
  {
   "cell_type": "code",
   "execution_count": 101,
   "id": "69e0dc6e",
   "metadata": {
    "scrolled": true
   },
   "outputs": [
    {
     "name": "stdout",
     "output_type": "stream",
     "text": [
      "My name is Python\n",
      "My name is Python\n",
      "My name\n",
      "is\n",
      "Python\n"
     ]
    }
   ],
   "source": [
    "string0 = 'My name is Python'\n",
    "string1 = \"My name is Python\"\n",
    "string2 = '''My name\n",
    "is\n",
    "Python'''\n",
    "print(string0, string1, string2, sep=\"\\n\")"
   ]
  },
  {
   "cell_type": "markdown",
   "id": "7b0c6ff5",
   "metadata": {},
   "source": [
    ">**❗ NOTE:** Strings are a lot like tuples of characters, and individual characters and substrings can be accessed and manipulated using similar operations we introduced above."
   ]
  },
  {
   "cell_type": "code",
   "execution_count": 102,
   "id": "01e87b1b",
   "metadata": {},
   "outputs": [
    {
     "name": "stdout",
     "output_type": "stream",
     "text": [
      "A\n",
      "G\n",
      "ABCDEF\n",
      "True\n",
      "True\n",
      "8\n"
     ]
    }
   ],
   "source": [
    "text = \"ABCDEFGH\"\n",
    "print(text[0])\n",
    "print(text[-2])\n",
    "print(text[0:6])\n",
    "print(\"EFG\" in text)\n",
    "print(\"ABC\" in text)\n",
    "print(len(text))"
   ]
  },
  {
   "cell_type": "markdown",
   "id": "56fa6f3d",
   "metadata": {},
   "source": [
    "### Built-in Functions for Strings"
   ]
  },
  {
   "cell_type": "code",
   "execution_count": 106,
   "id": "7ca5a22f",
   "metadata": {},
   "outputs": [
    {
     "name": "stdout",
     "output_type": "stream",
     "text": [
      "hermes 6\n",
      "Hermes\n",
      "HERMES\n",
      "hermes\n"
     ]
    }
   ],
   "source": [
    "word = \"hermes\"\n",
    "print(word, len(word))\n",
    "print(word.capitalize())\n",
    "print(word.upper())\n",
    "print(word.lower())"
   ]
  },
  {
   "cell_type": "markdown",
   "id": "09ad0443",
   "metadata": {},
   "source": [
    "`find( )` function returns the index value of the given data that is to found in the string. If it is not found it returns -1.\n",
    ">**❗ NOTE:**\n",
    "> *  Remember to not confuse the returned **-1** for reverse indexing value.\n",
    "> * The index value returned is the index of the first element in the input data."
   ]
  },
  {
   "cell_type": "code",
   "execution_count": 109,
   "id": "56d2ef9e",
   "metadata": {},
   "outputs": [
    {
     "name": "stdout",
     "output_type": "stream",
     "text": [
      "2\n"
     ]
    }
   ],
   "source": [
    "word = \"hermes\"\n",
    "print(word.find(\"rm\"))"
   ]
  },
  {
   "cell_type": "markdown",
   "id": "480a74c1",
   "metadata": {},
   "source": [
    "`join( )` function can be used to convert a list into a string."
   ]
  },
  {
   "cell_type": "code",
   "execution_count": 112,
   "id": "a401a1a5",
   "metadata": {},
   "outputs": [
    {
     "name": "stdout",
     "output_type": "stream",
     "text": [
      "my name is python\n"
     ]
    }
   ],
   "source": [
    "my_list = [\"my\", \"name\", \"is\", \"python\"]\n",
    "print(\" \".join(my_list))"
   ]
  },
  {
   "cell_type": "markdown",
   "id": "344bcb25",
   "metadata": {},
   "source": [
    "`split()` function is used to convert a string back to a list. Think of it as the opposite of the join() function."
   ]
  },
  {
   "cell_type": "code",
   "execution_count": 113,
   "id": "e548aa66",
   "metadata": {},
   "outputs": [
    {
     "name": "stdout",
     "output_type": "stream",
     "text": [
      "['my', 'name', 'is', 'python']\n"
     ]
    }
   ],
   "source": [
    "text = \"my name is python\"\n",
    "print(text.split(\" \"))"
   ]
  },
  {
   "cell_type": "markdown",
   "id": "09854daa",
   "metadata": {},
   "source": [
    "`replace( )` function replaces the element with another element."
   ]
  },
  {
   "cell_type": "code",
   "execution_count": 115,
   "id": "8d8fe626",
   "metadata": {},
   "outputs": [
    {
     "name": "stdout",
     "output_type": "stream",
     "text": [
      "my name is hermes\n"
     ]
    }
   ],
   "source": [
    "text = \"my name is python\"\n",
    "print(text.replace('python', 'hermes'))"
   ]
  },
  {
   "cell_type": "markdown",
   "id": "d864884c",
   "metadata": {},
   "source": [
    "You can also apply simple operators to your variables, or assign multiple variables simultaneously."
   ]
  },
  {
   "cell_type": "code",
   "execution_count": 119,
   "id": "b562fd94",
   "metadata": {},
   "outputs": [
    {
     "name": "stdout",
     "output_type": "stream",
     "text": [
      "3\n",
      "Hello, World!\n"
     ]
    }
   ],
   "source": [
    "one = 1\n",
    "two = 2\n",
    "three = one + two\n",
    "print(three)\n",
    "\n",
    "hello = \"Hello,\"\n",
    "world = \"World!\"\n",
    "helloworld = hello + \" \" + world\n",
    "print(helloworld)"
   ]
  },
  {
   "cell_type": "markdown",
   "id": "422085a6",
   "metadata": {},
   "source": [
    "> **❗ NOTE:** mixing variable types causes problems."
   ]
  },
  {
   "cell_type": "code",
   "execution_count": 120,
   "id": "66066087",
   "metadata": {},
   "outputs": [
    {
     "ename": "TypeError",
     "evalue": "unsupported operand type(s) for +: 'int' and 'str'",
     "output_type": "error",
     "traceback": [
      "\u001b[1;31m---------------------------------------------------------------------------\u001b[0m",
      "\u001b[1;31mTypeError\u001b[0m                                 Traceback (most recent call last)",
      "\u001b[1;32m~\\AppData\\Local\\Temp/ipykernel_14600/3587869154.py\u001b[0m in \u001b[0;36m<module>\u001b[1;34m\u001b[0m\n\u001b[0;32m      2\u001b[0m \u001b[0mtwo\u001b[0m \u001b[1;33m=\u001b[0m \u001b[1;36m2\u001b[0m\u001b[1;33m\u001b[0m\u001b[1;33m\u001b[0m\u001b[0m\n\u001b[0;32m      3\u001b[0m \u001b[0mhello\u001b[0m \u001b[1;33m=\u001b[0m \u001b[1;34m\"HEllo\"\u001b[0m\u001b[1;33m\u001b[0m\u001b[1;33m\u001b[0m\u001b[0m\n\u001b[1;32m----> 4\u001b[1;33m \u001b[0mprint\u001b[0m\u001b[1;33m(\u001b[0m\u001b[0mone\u001b[0m \u001b[1;33m+\u001b[0m \u001b[0mtwo\u001b[0m \u001b[1;33m+\u001b[0m \u001b[0mhello\u001b[0m\u001b[1;33m)\u001b[0m\u001b[1;33m\u001b[0m\u001b[1;33m\u001b[0m\u001b[0m\n\u001b[0m",
      "\u001b[1;31mTypeError\u001b[0m: unsupported operand type(s) for +: 'int' and 'str'"
     ]
    }
   ],
   "source": [
    "one = 1\n",
    "two = 2\n",
    "hello = \"HEllo\"\n",
    "print(one + two + hello)"
   ]
  },
  {
   "cell_type": "markdown",
   "id": "23ff1307",
   "metadata": {},
   "source": [
    "> **🌟 SOLUTION:** Add variables to a string with `format`"
   ]
  },
  {
   "cell_type": "markdown",
   "id": "caab175f",
   "metadata": {},
   "source": [
    "### String formatting\n",
    "Python 3 introduced a new way to do string formatting that was later back-ported to Python 2.7. This makes the syntax for string formatting more regular."
   ]
  },
  {
   "cell_type": "code",
   "execution_count": 116,
   "id": "9c4a7358",
   "metadata": {},
   "outputs": [
    {
     "data": {
      "text/plain": [
       "'Insert another Bootcamp with curly brackets: The Machine Learning BootCamp!'"
      ]
     },
     "execution_count": 116,
     "metadata": {},
     "output_type": "execute_result"
    }
   ],
   "source": [
    "'Insert another Bootcamp with curly brackets: {}'.format('The Machine Learning BootCamp!')"
   ]
  },
  {
   "cell_type": "code",
   "execution_count": 118,
   "id": "b0c89e4e",
   "metadata": {},
   "outputs": [
    {
     "data": {
      "text/plain": [
       "\"Hello I'm Sevda, my age is 20\""
      ]
     },
     "execution_count": 118,
     "metadata": {},
     "output_type": "execute_result"
    }
   ],
   "source": [
    "name = 'Sevda'\n",
    "age = 20\n",
    "\n",
    "\"Hello I'm {}, my age is {}\".format(name, age)"
   ]
  },
  {
   "cell_type": "markdown",
   "id": "6219956d",
   "metadata": {},
   "source": [
    "* we can also format floating point numbers with `format`"
   ]
  },
  {
   "cell_type": "code",
   "execution_count": 121,
   "id": "01f9b551",
   "metadata": {},
   "outputs": [
    {
     "name": "stdout",
     "output_type": "stream",
     "text": [
      "Unformated variable: 33.33333333333333%\n",
      "Formatted variable: 33.33%\n"
     ]
    }
   ],
   "source": [
    "variable = 1/3 * 100\n",
    "print(\"Unformated variable: {}%\".format(variable))\n",
    "print(\"Formatted variable: {:.2f}%\".format(variable))"
   ]
  },
  {
   "cell_type": "markdown",
   "id": "6ceafba8",
   "metadata": {},
   "source": [
    "## <a id=\"conditional\">Conditional execution</a>\n",
    "### What is an if statement?\n",
    "A conditional if statement is used to specify that some block of code should only be executed if some associated test is upheld."
   ]
  },
  {
   "cell_type": "code",
   "execution_count": 6,
   "id": "c57ae1b2",
   "metadata": {},
   "outputs": [
    {
     "name": "stdout",
     "output_type": "stream",
     "text": [
      "5 is a positive number.\n"
     ]
    }
   ],
   "source": [
    "num = 5\n",
    "if num > 0:\n",
    "    print(num, \"is a positive number.\")\n",
    "\n",
    "num = -2\n",
    "if num > 0:\n",
    "    print(num, \"is a positive number.\")"
   ]
  },
  {
   "cell_type": "markdown",
   "id": "49339d60",
   "metadata": {},
   "source": [
    "### Comparison Operators  \n",
    "\n",
    "| Operator | Meaning                  |\n",
    "| -------- | ------------------------ |\n",
    "| `==`     | Equal to                 |\n",
    "| `!=`     | Not equal to             |\n",
    "| `<`      | Less than                |\n",
    "| `>`      | Greater Than             |\n",
    "| `<=`     | Less than or Equal to    |\n",
    "| `>=`     | Greater than or Equal to |\n",
    "\n",
    "These operators evaluate to True or False depending on the values you give them.\n"
   ]
  },
  {
   "cell_type": "code",
   "execution_count": 4,
   "id": "bd28d94a",
   "metadata": {},
   "outputs": [
    {
     "data": {
      "text/plain": [
       "True"
      ]
     },
     "execution_count": 4,
     "metadata": {},
     "output_type": "execute_result"
    }
   ],
   "source": [
    "'dog' != 'cat'"
   ]
  },
  {
   "cell_type": "markdown",
   "id": "cd5096f9",
   "metadata": {},
   "source": [
    ">**❗ NOTE:** Python interprets non-zero values as True. None and 0 are interpreted as False."
   ]
  },
  {
   "cell_type": "markdown",
   "id": "bc228abf",
   "metadata": {},
   "source": [
    "### else Statements"
   ]
  },
  {
   "cell_type": "code",
   "execution_count": 7,
   "id": "19e61ff0",
   "metadata": {},
   "outputs": [
    {
     "name": "stdout",
     "output_type": "stream",
     "text": [
      "Hello, stranger.\n"
     ]
    }
   ],
   "source": [
    "name = 'Bob'\n",
    "if name == 'Alice':\n",
    "    print('Hi, Alice.')\n",
    "else:\n",
    "    print('Hello, stranger.')"
   ]
  },
  {
   "cell_type": "markdown",
   "id": "54e74315",
   "metadata": {},
   "source": [
    "### elif Statements"
   ]
  },
  {
   "cell_type": "code",
   "execution_count": 11,
   "id": "6c3b3363",
   "metadata": {},
   "outputs": [
    {
     "name": "stdout",
     "output_type": "stream",
     "text": [
      "Zero\n"
     ]
    }
   ],
   "source": [
    "num = 0\n",
    "\n",
    "if num > 0:\n",
    "    print(\"Positive number\")\n",
    "elif num == 0:\n",
    "    print(\"Zero\")\n",
    "else:\n",
    "    print(\"Negative number\")"
   ]
  },
  {
   "cell_type": "markdown",
   "id": "3e44a52b",
   "metadata": {},
   "source": [
    "### and, or, not\n",
    "Well say for instance you want to write some code that returns a number that is divisible by 5 **OR** divisible by 10. Maybe you want to write some code that checks if a number is odd **AND** also a perfect square"
   ]
  },
  {
   "cell_type": "code",
   "execution_count": 14,
   "id": "fbfef011",
   "metadata": {},
   "outputs": [
    {
     "name": "stdout",
     "output_type": "stream",
     "text": [
      "True\n"
     ]
    }
   ],
   "source": [
    "x = 10\n",
    "print(x > 9 and x < 11)  # is x greater than 9 AND less than 11."
   ]
  },
  {
   "cell_type": "markdown",
   "id": "51f20b22",
   "metadata": {},
   "source": [
    "## <a id=\"loop\">For-loops</a>\n",
    "A `for` loop is used for iterating over a sequence (that is either a list, a tuple, a dictionary, a set, or a string)."
   ]
  },
  {
   "cell_type": "code",
   "execution_count": 19,
   "id": "6408076f",
   "metadata": {},
   "outputs": [
    {
     "name": "stdout",
     "output_type": "stream",
     "text": [
      "1 2 3 4 5 6 7 8 9 "
     ]
    }
   ],
   "source": [
    "numbers = [1, 2, 3, 4, 5, 6, 7, 8, 9]\n",
    "\n",
    "for x in numbers:\n",
    "    print(x, end=\" \")"
   ]
  },
  {
   "cell_type": "markdown",
   "id": "f9f926ab",
   "metadata": {},
   "source": [
    "### Loop with range function\n",
    "\n",
    "- It generates arithmetic progressions\n",
    "- It is possible to let the range start at another number, or to specify a different increment.\n",
    "- Since Python 3, the object returned by `range()` doesn’t return a list to save memory space. `xrange` no longer exists.\n",
    "- Use function list() to creates it."
   ]
  },
  {
   "cell_type": "code",
   "execution_count": 42,
   "id": "db446cf1",
   "metadata": {},
   "outputs": [
    {
     "data": {
      "text/plain": [
       "[1, 3, 5, 7, 9]"
      ]
     },
     "execution_count": 42,
     "metadata": {},
     "output_type": "execute_result"
    }
   ],
   "source": [
    "list(range(1,10,2))"
   ]
  },
  {
   "cell_type": "code",
   "execution_count": 26,
   "id": "90dcf74f",
   "metadata": {},
   "outputs": [
    {
     "name": "stdout",
     "output_type": "stream",
     "text": [
      "0 1 4 9 16 25 36 49 "
     ]
    }
   ],
   "source": [
    "for x in range(8):\n",
    "    print(x*x, end = \" \")"
   ]
  },
  {
   "cell_type": "markdown",
   "id": "d7e32954",
   "metadata": {},
   "source": [
    "### The `while` loop\n",
    "`while` execute while a particular condition is `True`.\n"
   ]
  },
  {
   "cell_type": "code",
   "execution_count": 43,
   "id": "cbe539ac",
   "metadata": {},
   "outputs": [
    {
     "name": "stdout",
     "output_type": "stream",
     "text": [
      "0\n",
      "1\n",
      "2\n",
      "3\n",
      "4\n"
     ]
    }
   ],
   "source": [
    "count = 0\n",
    "while count < 5:\n",
    "    print(count)\n",
    "    count += 1 # A shorthand for count = count + 1"
   ]
  },
  {
   "cell_type": "markdown",
   "id": "535236aa",
   "metadata": {},
   "source": [
    "> **⛔NOTE**: When looping, never modify the collection!** Always create a copy of it first."
   ]
  },
  {
   "cell_type": "markdown",
   "id": "0a26926a",
   "metadata": {},
   "source": [
    "### Skipping and breaking loops\n",
    "\n",
    "* **break** Statements: If the execution reaches a break statement, it immediately exits the while loop’s clause.\n",
    "* **continue** Statements: When the program execution reaches a continue statement, the program execution immediately jumps back to the start of the loop."
   ]
  },
  {
   "cell_type": "code",
   "execution_count": 30,
   "id": "9b7a3871",
   "metadata": {},
   "outputs": [
    {
     "name": "stdout",
     "output_type": "stream",
     "text": [
      "10\n",
      "3\n",
      "7\n"
     ]
    }
   ],
   "source": [
    "#print positive integers in a list\n",
    "values = [10, -5, 3, -1, 7]\n",
    "\n",
    "for v in values:\n",
    "    if v < 0:\n",
    "        continue # Skip this iteration   \n",
    "    print(v)"
   ]
  },
  {
   "cell_type": "code",
   "execution_count": 31,
   "id": "6f5cc6ce",
   "metadata": {},
   "outputs": [
    {
     "name": "stdout",
     "output_type": "stream",
     "text": [
      "0\n",
      "1\n",
      "2\n",
      "3\n",
      "4\n",
      "5\n",
      "6\n",
      "7\n"
     ]
    }
   ],
   "source": [
    "for i in range(100):\n",
    "    print (i)\n",
    "    if i>=7:\n",
    "        break"
   ]
  },
  {
   "cell_type": "markdown",
   "id": "de1efaaf",
   "metadata": {},
   "source": [
    "###  ✨Your First Python Toy Game ✨"
   ]
  },
  {
   "cell_type": "code",
   "execution_count": 44,
   "id": "44ec16f4",
   "metadata": {},
   "outputs": [
    {
     "name": "stdout",
     "output_type": "stream",
     "text": [
      "I am thinking of a number between 1 and 20\n",
      "You have 6 changes\n",
      "Take a guess\n",
      "10\n",
      "too low, try again!\n",
      "Take a guess\n",
      "15\n",
      "too low, try again!\n",
      "Take a guess\n",
      "18\n",
      "too low, try again!\n",
      "Take a guess\n",
      "19\n",
      "too low, try again!\n",
      "Take a guess\n",
      "20\n",
      "Good job! You guessed my number 20 in 5 guesses\n"
     ]
    }
   ],
   "source": [
    "# Guess a number\n",
    "import random\n",
    "\n",
    "secretNumber = random.randint(1, 20)\n",
    "print(\"I am thinking of a number between 1 and 20\")\n",
    "\n",
    "print(\"You have 6 changes\")\n",
    "for guessesTaken in range(1,7):\n",
    "    print(\"Take a guess\")\n",
    "    guess = int(input())\n",
    "    \n",
    "    # check with stored secretNumber\n",
    "    if guess < secretNumber:\n",
    "        print(\"too low, try again!\")\n",
    "    elif guess > secretNumber:\n",
    "        print(\"too high, try again!\")\n",
    "    else:\n",
    "        break\n",
    "\n",
    "if guess == secretNumber:\n",
    "    print(\"Good job! You guessed my number {} in {} guesses\".format(secretNumber, guessesTaken))\n",
    "else:\n",
    "    print(\"Sorry, I was thinking of {}\".format(secretNumber))"
   ]
  },
  {
   "cell_type": "markdown",
   "id": "1c38be96",
   "metadata": {},
   "source": [
    "## <a id=\"list_comprehension\">List Comprehensions</a>\n",
    "Python makes it simple to generate a required list with a single line of code using list comprehensions."
   ]
  },
  {
   "cell_type": "markdown",
   "id": "ea8d7093",
   "metadata": {},
   "source": [
    "* Create a list using for loop"
   ]
  },
  {
   "cell_type": "code",
   "execution_count": 50,
   "id": "623a0689",
   "metadata": {},
   "outputs": [
    {
     "name": "stdout",
     "output_type": "stream",
     "text": [
      "[0, 1, 4, 9, 16, 25, 36, 49, 64, 81]\n"
     ]
    }
   ],
   "source": [
    "sq = []\n",
    "for i in range(10):\n",
    "    sq.append(i**2)\n",
    "print(sq)"
   ]
  },
  {
   "cell_type": "markdown",
   "id": "55e75a27",
   "metadata": {},
   "source": [
    "* Create a list using comprehension"
   ]
  },
  {
   "cell_type": "code",
   "execution_count": 49,
   "id": "6559de69",
   "metadata": {},
   "outputs": [
    {
     "name": "stdout",
     "output_type": "stream",
     "text": [
      "[0, 1, 4, 9, 16, 25, 36, 49, 64, 81]\n"
     ]
    }
   ],
   "source": [
    "# Finding squares using list comprehensions\n",
    "# inline for loop\n",
    "sq = [i**2 for i in range(10)]\n",
    "print(sq)"
   ]
  },
  {
   "cell_type": "markdown",
   "id": "acbe4b1a",
   "metadata": {},
   "source": [
    "> **❗ NOTE:** You can also filter elements in a list using comprehension"
   ]
  },
  {
   "cell_type": "code",
   "execution_count": 37,
   "id": "150dcfd5",
   "metadata": {},
   "outputs": [
    {
     "name": "stdout",
     "output_type": "stream",
     "text": [
      "[0, 1, 4, 9, 16]\n"
     ]
    }
   ],
   "source": [
    "sq = [i**2 for i in range(10) if i < 5]\n",
    "print(sq)"
   ]
  },
  {
   "cell_type": "markdown",
   "id": "e53217e6",
   "metadata": {},
   "source": [
    "## <a id=\"func\">Functions</a>\n",
    "Functions allow you to take code that is repeated and move it to a module that can be called when needed. Functions are defined with the `def` keyword and must be declared before the function is called in your code. Functions can accept parameters and return values."
   ]
  },
  {
   "cell_type": "code",
   "execution_count": 38,
   "id": "59478ce5",
   "metadata": {},
   "outputs": [
    {
     "name": "stdout",
     "output_type": "stream",
     "text": [
      "Hello world!\n"
     ]
    }
   ],
   "source": [
    "def sayHello():\n",
    "    print('Hello world!')\n",
    "    \n",
    "sayHello()"
   ]
  },
  {
   "cell_type": "markdown",
   "id": "311cc55a",
   "metadata": {},
   "source": [
    "we can add a argument within the function"
   ]
  },
  {
   "cell_type": "code",
   "execution_count": 39,
   "id": "3b227eb1",
   "metadata": {},
   "outputs": [
    {
     "name": "stdout",
     "output_type": "stream",
     "text": [
      "Hello Hermes!\n"
     ]
    }
   ],
   "source": [
    "def sayHello(name):\n",
    "    print('Hello {}!'.format(name))\n",
    "    \n",
    "sayHello('Hermes')"
   ]
  },
  {
   "cell_type": "markdown",
   "id": "4ed797f5",
   "metadata": {},
   "source": [
    "The return statement on Functions"
   ]
  },
  {
   "cell_type": "code",
   "execution_count": 40,
   "id": "5781ccbe",
   "metadata": {},
   "outputs": [
    {
     "name": "stdout",
     "output_type": "stream",
     "text": [
      "12\n"
     ]
    }
   ],
   "source": [
    "#multiply two numbers using a python function\n",
    "def multiply(x,y):\n",
    "    z = x*y\n",
    "    return z\n",
    "\n",
    "#call the function to multiply the numbers 2 and 3\n",
    "result = multiply(4,3)\n",
    "print(result)"
   ]
  },
  {
   "cell_type": "markdown",
   "id": "33b30677",
   "metadata": {},
   "source": [
    "### Default arguments\n",
    "Sometimes it is useful to give some arguments a default value that the caller can override, but which will be used if the caller does not supply a value for this argument. We can do this by assigning some value to the named argument with the `=` \n",
    "operator in the function definition."
   ]
  },
  {
   "cell_type": "code",
   "execution_count": 41,
   "id": "1c52c662",
   "metadata": {},
   "outputs": [
    {
     "name": "stdout",
     "output_type": "stream",
     "text": [
      "Running simulation for 1000 steps\n",
      "Running simulation for 500 steps\n"
     ]
    }
   ],
   "source": [
    "def runSimulation(nsteps=1000):\n",
    "    print(\"Running simulation for\", nsteps, \"steps\")\n",
    "\n",
    "runSimulation()\n",
    "runSimulation(500)"
   ]
  },
  {
   "cell_type": "markdown",
   "id": "c9d5016a",
   "metadata": {},
   "source": [
    "> **⛔ NOTE**: Don't use mutable objects as default arguments!"
   ]
  },
  {
   "cell_type": "markdown",
   "id": "ce47f872",
   "metadata": {},
   "source": [
    "## <a id=\"error\">Errors and Exceptions Handling</a>\n",
    "\n",
    "> Errors should never pass silently. Unless explicitly silenced. ~ Zen of Python  \n",
    "\n",
    "The basic terminology and syntax used to handle errors in Python is the `try` and `except` statements.\n",
    "![errors](./images/errors.png) "
   ]
  },
  {
   "cell_type": "markdown",
   "id": "03766b00",
   "metadata": {},
   "source": [
    "### finally\n",
    "The `finally` block of code will always be run regardless if there was an exception in the try code block"
   ]
  },
  {
   "cell_type": "code",
   "execution_count": 51,
   "id": "e69e55b0",
   "metadata": {},
   "outputs": [
    {
     "name": "stdout",
     "output_type": "stream",
     "text": [
      "Something really went wrong\n",
      "This always runs on success or failure\n"
     ]
    }
   ],
   "source": [
    "x = 42\n",
    "y = 0\n",
    "try:\n",
    "    print(x / y)\n",
    "except:\n",
    "    print('Something really went wrong')\n",
    "finally:\n",
    "    print('This always runs on success or failure')"
   ]
  },
  {
   "cell_type": "code",
   "execution_count": 53,
   "id": "6400175b",
   "metadata": {},
   "outputs": [
    {
     "name": "stdout",
     "output_type": "stream",
     "text": [
      "2.0\n",
      "2.5\n",
      "3.3333333333333335\n",
      "5.0\n",
      "10.0\n"
     ]
    },
    {
     "ename": "ZeroDivisionError",
     "evalue": "division by zero",
     "output_type": "error",
     "traceback": [
      "\u001b[1;31m---------------------------------------------------------------------------\u001b[0m",
      "\u001b[1;31mZeroDivisionError\u001b[0m                         Traceback (most recent call last)",
      "\u001b[1;32m~\\AppData\\Local\\Temp/ipykernel_5272/404072395.py\u001b[0m in \u001b[0;36m<module>\u001b[1;34m\u001b[0m\n\u001b[0;32m      1\u001b[0m \u001b[1;32mfor\u001b[0m \u001b[0mi\u001b[0m \u001b[1;32min\u001b[0m \u001b[0mrange\u001b[0m\u001b[1;33m(\u001b[0m\u001b[1;36m10\u001b[0m\u001b[1;33m)\u001b[0m\u001b[1;33m:\u001b[0m\u001b[1;33m\u001b[0m\u001b[1;33m\u001b[0m\u001b[0m\n\u001b[1;32m----> 2\u001b[1;33m     \u001b[0ma\u001b[0m \u001b[1;33m=\u001b[0m \u001b[1;36m10\u001b[0m\u001b[1;33m/\u001b[0m\u001b[1;33m(\u001b[0m\u001b[1;36m5\u001b[0m \u001b[1;33m-\u001b[0m \u001b[0mi\u001b[0m\u001b[1;33m)\u001b[0m\u001b[1;33m\u001b[0m\u001b[1;33m\u001b[0m\u001b[0m\n\u001b[0m\u001b[0;32m      3\u001b[0m     \u001b[0mprint\u001b[0m\u001b[1;33m(\u001b[0m\u001b[0ma\u001b[0m\u001b[1;33m)\u001b[0m\u001b[1;33m\u001b[0m\u001b[1;33m\u001b[0m\u001b[0m\n",
      "\u001b[1;31mZeroDivisionError\u001b[0m: division by zero"
     ]
    }
   ],
   "source": [
    "for i in range(10):   \n",
    "    a = 10/(5 - i)\n",
    "    print(a)"
   ]
  },
  {
   "cell_type": "code",
   "execution_count": 56,
   "id": "39bb8404",
   "metadata": {},
   "outputs": [
    {
     "name": "stdout",
     "output_type": "stream",
     "text": [
      "2.0\n",
      "2.5\n",
      "3.3333333333333335\n",
      "5.0\n",
      "10.0\n",
      "error in this index: 5\n",
      "-10.0\n",
      "-5.0\n",
      "-3.3333333333333335\n",
      "-2.5\n"
     ]
    }
   ],
   "source": [
    "for i in range(10):  \n",
    "    try:\n",
    "        a = 10/(5 - i)\n",
    "        print(a)\n",
    "    except:\n",
    "        print(\"error in this index: {}\".format(i))"
   ]
  },
  {
   "cell_type": "markdown",
   "id": "e8ffe44d",
   "metadata": {},
   "source": [
    "## 🎉 Congratulation! You reached the end of the python notebook!"
   ]
  }
 ],
 "metadata": {
  "kernelspec": {
   "display_name": "Python 3 (ipykernel)",
   "language": "python",
   "name": "python3"
  },
  "language_info": {
   "codemirror_mode": {
    "name": "ipython",
    "version": 3
   },
   "file_extension": ".py",
   "mimetype": "text/x-python",
   "name": "python",
   "nbconvert_exporter": "python",
   "pygments_lexer": "ipython3",
   "version": "3.8.2"
  }
 },
 "nbformat": 4,
 "nbformat_minor": 5
}
